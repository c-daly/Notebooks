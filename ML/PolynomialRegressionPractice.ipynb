{
  "nbformat": 4,
  "nbformat_minor": 0,
  "metadata": {
    "colab": {
      "name": "PolynomialRegressionPractice.ipynb",
      "provenance": [],
      "collapsed_sections": [],
      "toc_visible": true,
      "authorship_tag": "ABX9TyNQcPKD23/MhiptGxnWMedg",
      "include_colab_link": true
    },
    "kernelspec": {
      "display_name": "Python 3",
      "name": "python3"
    },
    "language_info": {
      "name": "python"
    }
  },
  "cells": [
    {
      "cell_type": "markdown",
      "metadata": {
        "id": "view-in-github",
        "colab_type": "text"
      },
      "source": [
        "<a href=\"https://colab.research.google.com/github/c-daly/Notebooks/blob/main/ML/PolynomialRegressionPractice.ipynb\" target=\"_parent\"><img src=\"https://colab.research.google.com/assets/colab-badge.svg\" alt=\"Open In Colab\"/></a>"
      ]
    },
    {
      "cell_type": "markdown",
      "metadata": {
        "id": "O_g1FdiYdKNo"
      },
      "source": [
        "**Imports**\n"
      ]
    },
    {
      "cell_type": "code",
      "metadata": {
        "id": "-sSDbOKTdJQx"
      },
      "source": [
        "import numpy as np\n",
        "from matplotlib import pyplot as plt\n"
      ],
      "execution_count": null,
      "outputs": []
    },
    {
      "cell_type": "markdown",
      "metadata": {
        "id": "t6faXijAQgxH"
      },
      "source": [
        "**Initial Values and Baseline Plot**"
      ]
    },
    {
      "cell_type": "code",
      "metadata": {
        "colab": {
          "base_uri": "https://localhost:8080/",
          "height": 284
        },
        "id": "lSfZDp5HQPjG",
        "outputId": "57bc20fb-cb54-4d28-9cad-ec2f54ee3bbd"
      },
      "source": [
        "\n",
        "x = np.random.uniform(0, 1, 8)\n",
        "y = [] \n",
        "for value in x:\n",
        "  noise = np.random.normal(0, 0.1)\n",
        "  y.append(1 + (2 * value) - (2 * value * value) + noise)\n",
        "\n",
        "true_x = np.linspace(0, 1, 1000)\n",
        "true_y = 1 + (2 * true_x) - (2 * true_x ** 2) \n",
        "plt.plot(true_x, true_y)\n",
        "plt.plot(x, y, 'ro')"
      ],
      "execution_count": null,
      "outputs": [
        {
          "output_type": "execute_result",
          "data": {
            "text/plain": [
              "[<matplotlib.lines.Line2D at 0x7f9f8dd573d0>]"
            ]
          },
          "metadata": {},
          "execution_count": 215
        },
        {
          "output_type": "display_data",
          "data": {
            "image/png": "[encoded data removed]",
            "text/plain": [
              "<Figure size 432x288 with 1 Axes>"
            ]
          },
          "metadata": {
            "needs_background": "light"
          }
        }
      ]
    },
    {
      "cell_type": "markdown",
      "metadata": {
        "id": "WnnjI-MSQXdB"
      },
      "source": [
        "**Helper Methods**"
      ]
    },
    {
      "cell_type": "code",
      "metadata": {
        "id": "yTubnX4itj7m"
      },
      "source": [
        "def create_x_and_y(n=8):\n",
        "  x = np.random.uniform(0, 1, n)\n",
        "  y = [] \n",
        "\n",
        "  for value in x:\n",
        "    noise = np.random.normal(0, 0.1)\n",
        "    y.append(1 + (2 * value) - (2 * value ** 2) + np.random.normal(0, 0.1))\n",
        "    \n",
        "  return np.array(x), np.array(y)\n",
        "\n",
        "def get_Y_from_X(X):\n",
        "  y = []\n",
        "  for value in X:\n",
        "    noise = np.random.normal(0, 0.1)\n",
        "    y.append(1 + (2 * value) - (2 * value ** 2) + np.random.normal(0, 0.1))\n",
        "  \n",
        "  print(y)\n",
        "  return np.array(y)\n",
        "\n",
        "def x_matrix_row(x, degree):\n",
        "  \n",
        "  row = []\n",
        "  if degree >= 0:\n",
        "    row.append(1)\n",
        "  if degree >= 1:\n",
        "    row.append(x)\n",
        "  if degree >= 2:\n",
        "    row.append(x ** 2)\n",
        "  if degree >= 3:\n",
        "    row.append(x ** 3)\n",
        "  if degree >= 4:\n",
        "    row.append(x ** 4)\n",
        "  if degree >= 5:\n",
        "    row.append(x ** 5)\n",
        "  if degree >= 6:\n",
        "    row.append(x ** 6)\n",
        "  if degree >= 7:\n",
        "    row.append(x ** 7)\n",
        "  return row\n",
        "\n",
        "def populate_x_matrix(x, degree):\n",
        "  X = []\n",
        "  for val in x:\n",
        "    X.append(x_matrix_row(val, degree))\n",
        "  \n",
        "  return np.array(X)\n",
        "\n",
        "def solve_normal_equations(X, Y):\n",
        "  XTX = np.dot(X.T, X)\n",
        "  XTY = np.dot(X.T, Y)\n",
        "  return np.linalg.solve(XTX,XTY)\n",
        "\n",
        "def construct_y_from_x_matrix(X):\n",
        "  for cur_x in X:\n",
        "    print(cur_x)\n",
        "  return\n",
        "\n",
        "def get_estimated_y_for_d(d):\n",
        "  return 0\n",
        "\n",
        "def get_MSE_from_training_data():\n",
        "  MSE = []\n",
        "  for d in range(7):\n",
        "    MSE.append(get_estimated_y_for_d(d))\n",
        "  return MSE\n",
        "\n"
      ],
      "execution_count": null,
      "outputs": []
    },
    {
      "cell_type": "code",
      "metadata": {
        "id": "29265HXzXENi"
      },
      "source": [
        "x, y = create_x_and_y()\n",
        "x1_matrix = populate_x_matrix(x, 1)\n",
        "x2_matrix = populate_x_matrix(x, 2)\n",
        "x3_matrix = populate_x_matrix(x, 3)\n",
        "x4_matrix = populate_x_matrix(x, 4)\n",
        "x5_matrix = populate_x_matrix(x, 5)\n",
        "x6_matrix = populate_x_matrix(x, 6)\n",
        "x7_matrix = populate_x_matrix(x, 7)\n",
        "\n",
        "x1_test_matrix = populate_x_matrix(reference_x, 1)\n",
        "x2_test_matrix = populate_x_matrix(reference_x, 2)\n",
        "x3_test_matrix = populate_x_matrix(reference_x, 3)\n",
        "x4_test_matrix = populate_x_matrix(reference_x, 4)\n",
        "x5_test_matrix = populate_x_matrix(reference_x, 5)\n",
        "x6_test_matrix = populate_x_matrix(reference_x, 6)\n",
        "x7_test_matrix = populate_x_matrix(reference_x, 7)\n",
        "\n",
        "x1_coef = solve_normal_equations(x1_matrix, y)\n",
        "x2_coef = solve_normal_equations(x2_matrix, y)\n",
        "x3_coef = solve_normal_equations(x3_matrix, y)\n",
        "x4_coef = solve_normal_equations(x4_matrix, y)\n",
        "x5_coef = solve_normal_equations(x5_matrix, y)\n",
        "x6_coef = solve_normal_equations(x6_matrix, y)\n",
        "x7_coef = solve_normal_equations(x7_matrix, y)\n",
        "\n",
        "x1_expected_test_y = x1_test_matrix @ x1_coef\n",
        "x2_expected_test_y = x2_test_matrix @ x2_coef\n",
        "x3_expected_test_y = x3_test_matrix @ x3_coef\n",
        "x4_expected_test_y = x4_test_matrix @ x4_coef\n",
        "x5_expected_test_y = x5_test_matrix @ x5_coef\n",
        "x6_expected_test_y = x6_test_matrix @ x6_coef\n",
        "x7_expected_test_y = x7_test_matrix @ x7_coef\n",
        "\n",
        "x1_expected_y = x1_matrix @ x1_coef\n",
        "x2_expected_y = x2_matrix @ x2_coef\n",
        "x3_expected_y = x3_matrix @ x3_coef\n",
        "x4_expected_y = x4_matrix @ x4_coef\n",
        "x5_expected_y = x5_matrix @ x5_coef\n",
        "x6_expected_y = x6_matrix @ x6_coef\n",
        "x7_expected_y = x7_matrix @ x7_coef"
      ],
      "execution_count": null,
      "outputs": []
    },
    {
      "cell_type": "code",
      "metadata": {
        "id": "iwXfv3r7-YjK",
        "colab": {
          "base_uri": "https://localhost:8080/",
          "height": 282
        },
        "outputId": "24a00722-112b-486e-f7ae-707fedf94ec6"
      },
      "source": [
        "\n",
        "plt.plot(reference_x, x1_expected_test_y, 'bo')\n",
        "plt.plot(x,y, 'ro')\n"
      ],
      "execution_count": null,
      "outputs": [
        {
          "output_type": "execute_result",
          "data": {
            "text/plain": [
              "[<matplotlib.lines.Line2D at 0x7f9f8dd21d10>]"
            ]
          },
          "metadata": {},
          "execution_count": 218
        },
        {
          "output_type": "display_data",
          "data": {
            "image/png": "[encoded data removed]",
            "text/plain": [
              "<Figure size 432x288 with 1 Axes>"
            ]
          },
          "metadata": {
            "needs_background": "light"
          }
        }
      ]
    },
    {
      "cell_type": "code",
      "metadata": {
        "colab": {
          "base_uri": "https://localhost:8080/",
          "height": 282
        },
        "id": "DcQgU_HN-DvY",
        "outputId": "aba6cae6-d58f-4ae3-e5d1-2e2bd52812f5"
      },
      "source": [
        "plt.plot(reference_x, x2_expected_test_y, 'bo')\n",
        "plt.plot(x,y, 'ro')"
      ],
      "execution_count": null,
      "outputs": [
        {
          "output_type": "execute_result",
          "data": {
            "text/plain": [
              "[<matplotlib.lines.Line2D at 0x7f9f8dca6890>]"
            ]
          },
          "metadata": {},
          "execution_count": 219
        },
        {
          "output_type": "display_data",
          "data": {
            "image/png": "[encoded data removed]",
            "text/plain": [
              "<Figure size 432x288 with 1 Axes>"
            ]
          },
          "metadata": {
            "needs_background": "light"
          }
        }
      ]
    },
    {
      "cell_type": "code",
      "metadata": {
        "colab": {
          "base_uri": "https://localhost:8080/",
          "height": 282
        },
        "id": "Ud5b2gCQ-IDq",
        "outputId": "0ab8fcb5-ea02-407c-89df-d52251c45e40"
      },
      "source": [
        "plt.plot(reference_x, x3_expected_test_y, 'bo')\n",
        "plt.plot(x,y, 'ro')\n",
        "\n"
      ],
      "execution_count": null,
      "outputs": [
        {
          "output_type": "execute_result",
          "data": {
            "text/plain": [
              "[<matplotlib.lines.Line2D at 0x7f9f8dc0e1d0>]"
            ]
          },
          "metadata": {},
          "execution_count": 220
        },
        {
          "output_type": "display_data",
          "data": {
            "image/png": "[encoded data removed]",
            "text/plain": [
              "<Figure size 432x288 with 1 Axes>"
            ]
          },
          "metadata": {
            "needs_background": "light"
          }
        }
      ]
    },
    {
      "cell_type": "code",
      "metadata": {
        "colab": {
          "base_uri": "https://localhost:8080/",
          "height": 282
        },
        "id": "tYSffzfF-TSt",
        "outputId": "41212385-a2c3-425c-9c83-6d60b0cd0f5b"
      },
      "source": [
        "plt.plot(reference_x, x4_expected_test_y, 'bo')\n",
        "plt.plot(x,y, 'ro')\n"
      ],
      "execution_count": null,
      "outputs": [
        {
          "output_type": "execute_result",
          "data": {
            "text/plain": [
              "[<matplotlib.lines.Line2D at 0x7f9f8dbfa810>]"
            ]
          },
          "metadata": {},
          "execution_count": 221
        },
        {
          "output_type": "display_data",
          "data": {
            "image/png": "[encoded data removed]",
            "text/plain": [
              "<Figure size 432x288 with 1 Axes>"
            ]
          },
          "metadata": {
            "needs_background": "light"
          }
        }
      ]
    },
    {
      "cell_type": "code",
      "metadata": {
        "colab": {
          "base_uri": "https://localhost:8080/",
          "height": 282
        },
        "id": "GXy_6ood-pWm",
        "outputId": "8b6518ff-999b-4733-c229-9658c25917b8"
      },
      "source": [
        "plt.plot(reference_x, x5_expected_test_y, 'bo')\n",
        "plt.plot(x,y, 'ro')\n"
      ],
      "execution_count": null,
      "outputs": [
        {
          "output_type": "execute_result",
          "data": {
            "text/plain": [
              "[<matplotlib.lines.Line2D at 0x7f9f8db78690>]"
            ]
          },
          "metadata": {},
          "execution_count": 222
        },
        {
          "output_type": "display_data",
          "data": {
            "image/png": "[encoded data removed]",
            "text/plain": [
              "<Figure size 432x288 with 1 Axes>"
            ]
          },
          "metadata": {
            "needs_background": "light"
          }
        }
      ]
    },
    {
      "cell_type": "code",
      "metadata": {
        "colab": {
          "base_uri": "https://localhost:8080/",
          "height": 283
        },
        "id": "nbfZ17re-bZg",
        "outputId": "7a7fa70c-a6a4-4e59-aee4-f183aea3c1bc"
      },
      "source": [
        "plt.plot(reference_x, x6_expected_test_y, 'bo')\n",
        "plt.plot(x,y, 'ro')"
      ],
      "execution_count": null,
      "outputs": [
        {
          "output_type": "execute_result",
          "data": {
            "text/plain": [
              "[<matplotlib.lines.Line2D at 0x7f9f8dade050>]"
            ]
          },
          "metadata": {},
          "execution_count": 223
        },
        {
          "output_type": "display_data",
          "data": {
            "image/png": "[encoded data removed]",
            "text/plain": [
              "<Figure size 432x288 with 1 Axes>"
            ]
          },
          "metadata": {
            "needs_background": "light"
          }
        }
      ]
    },
    {
      "cell_type": "code",
      "metadata": {
        "colab": {
          "base_uri": "https://localhost:8080/"
        },
        "id": "DcSClG42FYto",
        "outputId": "781fedd8-17bd-48d9-e79a-550799ba56db"
      },
      "source": [
        "MSE = np.mean(np.square(true_y - answer))\n",
        "print(MSE)"
      ],
      "execution_count": null,
      "outputs": [
        {
          "output_type": "stream",
          "name": "stdout",
          "text": [
            "0.15356540703521596\n"
          ]
        }
      ]
    },
    {
      "cell_type": "code",
      "metadata": {
        "colab": {
          "base_uri": "https://localhost:8080/",
          "height": 282
        },
        "id": "A7f2OKOk-Or7",
        "outputId": "bdf6243e-08ce-4c91-8654-26f1dda30f9b"
      },
      "source": [
        "plt.plot(reference_x, x7_expected_test_y, 'bo')\n",
        "plt.plot(x,y, 'ro')"
      ],
      "execution_count": null,
      "outputs": [
        {
          "output_type": "execute_result",
          "data": {
            "text/plain": [
              "[<matplotlib.lines.Line2D at 0x7f9f8dacc950>]"
            ]
          },
          "metadata": {},
          "execution_count": 225
        },
        {
          "output_type": "display_data",
          "data": {
            "image/png": "[encoded data removed]",
            "text/plain": [
              "<Figure size 432x288 with 1 Axes>"
            ]
          },
          "metadata": {
            "needs_background": "light"
          }
        }
      ]
    },
    {
      "cell_type": "markdown",
      "metadata": {
        "id": "4fu9rWjAVPCw"
      },
      "source": [
        "**MSE Plots**"
      ]
    },
    {
      "cell_type": "code",
      "metadata": {
        "colab": {
          "base_uri": "https://localhost:8080/",
          "height": 299
        },
        "id": "rhvdJmdv7nS1",
        "outputId": "f2d2773c-4dec-4420-bec3-7b9aea2b3f98"
      },
      "source": [
        "MSE_X = [1,2,3,4,5,6,7]\n",
        "print(np.mean(np.square(y - x3_expected_y)))\n",
        "MSE_Y = [np.mean(np.square(y - x1_expected_y)), np.mean(np.square(y - x2_expected_y)), np.mean(np.square(y - x3_expected_y)), np.mean(np.square(y - x4_expected_y)), np.mean(np.square(y - x5_expected_y)), np.mean(np.square(y - x6_expected_y)), np.mean(np.square(y - x7_expected_y))]\n",
        "\n",
        "plt.plot(MSE_X, MSE_Y)"
      ],
      "execution_count": null,
      "outputs": [
        {
          "output_type": "stream",
          "name": "stdout",
          "text": [
            "0.0039004648113388925\n"
          ]
        },
        {
          "output_type": "execute_result",
          "data": {
            "text/plain": [
              "[<matplotlib.lines.Line2D at 0x7f9f8da45750>]"
            ]
          },
          "metadata": {},
          "execution_count": 226
        },
        {
          "output_type": "display_data",
          "data": {
            "image/png": "[encoded data removed]",
            "text/plain": [
              "<Figure size 432x288 with 1 Axes>"
            ]
          },
          "metadata": {
            "needs_background": "light"
          }
        }
      ]
    },
    {
      "cell_type": "code",
      "metadata": {
        "id": "nlueoJhtU8XH",
        "colab": {
          "base_uri": "https://localhost:8080/",
          "height": 286
        },
        "outputId": "2b250a63-0c70-4e09-a42b-d99d6c947943"
      },
      "source": [
        "\n",
        "MSE_TEST_Y = [np.mean(np.square(true_y - x1_expected_test_y)), np.mean(np.square(true_y - x2_expected_test_y)), np.mean(np.square(true_y - x3_expected_test_y)), np.mean(np.square(true_y - x4_expected_test_y)), np.mean(np.square(true_y - x5_expected_test_y)), np.mean(np.square(true_y - x6_expected_test_y)), np.mean(np.square(true_y - x7_expected_test_y))]\n",
        "plt.plot(MSE_X, MSE_TEST_Y)"
      ],
      "execution_count": null,
      "outputs": [
        {
          "output_type": "execute_result",
          "data": {
            "text/plain": [
              "[<matplotlib.lines.Line2D at 0x7f9f8d9abf50>]"
            ]
          },
          "metadata": {},
          "execution_count": 227
        },
        {
          "output_type": "display_data",
          "data": {
            "image/png": "[encoded data removed]",
            "text/plain": [
              "<Figure size 432x288 with 1 Axes>"
            ]
          },
          "metadata": {
            "needs_background": "light"
          }
        }
      ]
    }
  ]
}