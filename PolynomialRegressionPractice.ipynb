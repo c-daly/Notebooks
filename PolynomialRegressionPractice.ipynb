{
  "nbformat": 4,
  "nbformat_minor": 0,
  "metadata": {
    "colab": {
      "name": "PolynomialRegressionPractice.ipynb",
      "provenance": [],
      "collapsed_sections": [],
      "authorship_tag": "ABX9TyNYaL48jCVf29YCcuRsMsFO",
      "include_colab_link": true
    },
    "kernelspec": {
      "display_name": "Python 3",
      "name": "python3"
    },
    "language_info": {
      "name": "python"
    }
  },
  "cells": [
    {
      "cell_type": "markdown",
      "metadata": {
        "id": "view-in-github",
        "colab_type": "text"
      },
      "source": [
        "<a href=\"https://colab.research.google.com/github/c-daly/Notebooks/blob/main/PolynomialRegressionPractice.ipynb\" target=\"_parent\"><img src=\"https://colab.research.google.com/assets/colab-badge.svg\" alt=\"Open In Colab\"/></a>"
      ]
    },
    {
      "cell_type": "markdown",
      "metadata": {
        "id": "O_g1FdiYdKNo"
      },
      "source": [
        "**Imports**\n"
      ]
    },
    {
      "cell_type": "code",
      "metadata": {
        "id": "-sSDbOKTdJQx"
      },
      "source": [
        "import numpy as np\n",
        "from matplotlib import pyplot as plt\n"
      ],
      "execution_count": 17,
      "outputs": []
    },
    {
      "cell_type": "markdown",
      "metadata": {
        "id": "t6faXijAQgxH"
      },
      "source": [
        "**Initial Values and Baseline Plot**"
      ]
    },
    {
      "cell_type": "code",
      "metadata": {
        "colab": {
          "base_uri": "https://localhost:8080/",
          "height": 282
        },
        "id": "lSfZDp5HQPjG",
        "outputId": "a814a4cc-2bc7-4f8d-b57d-28b393bea383"
      },
      "source": [
        "\n",
        "x = np.random.uniform(0, 1, 8)\n",
        "y = [] \n",
        "for value in x:\n",
        "  noise = np.random.normal(0, 0.1)\n",
        "  y.append(1 + (2 * value) - (2 * value * value) + noise)\n",
        "\n",
        "true_x = np.linspace(0, 1, 1000)\n",
        "true_y = 1 + (2 * true_x) - (2 * true_x ** 2) \n",
        "\n",
        "plt.plot(true_x, true_y)\n",
        "plt.plot(x, y, 'ro')"
      ],
      "execution_count": 18,
      "outputs": [
        {
          "output_type": "execute_result",
          "data": {
            "text/plain": [
              "[<matplotlib.lines.Line2D at 0x7fca343a4990>]"
            ]
          },
          "metadata": {},
          "execution_count": 18
        },
        {
          "output_type": "display_data",
          "data": {
            "image/png": "[encoded data removed]",
            "text/plain": [
              "<Figure size 432x288 with 1 Axes>"
            ]
          },
          "metadata": {
            "needs_background": "light"
          }
        }
      ]
    },
    {
      "cell_type": "markdown",
      "metadata": {
        "id": "WnnjI-MSQXdB"
      },
      "source": [
        "**Helper Methods**"
      ]
    },
    {
      "cell_type": "code",
      "metadata": {
        "id": "yTubnX4itj7m"
      },
      "source": [
        "def create_x_and_y(n=8):\n",
        "  x = np.random.uniform(0, 1, n)\n",
        "  y = [] \n",
        "\n",
        "  for value in x:\n",
        "    noise = np.random.normal(0, 0.1)\n",
        "    y.append(1 + (2 * value) - (2 * value ** 2) + np.random.normal(0, 0.1))\n",
        "    \n",
        "  return np.array(x), np.array(y)\n",
        "\n",
        "def get_Y_from_X(X):\n",
        "  y = []\n",
        "  for value in X:\n",
        "    noise = np.random.normal(0, 0.1)\n",
        "    y.append(1 + (2 * value) - (2 * value ** 2) + np.random.normal(0, 0.1))\n",
        "  \n",
        "  print(y)\n",
        "  return np.array(y)\n",
        "\n",
        "def x_matrix_row(x, degree):\n",
        "  row = []\n",
        "  if degree >= 0:\n",
        "    row.append(1)\n",
        "  if degree >= 1:\n",
        "    row.append(x)\n",
        "  if degree >= 2:\n",
        "    row.append(x ** 2)\n",
        "  if degree >= 3:\n",
        "    row.append(x ** 3)\n",
        "  if degree >= 4:\n",
        "    row.append(x ** 4)\n",
        "  if degree >= 5:\n",
        "    row.append(x ** 5)\n",
        "  if degree >= 6:\n",
        "    row.append(x ** 6)\n",
        "  if degree >= 7:\n",
        "    row.append(x ** 7)\n",
        "  return row\n",
        "\n",
        "def populate_x_matrix(x, degree):\n",
        "  X = []\n",
        "  for val in x:\n",
        "    X.append(x_matrix_row(val, degree))\n",
        "  \n",
        "  return np.array(X)\n",
        "\n",
        "def solve_normal_equations(X, Y):\n",
        "  XTX = np.dot(X.T, X)\n",
        "  XTY = np.dot(X.T, Y)\n",
        "  return np.linalg.solve(XTX,XTY)\n",
        "\n"
      ],
      "execution_count": 19,
      "outputs": []
    },
    {
      "cell_type": "markdown",
      "metadata": {
        "id": "GYNYXqInyVAM"
      },
      "source": [
        "**Setup**"
      ]
    },
    {
      "cell_type": "code",
      "metadata": {
        "id": "29265HXzXENi"
      },
      "source": [
        "# create initial x, y data points\n",
        "x, y = create_x_and_y()\n",
        "\n",
        "reference_x = true_x\n",
        "\n",
        "# create training matrices\n",
        "x1_matrix = populate_x_matrix(x, 1)\n",
        "x2_matrix = populate_x_matrix(x, 2)\n",
        "x3_matrix = populate_x_matrix(x, 3)\n",
        "x4_matrix = populate_x_matrix(x, 4)\n",
        "x5_matrix = populate_x_matrix(x, 5)\n",
        "x6_matrix = populate_x_matrix(x, 6)\n",
        "x7_matrix = populate_x_matrix(x, 7)\n",
        "\n",
        "# create testing matrices\n",
        "x1_test_matrix = populate_x_matrix(reference_x, 1)\n",
        "x2_test_matrix = populate_x_matrix(reference_x, 2)\n",
        "x3_test_matrix = populate_x_matrix(reference_x, 3)\n",
        "x4_test_matrix = populate_x_matrix(reference_x, 4)\n",
        "x5_test_matrix = populate_x_matrix(reference_x, 5)\n",
        "x6_test_matrix = populate_x_matrix(reference_x, 6)\n",
        "x7_test_matrix = populate_x_matrix(reference_x, 7)\n",
        "\n",
        "# solve for theta\n",
        "x1_coef = solve_normal_equations(x1_matrix, y)\n",
        "x2_coef = solve_normal_equations(x2_matrix, y)\n",
        "x3_coef = solve_normal_equations(x3_matrix, y)\n",
        "x4_coef = solve_normal_equations(x4_matrix, y)\n",
        "x5_coef = solve_normal_equations(x5_matrix, y)\n",
        "x6_coef = solve_normal_equations(x6_matrix, y)\n",
        "x7_coef = solve_normal_equations(x7_matrix, y)\n",
        "\n",
        "# get expected training y values\n",
        "x1_expected_y = x1_matrix @ x1_coef\n",
        "x2_expected_y = x2_matrix @ x2_coef\n",
        "x3_expected_y = x3_matrix @ x3_coef\n",
        "x4_expected_y = x4_matrix @ x4_coef\n",
        "x5_expected_y = x5_matrix @ x5_coef\n",
        "x6_expected_y = x6_matrix @ x6_coef\n",
        "x7_expected_y = x7_matrix @ x7_coef\n",
        "\n",
        "# get expected test y values\n",
        "x1_expected_test_y = x1_test_matrix @ x1_coef\n",
        "x2_expected_test_y = x2_test_matrix @ x2_coef\n",
        "x3_expected_test_y = x3_test_matrix @ x3_coef\n",
        "x4_expected_test_y = x4_test_matrix @ x4_coef\n",
        "x5_expected_test_y = x5_test_matrix @ x5_coef\n",
        "x6_expected_test_y = x6_test_matrix @ x6_coef\n",
        "x7_expected_test_y = x7_test_matrix @ x7_coef\n"
      ],
      "execution_count": 20,
      "outputs": []
    },
    {
      "cell_type": "markdown",
      "metadata": {
        "id": "_DHSFEnXyZ3X"
      },
      "source": [
        "**Degree 1**"
      ]
    },
    {
      "cell_type": "code",
      "metadata": {
        "id": "iwXfv3r7-YjK",
        "colab": {
          "base_uri": "https://localhost:8080/",
          "height": 282
        },
        "outputId": "de876fe1-9942-421a-a15e-8026ca0d2aa3"
      },
      "source": [
        "\n",
        "plt.plot(reference_x, x1_expected_test_y, 'bo')\n",
        "plt.plot(x,y, 'ro')\n"
      ],
      "execution_count": 21,
      "outputs": [
        {
          "output_type": "execute_result",
          "data": {
            "text/plain": [
              "[<matplotlib.lines.Line2D at 0x7fca34334b90>]"
            ]
          },
          "metadata": {},
          "execution_count": 21
        },
        {
          "output_type": "display_data",
          "data": {
            "image/png": "[encoded data removed]",
            "text/plain": [
              "<Figure size 432x288 with 1 Axes>"
            ]
          },
          "metadata": {
            "needs_background": "light"
          }
        }
      ]
    },
    {
      "cell_type": "markdown",
      "metadata": {
        "id": "xkjLaLjRyfZI"
      },
      "source": [
        "**Degree 2**"
      ]
    },
    {
      "cell_type": "code",
      "metadata": {
        "colab": {
          "base_uri": "https://localhost:8080/",
          "height": 282
        },
        "id": "DcQgU_HN-DvY",
        "outputId": "e8791549-79ab-4c28-a804-f919355614aa"
      },
      "source": [
        "plt.plot(reference_x, x2_expected_test_y, 'bo')\n",
        "plt.plot(x,y, 'ro')"
      ],
      "execution_count": 22,
      "outputs": [
        {
          "output_type": "execute_result",
          "data": {
            "text/plain": [
              "[<matplotlib.lines.Line2D at 0x7fca343307d0>]"
            ]
          },
          "metadata": {},
          "execution_count": 22
        },
        {
          "output_type": "display_data",
          "data": {
            "image/png": "[encoded data removed]",
            "text/plain": [
              "<Figure size 432x288 with 1 Axes>"
            ]
          },
          "metadata": {
            "needs_background": "light"
          }
        }
      ]
    },
    {
      "cell_type": "markdown",
      "metadata": {
        "id": "5NRo5wPOyiQU"
      },
      "source": [
        "**Degree 3**"
      ]
    },
    {
      "cell_type": "code",
      "metadata": {
        "colab": {
          "base_uri": "https://localhost:8080/",
          "height": 282
        },
        "id": "Ud5b2gCQ-IDq",
        "outputId": "25bd4375-478a-42fc-def3-843490213d59"
      },
      "source": [
        "plt.plot(reference_x, x3_expected_test_y, 'bo')\n",
        "plt.plot(x,y, 'ro')"
      ],
      "execution_count": 23,
      "outputs": [
        {
          "output_type": "execute_result",
          "data": {
            "text/plain": [
              "[<matplotlib.lines.Line2D at 0x7fca3452fb90>]"
            ]
          },
          "metadata": {},
          "execution_count": 23
        },
        {
          "output_type": "display_data",
          "data": {
            "image/png": "[encoded data removed]",
            "text/plain": [
              "<Figure size 432x288 with 1 Axes>"
            ]
          },
          "metadata": {
            "needs_background": "light"
          }
        }
      ]
    },
    {
      "cell_type": "markdown",
      "metadata": {
        "id": "CibIXTvWylHe"
      },
      "source": [
        "**Degree 4**"
      ]
    },
    {
      "cell_type": "code",
      "metadata": {
        "colab": {
          "base_uri": "https://localhost:8080/",
          "height": 284
        },
        "id": "tYSffzfF-TSt",
        "outputId": "11e0b17b-c64c-45b3-a217-cc8e63e15e42"
      },
      "source": [
        "plt.plot(reference_x, x4_expected_test_y, 'bo')\n",
        "plt.plot(x,y, 'ro')"
      ],
      "execution_count": 24,
      "outputs": [
        {
          "output_type": "execute_result",
          "data": {
            "text/plain": [
              "[<matplotlib.lines.Line2D at 0x7fca345f6750>]"
            ]
          },
          "metadata": {},
          "execution_count": 24
        },
        {
          "output_type": "display_data",
          "data": {
            "image/png": "[encoded data removed]",
            "text/plain": [
              "<Figure size 432x288 with 1 Axes>"
            ]
          },
          "metadata": {
            "needs_background": "light"
          }
        }
      ]
    },
    {
      "cell_type": "markdown",
      "metadata": {
        "id": "vbqp837zyn0I"
      },
      "source": [
        "**Degree 5**"
      ]
    },
    {
      "cell_type": "code",
      "metadata": {
        "colab": {
          "base_uri": "https://localhost:8080/",
          "height": 282
        },
        "id": "GXy_6ood-pWm",
        "outputId": "825003ea-7d20-4c82-f2f7-d77903a7414e"
      },
      "source": [
        "plt.plot(reference_x, x5_expected_test_y, 'bo')\n",
        "plt.plot(x,y, 'ro')"
      ],
      "execution_count": 25,
      "outputs": [
        {
          "output_type": "execute_result",
          "data": {
            "text/plain": [
              "[<matplotlib.lines.Line2D at 0x7fca3a871d50>]"
            ]
          },
          "metadata": {},
          "execution_count": 25
        },
        {
          "output_type": "display_data",
          "data": {
            "image/png": "[encoded data removed]",
            "text/plain": [
              "<Figure size 432x288 with 1 Axes>"
            ]
          },
          "metadata": {
            "needs_background": "light"
          }
        }
      ]
    },
    {
      "cell_type": "markdown",
      "metadata": {
        "id": "OIsrrqMlyqLJ"
      },
      "source": [
        "**Degree 6**"
      ]
    },
    {
      "cell_type": "code",
      "metadata": {
        "colab": {
          "base_uri": "https://localhost:8080/",
          "height": 282
        },
        "id": "nbfZ17re-bZg",
        "outputId": "6bafc9a2-cc76-4cb3-f1ce-24825bf72c1f"
      },
      "source": [
        "plt.plot(reference_x, x6_expected_test_y, 'bo')\n",
        "plt.plot(x,y, 'ro')"
      ],
      "execution_count": 26,
      "outputs": [
        {
          "output_type": "execute_result",
          "data": {
            "text/plain": [
              "[<matplotlib.lines.Line2D at 0x7fca3a91aa50>]"
            ]
          },
          "metadata": {},
          "execution_count": 26
        },
        {
          "output_type": "display_data",
          "data": {
            "image/png": "[encoded data removed]",
            "text/plain": [
              "<Figure size 432x288 with 1 Axes>"
            ]
          },
          "metadata": {
            "needs_background": "light"
          }
        }
      ]
    },
    {
      "cell_type": "markdown",
      "metadata": {
        "id": "TGV2QhANyuPR"
      },
      "source": [
        "**Degree 7**"
      ]
    },
    {
      "cell_type": "code",
      "metadata": {
        "colab": {
          "base_uri": "https://localhost:8080/",
          "height": 282
        },
        "id": "A7f2OKOk-Or7",
        "outputId": "3d9990c0-a990-4357-e2d7-b83201fd891e"
      },
      "source": [
        "plt.plot(reference_x, x7_expected_test_y, 'bo')\n",
        "plt.plot(x,y, 'ro')"
      ],
      "execution_count": 27,
      "outputs": [
        {
          "output_type": "execute_result",
          "data": {
            "text/plain": [
              "[<matplotlib.lines.Line2D at 0x7fca3470ae90>]"
            ]
          },
          "metadata": {},
          "execution_count": 27
        },
        {
          "output_type": "display_data",
          "data": {
            "image/png": "[encoded data removed]",
            "text/plain": [
              "<Figure size 432x288 with 1 Axes>"
            ]
          },
          "metadata": {
            "needs_background": "light"
          }
        }
      ]
    },
    {
      "cell_type": "markdown",
      "metadata": {
        "id": "4fu9rWjAVPCw"
      },
      "source": [
        "**MSE Plots**"
      ]
    },
    {
      "cell_type": "markdown",
      "metadata": {
        "id": "DlUN0JgxzN40"
      },
      "source": [
        "Training MSE"
      ]
    },
    {
      "cell_type": "code",
      "metadata": {
        "colab": {
          "base_uri": "https://localhost:8080/",
          "height": 282
        },
        "id": "rhvdJmdv7nS1",
        "outputId": "33530012-ab10-4b72-f1a0-096bd4593944"
      },
      "source": [
        "MSE_X = [1,2,3,4,5,6,7]\n",
        "MSE_Y = [np.mean(np.square(y - x1_expected_y)), np.mean(np.square(y - x2_expected_y)), np.mean(np.square(y - x3_expected_y)), np.mean(np.square(y - x4_expected_y)), np.mean(np.square(y - x5_expected_y)), np.mean(np.square(y - x6_expected_y)), np.mean(np.square(y - x7_expected_y))]\n",
        "\n",
        "plt.plot(MSE_X, MSE_Y)\n",
        "print(MSE_Y)"
      ],
      "execution_count": 28,
      "outputs": [
        {
          "output_type": "stream",
          "name": "stdout",
          "text": [
            "[0.020403817916199225, 0.010114870555614112, 0.010034609562545135, 0.008789643912938277, 0.0073778026439905685, 0.0018297149731662534, 3.7913481293081554e-07]\n"
          ]
        },
        {
          "output_type": "display_data",
          "data": {
            "image/png": "[encoded data removed]",
            "text/plain": [
              "<Figure size 432x288 with 1 Axes>"
            ]
          },
          "metadata": {
            "needs_background": "light"
          }
        }
      ]
    },
    {
      "cell_type": "markdown",
      "metadata": {
        "id": "NRQsnU_6zR9-"
      },
      "source": [
        "Testing MSE"
      ]
    },
    {
      "cell_type": "code",
      "metadata": {
        "id": "nlueoJhtU8XH",
        "colab": {
          "base_uri": "https://localhost:8080/",
          "height": 282
        },
        "outputId": "9cbb95b8-b616-4d5b-9cab-38922bb07bf5"
      },
      "source": [
        "MSE_TEST_Y = [np.mean(np.square(true_y - x1_expected_test_y)), np.mean(np.square(true_y - x2_expected_test_y)), np.mean(np.square(true_y - x3_expected_test_y)), np.mean(np.square(true_y - x4_expected_test_y)), np.mean(np.square(true_y - x5_expected_test_y)), np.mean(np.square(true_y - x6_expected_test_y)), np.mean(np.square(true_y - x7_expected_test_y))]\n",
        "plt.plot(MSE_X, MSE_TEST_Y)\n",
        "print(MSE_TEST_Y)"
      ],
      "execution_count": 29,
      "outputs": [
        {
          "output_type": "stream",
          "name": "stdout",
          "text": [
            "[0.035551055001833316, 0.012437497881093454, 0.0128232018898382, 0.0746963153748617, 5.681621020956555, 1807.6606245781459, 14972.083079690121]\n"
          ]
        },
        {
          "output_type": "display_data",
          "data": {
            "image/png": "[encoded data removed]",
            "text/plain": [
              "<Figure size 432x288 with 1 Axes>"
            ]
          },
          "metadata": {
            "needs_background": "light"
          }
        }
      ]
    },
    {
      "cell_type": "markdown",
      "metadata": {
        "id": "3TLliOEF8Xto"
      },
      "source": [
        "**With TensorFlow and Gradient Descent**"
      ]
    },
    {
      "cell_type": "code",
      "metadata": {
        "id": "Z2v9zc4u8iLo",
        "colab": {
          "base_uri": "https://localhost:8080/",
          "height": 300
        },
        "outputId": "49303816-1e22-4276-fb34-80736949bf49"
      },
      "source": [
        "\n",
        "%tensorflow_version 1.x\n",
        "import tensorflow as tf\n",
        "\n",
        "learning_rate = 0.01\n",
        "training_epochs = 100\n",
        "\n",
        "num_coeffs = 2\n",
        "trY_coeffs = [0, 1]\n",
        "trY = 0\n",
        "\n",
        "tf_x, tf_y = create_x_and_y(50)\n",
        "\n",
        "trX = tf_x\n",
        "trY = tf_y\n",
        "\n",
        "plt.plot(x, y, 'bo')\n",
        "plt.plot(true_x, true_y)\n",
        "\n",
        "X = tf.placeholder(tf.float32)\n",
        "Y = tf.placeholder(tf.float32)\n",
        "\n",
        "def model(X, w):\n",
        "  terms = []\n",
        "  for i in range(num_coeffs):\n",
        "    term = tf.multiply(w[i], tf.pow(X,i))\n",
        "    terms.append(term)\n",
        "  return tf.add_n(terms)\n",
        "\n",
        "w = tf.Variable([0.] * num_coeffs, name=\"parameters\")\n",
        "y_model = model(X,w)\n",
        "\n",
        "cost = (tf.pow(Y-y_model,2))\n",
        "train_op = tf.train.GradientDescentOptimizer(learning_rate).minimize(cost)\n",
        "\n",
        "sess = tf.Session()\n",
        "init = tf.global_variables_initializer()\n",
        "sess.run(init)\n",
        "\n",
        "for epoch in range(training_epochs):\n",
        "  for(x,y) in zip(trX, trY):\n",
        "    sess.run(train_op, feed_dict={X:x, Y:y})\n",
        "  \n",
        "w_val = sess.run(w)\n",
        "print(w_val)\n",
        "sess.close()\n",
        "\n",
        "plt.scatter(trX,trY)\n",
        "trY2 = 0\n",
        "\n",
        "for i in range(num_coeffs):\n",
        "  trY2 += w_val[i] * np.power(trX,i)\n",
        "\n",
        "plt.plot(trX,trY2, 'ro')\n",
        "plt.show()\n",
        "\n",
        "MSE_X = [1]\n",
        "MSE_Y = [np.mean(np.square(y - x1_expected_y))]\n",
        "\n",
        "print(f\"MSE for d = 1: {MSE_Y}\")"
      ],
      "execution_count": 33,
      "outputs": [
        {
          "output_type": "stream",
          "name": "stdout",
          "text": [
            "[ 1.3674066  -0.07776725]\n"
          ]
        },
        {
          "output_type": "display_data",
          "data": {
            "image/png": "[encoded data removed]",
            "text/plain": [
              "<Figure size 432x288 with 1 Axes>"
            ]
          },
          "metadata": {
            "needs_background": "light"
          }
        },
        {
          "output_type": "stream",
          "name": "stdout",
          "text": [
            "MSE for d = 1: [0.1426226938270337]\n"
          ]
        }
      ]
    }
  ]
}