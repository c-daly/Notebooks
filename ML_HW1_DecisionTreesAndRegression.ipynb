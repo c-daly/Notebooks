{
  "cells": [
    {
      "cell_type": "markdown",
      "metadata": {
        "id": "view-in-github",
        "colab_type": "text"
      },
      "source": [
        "<a href=\"https://colab.research.google.com/github/c-daly/Notebooks/blob/main/ML_HW1_DecisionTreesAndRegression.ipynb\" target=\"_parent\"><img src=\"https://colab.research.google.com/assets/colab-badge.svg\" alt=\"Open In Colab\"/></a>"
      ]
    },
    {
      "cell_type": "markdown",
      "metadata": {
        "id": "lH1avDQgkq-5"
      },
      "source": [
        "# CS 6140 Machine Learning: Assignment - 1 (Total Points: 100)\n",
        "## Prof. Ahmad Uzair "
      ]
    },
    {
      "cell_type": "markdown",
      "source": [
        "Just some high level imports."
      ],
      "metadata": {
        "id": "q_VV5lrAzYEJ"
      }
    },
    {
      "cell_type": "code",
      "execution_count": null,
      "metadata": {
        "id": "_MpuTeDMVQ73"
      },
      "outputs": [],
      "source": [
        "import matplotlib.pyplot as plt\n",
        "import numpy as np\n",
        "import pandas as pd\n",
        "\n",
        "from sklearn import tree\n",
        "from sklearn.metrics import confusion_matrix\n",
        "from sklearn.model_selection import train_test_split"
      ]
    },
    {
      "cell_type": "markdown",
      "metadata": {
        "id": "_PFpvDelkq-6"
      },
      "source": [
        "### Q1. Decision Tree Classifier (50 points)"
      ]
    },
    {
      "cell_type": "markdown",
      "metadata": {
        "id": "JX03ez5ckq-7"
      },
      "source": [
        "### Q1.1 Growing Decison Trees from scratch (40 points)\n",
        "\n",
        "Decision Trees (DTs) are a non-parametric supervised learning method used for classification and regression. The goal of this question in the assignment is to create a model that predicts the value of a target variable by learning simple decision rules inferred from the data features. \n",
        "You must also print the Decision Tree. Use information gain based on entropy as the splitting measure. \n",
        "\n",
        "Use the data.csv dataset for this particular question. The dataset should be uploaded on Canvas with Assignment 1. Split the dataset into training and test data and calculate testing accuracy.\n",
        "\n"
      ]
    },
    {
      "cell_type": "markdown",
      "source": [
        "Just setting some helpful constants and splitting the data."
      ],
      "metadata": {
        "id": "ZnEwT9q4LD-7"
      }
    },
    {
      "cell_type": "code",
      "source": [
        "FALSE = 0\n",
        "TRUE = 1\n",
        "\n",
        "CLASS_0 = 0\n",
        "CLASS_1 = 1\n",
        "CLASS_2 = 2\n",
        "LABEL_VALUES = [CLASS_0, CLASS_1, CLASS_2]\n",
        "LABEL_COLUMN = 'class'\n",
        "\n",
        "PLURALITY = 'Plurality'\n",
        "UNANIMOUS = 'Unanimous'\n",
        "DECISION_TYPES = [PLURALITY, UNANIMOUS]\n",
        "\n",
        "# read and split the data\n",
        "df = pd.read_csv('data.csv')\n",
        "train_df, test_df = train_test_split(df, test_size=0.2)"
      ],
      "metadata": {
        "id": "xYs1m8MyJkxg"
      },
      "execution_count": null,
      "outputs": []
    },
    {
      "cell_type": "markdown",
      "source": [
        "Data structures to implement the decision tree."
      ],
      "metadata": {
        "id": "4xpa_YGBLHpO"
      }
    },
    {
      "cell_type": "code",
      "source": [
        "# Main element of the decision tree\n",
        "class Node:\n",
        "  def __init__(self, attribute, value):\n",
        "    self.attribute = attribute\n",
        "    self.value = value\n",
        "    self.children = []\n",
        "\n",
        "class DecisionTree:\n",
        "  def __init__(self, node):\n",
        "    self.node = node\n",
        "    self.root = node\n",
        "  \n",
        "  # uses existing tree to classify new example\n",
        "  def classify(self, example):\n",
        "    iteration = 0\n",
        "    node = self.node\n",
        "\n",
        "    while True:\n",
        "      if node.value in DECISION_TYPES:\n",
        "        return node.attribute\n",
        "      elif example[node.attribute] < node.value:\n",
        "        node = node.children[TRUE]\n",
        "      elif len(node.children) > 1:\n",
        "        node = node.children[FALSE]\n",
        "      else:\n",
        "        print(f\"{node.attribute}\")\n",
        "        return node.attribute"
      ],
      "metadata": {
        "id": "BVtzXbmHLIJm"
      },
      "execution_count": null,
      "outputs": []
    },
    {
      "cell_type": "markdown",
      "source": [
        "These are the functions that do most of the work."
      ],
      "metadata": {
        "id": "pTCP-jYuL77S"
      }
    },
    {
      "cell_type": "code",
      "source": [
        "# Entropy calculation based on frequency of class labels.\n",
        "#\n",
        "# examples: dataset on which to calculate entropy\n",
        "def calculateEntropy(examples):\n",
        "  label = examples[LABEL_COLUMN]\n",
        "  _, counts = np.unique(label, return_counts=True)\n",
        "  probabilities = counts/counts.sum()\n",
        "  entropy = sum(probabilities * -np.log2(probabilities))\n",
        "  return entropy\n",
        "\n",
        "# Entropy calculation for the children\n",
        "#\n",
        "# lt_examples: dataset of values less than the threshold\n",
        "# gte_examples: dataset of values greater than or equal \n",
        "#               to the threshold\n",
        "# returns: a float representing the average entropy of the children\n",
        "def calculateRemainder(lt_examples, gte_examples):\n",
        "  total_len = len(lt_examples) + len(gte_examples)\n",
        "  lt_entropy = calculateEntropy(lt_examples)\n",
        "  gte_entropy = calculateEntropy(gte_examples)\n",
        "\n",
        "  remainder = len(lt_examples)/total_len * lt_entropy + len(gte_examples)/total_len * gte_entropy\n",
        "  return remainder\n",
        "\n",
        "# Remove a feature/column from a dataset\n",
        "#\n",
        "# examples: dataset to drop column from\n",
        "# feature: feature/column to drop\n",
        "def dropFeatureColumn(examples, feature):\n",
        "  return examples.drop([feature], axis=1)\n",
        "\n",
        "# Split a given dataset on feature < val\n",
        "# into two separate datasets, lt and gte\n",
        "#\n",
        "# examples: dataset to split\n",
        "# feature: feature to split on\n",
        "# val: threshold to use for splitting\n",
        "#\n",
        "# returns: two datasets, one less than and one greater than\n",
        "#          the threshold\n",
        "def splitData(examples, feature, val):\n",
        "  # nothing to split on, return nothing\n",
        "  if feature is None or val is None:\n",
        "    return None, None\n",
        "\n",
        "  lt = examples[(examples[feature] < val)]\n",
        "  gte = examples[(examples[feature] >= val)]\n",
        "\n",
        "  lt = dropFeatureColumn(lt, feature)\n",
        "  gte = dropFeatureColumn(gte, feature)\n",
        "\n",
        "  return lt, gte\n",
        "\n",
        "# get all the values in a column\n",
        "#\n",
        "# examples: dataset from which to fetch examples\n",
        "# feature: column/feature to fetch values from\n",
        "def getValuesByFeature(examples, feature):\n",
        "  return examples[feature]\n",
        "\n",
        "# get all examples belonging to class == class_label\n",
        "#\n",
        "# examples: dataset from which to fetch examples\n",
        "# class_label: class we want examples for\n",
        "def getExamplesByClass(examples, class_label):\n",
        "   value_examples = examples[(examples[LABEL_COLUMN] == class_label)]\n",
        "   return value_examples\n",
        "\n",
        "# This method stitches together the entropy calculations\n",
        "# to measure information gain (IG)\n",
        "#\n",
        "# examples: current dataset\n",
        "# feature: current feature/column\n",
        "# value: threshold value for splitting\n",
        "def calculateGainForFeatureAndValue(examples, feature, value):\n",
        "  lt_count = 0\n",
        "  gte_count = 0\n",
        "  lt, gte = splitData(examples, feature, value)\n",
        "  gain = calculateEntropy(examples) - calculateRemainder(lt, gte)\n",
        "  return gain\n",
        "\n",
        "# Determine the best possible spllit for a given dataset\n",
        "# based on information gain.\n",
        "#\n",
        "# examples: current dataset\n",
        "def getBestSplit(examples):\n",
        "  features = examples.columns\n",
        "  gain = 0\n",
        "  split_feature = None\n",
        "  split_value = None\n",
        "  temp_gain = 0\n",
        "  # all features but the class label\n",
        "  for feature in features[:-1]:\n",
        "    values = getValuesByFeature(examples, feature).unique()\n",
        "    # iterate over all possible features for this value\n",
        "    for value in values:\n",
        "      temp_gain = calculateGainForFeatureAndValue(examples, feature, value)\n",
        "      # we've found a better split\n",
        "      if temp_gain > gain:\n",
        "        gain = temp_gain\n",
        "        split_feature = feature\n",
        "        split_value = value\n",
        "  # return the best split\n",
        "  return split_feature, split_value\n",
        "        \n",
        "# get most frequent class for a set of examples\n",
        "#\n",
        "# examples: current dataset\n",
        "#\n",
        "# returns: the most common value in a column\n",
        "def getPluralityValue(examples):\n",
        "  return examples[LABEL_COLUMN].mode()[0]\n",
        "\n",
        "# recursive method that learns a decision tree\n",
        "# for a given dataset using information gain as a metric.\n",
        "#\n",
        "# examples: current dataset\n",
        "# parent_examples: dataset from parent\n",
        "# \n",
        "# returns: An appropriately fromed Node, given the provided data.\n",
        "def learnTree(examples, parent_examples):\n",
        "  # Check all the reasons we might be done\n",
        "  if examples is None or len(examples) == 0:\n",
        "    return Node(getPluralityValue(parent_examples), PLURALITY)\n",
        "  elif len(examples[LABEL_COLUMN].unique()) == 1:\n",
        "    return Node(examples[LABEL_COLUMN].values[0], UNANIMOUS)\n",
        "  elif len(examples.columns) < 2:\n",
        "    return Node(getPluralityValue(examples), PLURALITY)\n",
        "  # We're not done\n",
        "  else:\n",
        "    # We're going find the best split \n",
        "    # and create a node for our current feature/value.\n",
        "    # Recursively invoke learnTree to create child nodes.\n",
        "    feature, val = getBestSplit(examples)\n",
        "    node = Node(feature, val)\n",
        "    lt, gte = splitData(examples, feature, val)\n",
        "    node.children = [None, None]\n",
        "    node.children[TRUE] = learnTree(lt, examples)\n",
        "    node.children[FALSE] = learnTree(gte, examples)\n",
        "    return node"
      ],
      "metadata": {
        "id": "vU6wlC-3L8ZD"
      },
      "execution_count": null,
      "outputs": []
    },
    {
      "cell_type": "markdown",
      "source": [
        "Printing stuff"
      ],
      "metadata": {
        "id": "yCK4pVyKMWqp"
      }
    },
    {
      "cell_type": "code",
      "source": [
        "# Basic utility class for printing the decision tree\n",
        "class TreePrinter():\n",
        "  def __init__(self, root):\n",
        "    self.root = root\n",
        "  \n",
        "  # Prints the entire tree.\n",
        "  def printTree(self):\n",
        "    self.printNode(self.root, 1)\n",
        "  \n",
        "  # print the node of a tree. Recursively invokes\n",
        "  # printNode for children.\n",
        "  #\n",
        "  # node: the current node we're printing\n",
        "  # tree_level: how far down the tree are we?\n",
        "  def printNode(self, node, tree_level):\n",
        "    if node.children is not None:\n",
        "      indent_string = '|\\t' * (tree_level - 1)\n",
        "      if len(node.children) == 0:\n",
        "        print(f\"{indent_string}{tree_level}: Leaf with value {node.attribute}, {node.value} decision.\")\n",
        "      else:\n",
        "        print(f\"{indent_string}{tree_level}: {node.attribute} at {node.value}\")\n",
        "      if len(node.children) > 0: # and node.children[TRUE] is not None:\n",
        "        self.printNode(node.children[TRUE], tree_level + 1)\n",
        "      if len(node.children) > 1: # and node.children[FALSE] is not None:\n",
        "        self.printNode(node.children[FALSE], tree_level + 1)\n",
        "\n"
      ],
      "metadata": {
        "id": "DR9qDZ2mMaXY"
      },
      "execution_count": null,
      "outputs": []
    },
    {
      "cell_type": "markdown",
      "source": [
        "Evaluation stuff"
      ],
      "metadata": {
        "id": "515VOVDMMdcX"
      }
    },
    {
      "cell_type": "code",
      "source": [
        "node = learnTree(train_df, None)\n",
        "dt = DecisionTree(node)\n",
        "\n",
        "tp = TreePrinter(node)\n",
        "tp.printTree()\n",
        "\n",
        "y_pred = []\n",
        "y_actual = test_df[LABEL_COLUMN].values\n",
        "#for i in range(0,len(test_df)):\n",
        "#  y_pred.append(dt.classify(test_df.iloc[i]))\n",
        "  #print(f\"estimate: {dt.classify(test_df.iloc[i])}, actual: {test_df.iloc[i][LABEL_COLUMN]}\") \n",
        "y_pred = test_df.apply(dt.classify, axis = 1)\n",
        "cm_scratch = confusion_matrix(y_pred, y_actual)"
      ],
      "metadata": {
        "colab": {
          "base_uri": "https://localhost:8080/"
        },
        "id": "5KSee9CnMgOq",
        "outputId": "390107d4-9e88-47ed-8559-c5c6940a7cdb"
      },
      "execution_count": null,
      "outputs": [
        {
          "output_type": "stream",
          "name": "stdout",
          "text": [
            "1: feature3 at 3.0\n",
            "|\t2: Leaf with value 0, Unanimous decision.\n",
            "|\t2: feature4 at 1.8\n",
            "|\t|\t3: feature1 at 7.2\n",
            "|\t|\t|\t4: feature2 at 2.3\n",
            "|\t|\t|\t|\t5: Leaf with value 1, Plurality decision.\n",
            "|\t|\t|\t|\t5: Leaf with value 1, Plurality decision.\n",
            "|\t|\t|\t4: Leaf with value 2, Unanimous decision.\n",
            "|\t|\t3: feature1 at 6.0\n",
            "|\t|\t|\t4: feature2 at 3.2\n",
            "|\t|\t|\t|\t5: Leaf with value 2, Unanimous decision.\n",
            "|\t|\t|\t|\t5: Leaf with value 1, Unanimous decision.\n",
            "|\t|\t|\t4: Leaf with value 2, Unanimous decision.\n"
          ]
        }
      ]
    },
    {
      "cell_type": "markdown",
      "source": [
        "For the output above, the node shows what decision was made at a given point.  So, at the root, the algorithm chose to split on feature3 with value 3.3, and the children are the nodes representing the resulting datasets. That initial split was able to classify one branch as class 0, but the other went on to be split on feature 4 at 1.8.\n",
        "\n",
        "Unanimous or Plurality decision indicate whether the classification was made because all elements had the same class (unanimous), or the most frequently occurring (plurality)."
      ],
      "metadata": {
        "id": "jI_WpxzHx_jA"
      }
    },
    {
      "cell_type": "markdown",
      "metadata": {
        "id": "NiOjkIIHVG6r"
      },
      "source": [
        "### Q1.2 Decision Tree using Sklearn Library (10 points)"
      ]
    },
    {
      "cell_type": "markdown",
      "metadata": {
        "id": "ybrNHZxvVG6r"
      },
      "source": [
        "Use the Decision Tree Classifier from the Sklearn Library and use gini index as a splitting measure. Use the data.csv dataset.\n",
        "Calculate accuracy for this model. \n",
        "Print the Decision tree and compare the Decision Trees generated from your code and Sklearn."
      ]
    },
    {
      "cell_type": "code",
      "source": [
        "# y is just the label\n",
        "y = train_df['class']\n",
        "test_y = test_df['class']\n",
        "\n",
        "# drop the label from X\n",
        "X = train_df.drop(['class'], axis=1)\n",
        "test_X = test_df.drop(['class'], axis=1)\n",
        "\n",
        "# defaults to gini\n",
        "dt = tree.DecisionTreeClassifier()\n",
        "dt = dt.fit(X,y)\n",
        "\n",
        "# printing\n",
        "y_pred = dt.predict(test_X)\n",
        "cm_sklearn = confusion_matrix(test_y, y_pred)\n",
        "\n",
        "print(f\"{tree.export_text(dt)}\\n\")\n",
        "print(\"Confusion Matrix:\")\n",
        "print(f\"{cm_sklearn}\\n\")\n",
        "tree.plot_tree(dt)"
      ],
      "metadata": {
        "colab": {
          "base_uri": "https://localhost:8080/",
          "height": 1000
        },
        "id": "rcWt3Grvw1PH",
        "outputId": "817e0e3b-e979-44f4-a651-55b9148c9003"
      },
      "execution_count": null,
      "outputs": [
        {
          "output_type": "stream",
          "name": "stdout",
          "text": [
            "|--- feature_3 <= 0.80\n",
            "|   |--- class: 0\n",
            "|--- feature_3 >  0.80\n",
            "|   |--- feature_2 <= 4.75\n",
            "|   |   |--- class: 1\n",
            "|   |--- feature_2 >  4.75\n",
            "|   |   |--- feature_3 <= 1.75\n",
            "|   |   |   |--- feature_1 <= 2.45\n",
            "|   |   |   |   |--- class: 2\n",
            "|   |   |   |--- feature_1 >  2.45\n",
            "|   |   |   |   |--- feature_2 <= 5.05\n",
            "|   |   |   |   |   |--- class: 1\n",
            "|   |   |   |   |--- feature_2 >  5.05\n",
            "|   |   |   |   |   |--- feature_0 <= 6.15\n",
            "|   |   |   |   |   |   |--- class: 1\n",
            "|   |   |   |   |   |--- feature_0 >  6.15\n",
            "|   |   |   |   |   |   |--- class: 2\n",
            "|   |   |--- feature_3 >  1.75\n",
            "|   |   |   |--- feature_2 <= 4.85\n",
            "|   |   |   |   |--- feature_0 <= 5.95\n",
            "|   |   |   |   |   |--- class: 1\n",
            "|   |   |   |   |--- feature_0 >  5.95\n",
            "|   |   |   |   |   |--- class: 2\n",
            "|   |   |   |--- feature_2 >  4.85\n",
            "|   |   |   |   |--- class: 2\n",
            "\n",
            "\n",
            "Confusion Matrix:\n",
            "[[ 8  0  0]\n",
            " [ 0 12  0]\n",
            " [ 0  2  8]]\n",
            "\n"
          ]
        },
        {
          "output_type": "execute_result",
          "data": {
            "text/plain": [
              "[Text(0.3, 0.9285714285714286, 'X[3] <= 0.8\\ngini = 0.666\\nsamples = 120\\nvalue = [42, 38, 40]'),\n",
              " Text(0.2, 0.7857142857142857, 'gini = 0.0\\nsamples = 42\\nvalue = [42, 0, 0]'),\n",
              " Text(0.4, 0.7857142857142857, 'X[2] <= 4.75\\ngini = 0.5\\nsamples = 78\\nvalue = [0, 38, 40]'),\n",
              " Text(0.3, 0.6428571428571429, 'gini = 0.0\\nsamples = 34\\nvalue = [0, 34, 0]'),\n",
              " Text(0.5, 0.6428571428571429, 'X[3] <= 1.75\\ngini = 0.165\\nsamples = 44\\nvalue = [0, 4, 40]'),\n",
              " Text(0.2, 0.5, 'X[1] <= 2.45\\ngini = 0.5\\nsamples = 6\\nvalue = [0, 3, 3]'),\n",
              " Text(0.1, 0.35714285714285715, 'gini = 0.0\\nsamples = 1\\nvalue = [0, 0, 1]'),\n",
              " Text(0.3, 0.35714285714285715, 'X[2] <= 5.05\\ngini = 0.48\\nsamples = 5\\nvalue = [0, 3, 2]'),\n",
              " Text(0.2, 0.21428571428571427, 'gini = 0.0\\nsamples = 2\\nvalue = [0, 2, 0]'),\n",
              " Text(0.4, 0.21428571428571427, 'X[0] <= 6.15\\ngini = 0.444\\nsamples = 3\\nvalue = [0, 1, 2]'),\n",
              " Text(0.3, 0.07142857142857142, 'gini = 0.0\\nsamples = 1\\nvalue = [0, 1, 0]'),\n",
              " Text(0.5, 0.07142857142857142, 'gini = 0.0\\nsamples = 2\\nvalue = [0, 0, 2]'),\n",
              " Text(0.8, 0.5, 'X[2] <= 4.85\\ngini = 0.051\\nsamples = 38\\nvalue = [0, 1, 37]'),\n",
              " Text(0.7, 0.35714285714285715, 'X[0] <= 5.95\\ngini = 0.444\\nsamples = 3\\nvalue = [0, 1, 2]'),\n",
              " Text(0.6, 0.21428571428571427, 'gini = 0.0\\nsamples = 1\\nvalue = [0, 1, 0]'),\n",
              " Text(0.8, 0.21428571428571427, 'gini = 0.0\\nsamples = 2\\nvalue = [0, 0, 2]'),\n",
              " Text(0.9, 0.35714285714285715, 'gini = 0.0\\nsamples = 35\\nvalue = [0, 0, 35]')]"
            ]
          },
          "metadata": {},
          "execution_count": 322
        },
        {
          "output_type": "display_data",
          "data": {
            "text/plain": [
              "<Figure size 432x288 with 1 Axes>"
            ],
            "image/png": "[encoded data removed]"
          },
          "metadata": {
            "needs_background": "light"
          }
        }
      ]
    },
    {
      "cell_type": "markdown",
      "source": [
        "The cell below just shows the confusion matrices from the decision tree created from scratch that uses information gain, followed by the sk learn tree, which uses gini."
      ],
      "metadata": {
        "id": "YBLH1l-1Mi2N"
      }
    },
    {
      "cell_type": "code",
      "source": [
        "print(f\"From scratch w/entroy:\\n{cm_scratch}\\n\")\n",
        "print(f\"Sk learn with gini:\\n{cm_sklearn}\")"
      ],
      "metadata": {
        "colab": {
          "base_uri": "https://localhost:8080/"
        },
        "id": "ImuL1e9HwhKt",
        "outputId": "c28f16c1-d0fb-4c40-f234-36c50ed3c9e0"
      },
      "execution_count": null,
      "outputs": [
        {
          "output_type": "stream",
          "name": "stdout",
          "text": [
            "From scratch w/entroy:\n",
            "[[ 8  0  0]\n",
            " [ 0 12  2]\n",
            " [ 0  0  8]]\n",
            "\n",
            "Sk learn with gini:\n",
            "[[ 8  0  0]\n",
            " [ 0 12  0]\n",
            " [ 0  2  8]]\n"
          ]
        }
      ]
    },
    {
      "cell_type": "markdown",
      "metadata": {
        "id": "IEBH56pukq_H"
      },
      "source": [
        "### Q2 Linear Regression (40 points)\n",
        "\n",
        "Linear regression attempts to model the relationship between two variables by fitting a linear equation to observed data. One variable is considered to be an explanatory variable, and the other is considered to be a dependent variable. \n",
        "<br>\n"
      ]
    },
    {
      "cell_type": "markdown",
      "metadata": {
        "id": "3FL1tuQEkq_H"
      },
      "source": [
        "## Gradient descent algorithm \n",
        "\\begin{equation}\n",
        "\\theta^{+} = \\theta^{-} + \\frac{\\alpha}{m} (y_{i} - h(x_{i}) )\\bar{x}\n",
        "\\end{equation}\n",
        "\n",
        "This minimizes the following cost function\n",
        "\n",
        "\\begin{equation}\n",
        "J(x, \\theta, y) = \\frac{1}{2m}\\sum_{i=1}^{m}(h(x_i) - y_i)^2\n",
        "\\end{equation}\n",
        "\n",
        "where\n",
        "\\begin{equation}\n",
        "h(x_i) = \\theta^T \\bar{x}\n",
        "\\end{equation}"
      ]
    },
    {
      "cell_type": "code",
      "execution_count": null,
      "metadata": {
        "id": "cOem1EjQkq_H"
      },
      "outputs": [],
      "source": [
        "# Do not change the code in this cell\n",
        "true_slope = 15\n",
        "true_intercept = 2.4\n",
        "input_var = np.arange(0.0,100.0)\n",
        "output_var = true_slope * input_var + true_intercept + 300.0 * np.random.rand(len(input_var))"
      ]
    },
    {
      "cell_type": "code",
      "execution_count": null,
      "metadata": {
        "colab": {
          "base_uri": "https://localhost:8080/",
          "height": 279
        },
        "id": "SNvDqYEykq_H",
        "outputId": "ee9e9162-0d80-41ac-b93b-4617b847c432",
        "scrolled": false
      },
      "outputs": [
        {
          "output_type": "display_data",
          "data": {
            "text/plain": [
              "<Figure size 432x288 with 1 Axes>"
            ],
            "image/png": "[encoded data removed]"
          },
          "metadata": {
            "needs_background": "light"
          }
        }
      ],
      "source": [
        "# Do not change the code in this cell\n",
        "plt.figure()\n",
        "plt.scatter(input_var, output_var)\n",
        "plt.xlabel('x')\n",
        "plt.ylabel('y')\n",
        "plt.show()"
      ]
    },
    {
      "cell_type": "code",
      "execution_count": null,
      "metadata": {
        "id": "XgNhbpEmkq_I"
      },
      "outputs": [],
      "source": [
        "def compute_cost(ip, op, params):\n",
        "    \"\"\"\n",
        "    Cost function in linear regression where the cost is calculated\n",
        "    ip: input variables\n",
        "    op: output variables\n",
        "    params: corresponding parameters\n",
        "    Returns cost\n",
        "    \"\"\"\n",
        "    num_samples = len(ip)\n",
        "    cost_sum = 0.0\n",
        "    for x,y in zip(ip, op):\n",
        "        y_hat = np.dot(params, np.array([1.0, x]))\n",
        "        cost_sum += (y_hat - y) ** 2\n",
        "    \n",
        "    cost = cost_sum / (num_samples)\n",
        "    \n",
        "    return cost"
      ]
    },
    {
      "cell_type": "markdown",
      "metadata": {
        "id": "MMIwPHznVG6w"
      },
      "source": [
        "### Q2.1 Implement Linear Regression using Batch Gradient Descent from scratch.  (15 points)"
      ]
    },
    {
      "cell_type": "markdown",
      "metadata": {
        "id": "7Ao7aYu9kq_I"
      },
      "source": [
        "\n",
        "### Batch gradient descent\n",
        "Algorithm can be given as follows:\n",
        "\n",
        "```for j in 0 -> max_iteration: \n",
        "    for i in 0 -> m: \n",
        "        theta += (alpha / m) * (y[i] - h(x[i])) * x_bar\n",
        "```"
      ]
    },
    {
      "cell_type": "markdown",
      "source": [
        " I really tried my hardest to complete this question using vector/matrix operations rather than operating on each component, but I found my learning rate needed to be adjusted in that scenario, which isn't permitted.  I still don't understand why that should be the case. \n",
        "\n",
        "  In order to complete the exercise without changing the learning rate, I switched to operating on an example at a time. I left the code in the cell, but commented out to show my thought process.\n"
      ],
      "metadata": {
        "id": "c26P1VUqwAul"
      }
    },
    {
      "cell_type": "code",
      "execution_count": null,
      "metadata": {
        "id": "f0z876gDkq_I"
      },
      "outputs": [],
      "source": [
        "def linear_regression_using_batch_gradient_descent(ip, op, params, alpha, max_iter):\n",
        "    \"\"\"\n",
        "    Compute the params for linear regression using batch gradient descent\n",
        "    ip: input variables\n",
        "    op: output variables\n",
        "    params: corresponding parameters\n",
        "    alpha: learning rate\n",
        "    max_iter: maximum number of iterations\n",
        "    Returns parameters, cost, params_store\n",
        "    \"\"\" \n",
        "    # initialize iteration, number of samples, cost and parameter array\n",
        "    iteration = 0\n",
        "    num_samples = len(ip)\n",
        "    cost = np.zeros(max_iter)\n",
        "    params_store = np.zeros([2, max_iter])\n",
        "    \n",
        "    # These variables were meant to support calculating\n",
        "    # the gradient at the matrix level.\n",
        "    #intercepts = np.ones_like(ip)\n",
        "    #X = np.array([np.ones(len(ip)), ip.flatten()]).T \n",
        "\n",
        "    # Compute the cost and store the params for the corresponding cost\n",
        "    while iteration < max_iter:\n",
        "        cost[iteration] = compute_cost(ip, op, params)\n",
        "        params_store[:, iteration] = params\n",
        "        \n",
        "        print('--------------------------')\n",
        "        print(f'iteration: {iteration}')\n",
        "        print(f'cost: {cost[iteration]}')\n",
        "        print(f'params: {params}')\n",
        " \n",
        " \n",
        "        # Apply batch gradient descent\n",
        "\n",
        "        # ended up looping over each example\n",
        "        for x, y in zip(ip, op):\n",
        "          y_hat = np.dot(params, np.array([1.0, x]))\n",
        "          gradient = np.array([1.0, x]) * (y - y_hat)\n",
        "          params += alpha * gradient/num_samples\n",
        "           \n",
        "        # The below code was my attempt to use\n",
        "        # matrix computations to avoid explicitly\n",
        "        # looping.  It worked, but not without modifying\n",
        "        # alpha, which was prohibited. Not sure why it \n",
        "        # would appear to work, but only with a reduced learning rate.\n",
        "\n",
        "        #preds = X.dot(params)\n",
        "        #loss = op - preds\n",
        "        #grad = loss.dot(X)\n",
        "        #new_params = (alpha/len(X)) * grad\n",
        "        #params += new_params\n",
        "\n",
        "        iteration += 1    \n",
        "    return params, cost, params_store"
      ]
    },
    {
      "cell_type": "code",
      "execution_count": null,
      "metadata": {
        "colab": {
          "base_uri": "https://localhost:8080/"
        },
        "id": "qbjhyZ71kq_I",
        "outputId": "2e9f6cb2-8801-4a23-cd02-0f08a2f64f8f"
      },
      "outputs": [
        {
          "output_type": "stream",
          "name": "stdout",
          "text": [
            "--------------------------\n",
            "iteration: 0\n",
            "cost: 11910175.085004052\n",
            "params: [20. 80.]\n",
            "--------------------------\n",
            "iteration: 1\n",
            "cost: 34693.87267492755\n",
            "params: [19.11365509 19.77550869]\n",
            "--------------------------\n",
            "iteration: 2\n",
            "cost: 9918.993731939318\n",
            "params: [19.10016328 17.06205194]\n",
            "--------------------------\n",
            "iteration: 3\n",
            "cost: 9836.864925339762\n",
            "params: [19.12598503 16.93938474]\n",
            "--------------------------\n",
            "iteration: 4\n",
            "cost: 9833.813196061466\n",
            "params: [19.1535706 16.933429 ]\n",
            "--------------------------\n",
            "iteration: 5\n",
            "cost: 9832.227091165758\n",
            "params: [19.18122844 16.93273106]\n",
            "--------------------------\n",
            "iteration: 6\n",
            "cost: 9830.703523962617\n",
            "params: [19.20888233 16.9322701 ]\n",
            "--------------------------\n",
            "iteration: 7\n",
            "cost: 9829.183557850012\n",
            "params: [19.23652884 16.93181992]\n",
            "--------------------------\n",
            "iteration: 8\n",
            "cost: 9827.664547088209\n",
            "params: [19.26416783 16.93137035]\n",
            "--------------------------\n",
            "iteration: 9\n",
            "cost: 9826.146372123892\n",
            "params: [19.29179929 16.93092093]\n",
            "--------------------------\n",
            "iteration: 10\n",
            "cost: 9824.629027140994\n",
            "params: [19.31942322 16.93047162]\n",
            "--------------------------\n",
            "iteration: 11\n",
            "cost: 9823.11251144524\n",
            "params: [19.34703963 16.93002244]\n",
            "--------------------------\n",
            "iteration: 12\n",
            "cost: 9821.596824573191\n",
            "params: [19.37464851 16.92957338]\n",
            "--------------------------\n",
            "iteration: 13\n",
            "cost: 9820.081966072088\n",
            "params: [19.40224986 16.92912445]\n",
            "--------------------------\n",
            "iteration: 14\n",
            "cost: 9818.567935489853\n",
            "params: [19.4298437  16.92867563]\n",
            "--------------------------\n",
            "iteration: 15\n",
            "cost: 9817.054732374683\n",
            "params: [19.45743002 16.92822694]\n",
            "--------------------------\n",
            "iteration: 16\n",
            "cost: 9815.542356275033\n",
            "params: [19.48500882 16.92777837]\n",
            "--------------------------\n",
            "iteration: 17\n",
            "cost: 9814.030806739593\n",
            "params: [19.5125801  16.92732993]\n",
            "--------------------------\n",
            "iteration: 18\n",
            "cost: 9812.520083317313\n",
            "params: [19.54014388 16.9268816 ]\n",
            "--------------------------\n",
            "iteration: 19\n",
            "cost: 9811.010185557363\n",
            "params: [19.56770014 16.9264334 ]\n",
            "--------------------------\n",
            "iteration: 20\n",
            "cost: 9809.50111300919\n",
            "params: [19.59524889 16.92598532]\n",
            "--------------------------\n",
            "iteration: 21\n",
            "cost: 9807.992865222463\n",
            "params: [19.62279014 16.92553736]\n",
            "--------------------------\n",
            "iteration: 22\n",
            "cost: 9806.485441747102\n",
            "params: [19.65032388 16.92508953]\n",
            "--------------------------\n",
            "iteration: 23\n",
            "cost: 9804.97884213328\n",
            "params: [19.67785012 16.92464181]\n",
            "--------------------------\n",
            "iteration: 24\n",
            "cost: 9803.473065931406\n",
            "params: [19.70536886 16.92419422]\n",
            "--------------------------\n",
            "iteration: 25\n",
            "cost: 9801.968112692151\n",
            "params: [19.73288011 16.92374675]\n",
            "--------------------------\n",
            "iteration: 26\n",
            "cost: 9800.463981966408\n",
            "params: [19.76038385 16.9232994 ]\n",
            "--------------------------\n",
            "iteration: 27\n",
            "cost: 9798.96067330533\n",
            "params: [19.78788011 16.92285218]\n",
            "--------------------------\n",
            "iteration: 28\n",
            "cost: 9797.458186260306\n",
            "params: [19.81536887 16.92240507]\n",
            "--------------------------\n",
            "iteration: 29\n",
            "cost: 9795.956520382973\n",
            "params: [19.84285014 16.92195809]\n",
            "--------------------------\n",
            "iteration: 30\n",
            "cost: 9794.455675225225\n",
            "params: [19.87032392 16.92151123]\n",
            "--------------------------\n",
            "iteration: 31\n",
            "cost: 9792.955650339178\n",
            "params: [19.89779021 16.92106449]\n",
            "--------------------------\n",
            "iteration: 32\n",
            "cost: 9791.45644527721\n",
            "params: [19.92524903 16.92061787]\n",
            "--------------------------\n",
            "iteration: 33\n",
            "cost: 9789.95805959193\n",
            "params: [19.95270036 16.92017138]\n",
            "--------------------------\n",
            "iteration: 34\n",
            "cost: 9788.460492836204\n",
            "params: [19.98014421 16.919725  ]\n",
            "--------------------------\n",
            "iteration: 35\n",
            "cost: 9786.963744563132\n",
            "params: [20.00758058 16.91927875]\n",
            "--------------------------\n",
            "iteration: 36\n",
            "cost: 9785.467814326053\n",
            "params: [20.03500948 16.91883262]\n",
            "--------------------------\n",
            "iteration: 37\n",
            "cost: 9783.97270167858\n",
            "params: [20.0624309  16.91838661]\n",
            "--------------------------\n",
            "iteration: 38\n",
            "cost: 9782.47840617452\n",
            "params: [20.08984485 16.91794072]\n",
            "--------------------------\n",
            "iteration: 39\n",
            "cost: 9780.98492736796\n",
            "params: [20.11725133 16.91749496]\n",
            "--------------------------\n",
            "iteration: 40\n",
            "cost: 9779.492264813227\n",
            "params: [20.14465034 16.91704931]\n",
            "--------------------------\n",
            "iteration: 41\n",
            "cost: 9778.000418064881\n",
            "params: [20.17204189 16.91660379]\n",
            "--------------------------\n",
            "iteration: 42\n",
            "cost: 9776.50938667772\n",
            "params: [20.19942598 16.91615839]\n",
            "--------------------------\n",
            "iteration: 43\n",
            "cost: 9775.019170206799\n",
            "params: [20.2268026  16.91571311]\n",
            "--------------------------\n",
            "iteration: 44\n",
            "cost: 9773.529768207414\n",
            "params: [20.25417176 16.91526795]\n",
            "--------------------------\n",
            "iteration: 45\n",
            "cost: 9772.041180235088\n",
            "params: [20.28153347 16.91482291]\n",
            "--------------------------\n",
            "iteration: 46\n",
            "cost: 9770.55340584561\n",
            "params: [20.30888772 16.91437799]\n",
            "--------------------------\n",
            "iteration: 47\n",
            "cost: 9769.066444594991\n",
            "params: [20.33623452 16.9139332 ]\n",
            "--------------------------\n",
            "iteration: 48\n",
            "cost: 9767.580296039496\n",
            "params: [20.36357386 16.91348852]\n",
            "--------------------------\n",
            "iteration: 49\n",
            "cost: 9766.09495973562\n",
            "params: [20.39090576 16.91304397]\n",
            "--------------------------\n",
            "iteration: 50\n",
            "cost: 9764.61043524012\n",
            "params: [20.41823021 16.91259954]\n",
            "--------------------------\n",
            "iteration: 51\n",
            "cost: 9763.126722109966\n",
            "params: [20.44554721 16.91215523]\n",
            "--------------------------\n",
            "iteration: 52\n",
            "cost: 9761.6438199024\n",
            "params: [20.47285677 16.91171104]\n",
            "--------------------------\n",
            "iteration: 53\n",
            "cost: 9760.161728174879\n",
            "params: [20.50015889 16.91126697]\n",
            "--------------------------\n",
            "iteration: 54\n",
            "cost: 9758.68044648513\n",
            "params: [20.52745357 16.91082302]\n",
            "--------------------------\n",
            "iteration: 55\n",
            "cost: 9757.199974391087\n",
            "params: [20.55474082 16.91037919]\n",
            "--------------------------\n",
            "iteration: 56\n",
            "cost: 9755.720311450948\n",
            "params: [20.58202062 16.90993549]\n",
            "--------------------------\n",
            "iteration: 57\n",
            "cost: 9754.241457223166\n",
            "params: [20.609293  16.9094919]\n",
            "--------------------------\n",
            "iteration: 58\n",
            "cost: 9752.76341126639\n",
            "params: [20.63655794 16.90904844]\n",
            "--------------------------\n",
            "iteration: 59\n",
            "cost: 9751.286173139535\n",
            "params: [20.66381546 16.90860509]\n",
            "--------------------------\n",
            "iteration: 60\n",
            "cost: 9749.809742401776\n",
            "params: [20.69106554 16.90816187]\n",
            "--------------------------\n",
            "iteration: 61\n",
            "cost: 9748.3341186125\n",
            "params: [20.71830821 16.90771877]\n",
            "--------------------------\n",
            "iteration: 62\n",
            "cost: 9746.859301331333\n",
            "params: [20.74554344 16.90727579]\n",
            "--------------------------\n",
            "iteration: 63\n",
            "cost: 9745.385290118165\n",
            "params: [20.77277126 16.90683293]\n",
            "--------------------------\n",
            "iteration: 64\n",
            "cost: 9743.912084533114\n",
            "params: [20.79999166 16.90639019]\n",
            "--------------------------\n",
            "iteration: 65\n",
            "cost: 9742.43968413652\n",
            "params: [20.82720464 16.90594757]\n",
            "--------------------------\n",
            "iteration: 66\n",
            "cost: 9740.968088488991\n",
            "params: [20.85441021 16.90550507]\n",
            "--------------------------\n",
            "iteration: 67\n",
            "cost: 9739.497297151367\n",
            "params: [20.88160837 16.90506269]\n",
            "--------------------------\n",
            "iteration: 68\n",
            "cost: 9738.02730968472\n",
            "params: [20.90879911 16.90462044]\n",
            "--------------------------\n",
            "iteration: 69\n",
            "cost: 9736.558125650354\n",
            "params: [20.93598245 16.9041783 ]\n",
            "--------------------------\n",
            "iteration: 70\n",
            "cost: 9735.089744609828\n",
            "params: [20.96315837 16.90373628]\n",
            "--------------------------\n",
            "iteration: 71\n",
            "cost: 9733.622166124947\n",
            "params: [20.9903269  16.90329439]\n",
            "--------------------------\n",
            "iteration: 72\n",
            "cost: 9732.155389757725\n",
            "params: [21.01748802 16.90285261]\n",
            "--------------------------\n",
            "iteration: 73\n",
            "cost: 9730.689415070445\n",
            "params: [21.04464174 16.90241096]\n",
            "--------------------------\n",
            "iteration: 74\n",
            "cost: 9729.224241625609\n",
            "params: [21.07178806 16.90196942]\n",
            "--------------------------\n",
            "iteration: 75\n",
            "cost: 9727.75986898596\n",
            "params: [21.09892698 16.90152801]\n",
            "--------------------------\n",
            "iteration: 76\n",
            "cost: 9726.296296714503\n",
            "params: [21.12605851 16.90108672]\n",
            "--------------------------\n",
            "iteration: 77\n",
            "cost: 9724.83352437445\n",
            "params: [21.15318265 16.90064554]\n",
            "--------------------------\n",
            "iteration: 78\n",
            "cost: 9723.37155152926\n",
            "params: [21.18029939 16.90020449]\n",
            "--------------------------\n",
            "iteration: 79\n",
            "cost: 9721.910377742639\n",
            "params: [21.20740875 16.89976355]\n",
            "--------------------------\n",
            "iteration: 80\n",
            "cost: 9720.450002578527\n",
            "params: [21.23451072 16.89932274]\n",
            "--------------------------\n",
            "iteration: 81\n",
            "cost: 9718.990425601096\n",
            "params: [21.26160531 16.89888205]\n",
            "--------------------------\n",
            "iteration: 82\n",
            "cost: 9717.531646374764\n",
            "params: [21.28869251 16.89844147]\n",
            "--------------------------\n",
            "iteration: 83\n",
            "cost: 9716.07366446418\n",
            "params: [21.31577233 16.89800102]\n",
            "--------------------------\n",
            "iteration: 84\n",
            "cost: 9714.616479434237\n",
            "params: [21.34284477 16.89756069]\n",
            "--------------------------\n",
            "iteration: 85\n",
            "cost: 9713.160090850059\n",
            "params: [21.36990984 16.89712048]\n",
            "--------------------------\n",
            "iteration: 86\n",
            "cost: 9711.704498277011\n",
            "params: [21.39696753 16.89668038]\n",
            "--------------------------\n",
            "iteration: 87\n",
            "cost: 9710.249701280682\n",
            "params: [21.42401785 16.89624041]\n",
            "--------------------------\n",
            "iteration: 88\n",
            "cost: 9708.79569942693\n",
            "params: [21.4510608  16.89580056]\n",
            "--------------------------\n",
            "iteration: 89\n",
            "cost: 9707.342492281807\n",
            "params: [21.47809638 16.89536082]\n",
            "--------------------------\n",
            "iteration: 90\n",
            "cost: 9705.890079411645\n",
            "params: [21.5051246  16.89492121]\n",
            "--------------------------\n",
            "iteration: 91\n",
            "cost: 9704.438460382973\n",
            "params: [21.53214545 16.89448171]\n",
            "--------------------------\n",
            "iteration: 92\n",
            "cost: 9702.987634762581\n",
            "params: [21.55915893 16.89404234]\n",
            "--------------------------\n",
            "iteration: 93\n",
            "cost: 9701.537602117494\n",
            "params: [21.58616506 16.89360309]\n",
            "--------------------------\n",
            "iteration: 94\n",
            "cost: 9700.088362014967\n",
            "params: [21.61316383 16.89316395]\n",
            "--------------------------\n",
            "iteration: 95\n",
            "cost: 9698.639914022484\n",
            "params: [21.64015524 16.89272494]\n",
            "--------------------------\n",
            "iteration: 96\n",
            "cost: 9697.19225770778\n",
            "params: [21.6671393  16.89228604]\n",
            "--------------------------\n",
            "iteration: 97\n",
            "cost: 9695.745392638812\n",
            "params: [21.694116   16.89184727]\n",
            "--------------------------\n",
            "iteration: 98\n",
            "cost: 9694.299318383788\n",
            "params: [21.72108535 16.89140861]\n",
            "--------------------------\n",
            "iteration: 99\n",
            "cost: 9692.854034511136\n",
            "params: [21.74804736 16.89097007]\n"
          ]
        }
      ],
      "source": [
        "# Do not change the code in this cell\n",
        "# Training the model\n",
        "from sklearn.model_selection import train_test_split\n",
        "x_train, x_test, y_train, y_test = train_test_split(input_var, output_var, test_size=0.20)\n",
        "\n",
        "params_0 = np.array([20.0, 80.0])\n",
        "\n",
        "alpha_batch = 1e-3\n",
        "max_iter = 100\n",
        "params_hat_batch, cost_batch, params_store_batch =\\\n",
        "    linear_regression_using_batch_gradient_descent(x_train, y_train, params_0, alpha_batch, max_iter)"
      ]
    },
    {
      "cell_type": "markdown",
      "source": [
        "Assigning the cost_batch variable to bgd_costs for clarity."
      ],
      "metadata": {
        "id": "SIUUwCqJqopv"
      }
    },
    {
      "cell_type": "code",
      "source": [
        "bgd_costs = cost_batch"
      ],
      "metadata": {
        "id": "rAL638lTp1Gd"
      },
      "execution_count": null,
      "outputs": []
    },
    {
      "cell_type": "markdown",
      "metadata": {
        "id": "3gMza9CnVG6y"
      },
      "source": [
        "### Q2.2 Implement Stochastic Gradient Descent from scratch. (15 points)"
      ]
    },
    {
      "cell_type": "markdown",
      "metadata": {
        "id": "lEIJL-WGkq_I"
      },
      "source": [
        "### Stochastic Gradient Descent\n",
        "Algorithm can be given as follows:\n",
        "```shuffle(x, y)\n",
        "for i in 0 -> m:\n",
        "    theta += (alpha / m) * (y[i] - h(x[i])) * x_bar  \n",
        "```"
      ]
    },
    {
      "cell_type": "markdown",
      "source": [
        "Ordinarily, I would have expected to loop for some configured number of iterations, each time selecting a random example from the training data on which to perform gradient descent, but I was advised in office hours that since the train/test split is already a random sample, we can simply loop over our training data, so that's what I did here.\n"
      ],
      "metadata": {
        "id": "qONMEFnLPMA2"
      }
    },
    {
      "cell_type": "code",
      "execution_count": null,
      "metadata": {
        "id": "Gx9LN0wQkq_I"
      },
      "outputs": [],
      "source": [
        "def lin_reg_stoch_gradient_descent(ip, op, params, alpha):\n",
        "    \"\"\"\n",
        "    Compute the params for linear regression using stochastic gradient descent\n",
        "    ip: input variables\n",
        "    op: output variables\n",
        "    params: corresponding parameters\n",
        "    alpha: learning rate\n",
        "    Returns parameters, cost, params_store\n",
        "    \"\"\"\n",
        "    # input_var and output_var are global vars\n",
        "    # and are being used instead of the method args\n",
        "    # which have been appropriately split.  Assigning\n",
        "    # those values to input_var and output_var to correct.\n",
        "    input_var = ip\n",
        "    output_var = op \n",
        "    # initialize iteration, number of samples, cost and parameter array\n",
        "    num_samples = len(input_var)\n",
        "    cost = np.zeros(num_samples)\n",
        "    params_store = np.zeros([2, num_samples])\n",
        "    \n",
        "    i = 0\n",
        "    # Compute the cost and store the params for the corresponding cost\n",
        "    for x,y in zip(input_var, output_var):\n",
        "        cost[i] = compute_cost(input_var, output_var, params)\n",
        "        params_store[:, i] = params\n",
        "        \n",
        "        print('--------------------------')\n",
        "        print(f'iteration: {i}')\n",
        "        print(f'cost: {cost[i]}')\n",
        "        print(f'params: {params}')\n",
        "        \n",
        "        # Apply stochastic gradient descent\n",
        "        y_hat = np.dot(params, np.array([1.0, x]))\n",
        "        gradient = np.array([1.0, x]) * (y - y_hat)\n",
        "        params += alpha * gradient/num_samples                    \n",
        "\n",
        "        i += 1\n",
        "    return params, cost, params_store"
      ]
    },
    {
      "cell_type": "code",
      "execution_count": null,
      "metadata": {
        "id": "HivE1gVkkq_J",
        "colab": {
          "base_uri": "https://localhost:8080/"
        },
        "outputId": "49aa63ba-a0d8-4427-84d4-6d0127bc2b36"
      },
      "outputs": [
        {
          "output_type": "stream",
          "name": "stdout",
          "text": [
            "--------------------------\n",
            "iteration: 0\n",
            "cost: 11910175.085004052\n",
            "params: [20. 80.]\n",
            "--------------------------\n",
            "iteration: 1\n",
            "cost: 10826051.309154604\n",
            "params: [19.95175116 77.05682078]\n",
            "--------------------------\n",
            "iteration: 2\n",
            "cost: 9200477.316152483\n",
            "params: [19.89219045 72.35152444]\n",
            "--------------------------\n",
            "iteration: 3\n",
            "cost: 8317555.639244497\n",
            "params: [19.84883835 69.62034246]\n",
            "--------------------------\n",
            "iteration: 4\n",
            "cost: 8169485.516439803\n",
            "params: [19.83136232 69.14848958]\n",
            "--------------------------\n",
            "iteration: 5\n",
            "cost: 8133031.1952157\n",
            "params: [19.82238141 69.03173774]\n",
            "--------------------------\n",
            "iteration: 6\n",
            "cost: 8132084.029348101\n",
            "params: [19.82087277 69.02872047]\n",
            "--------------------------\n",
            "iteration: 7\n",
            "cost: 7991018.709885463\n",
            "params: [19.80338924 68.57414854]\n",
            "--------------------------\n",
            "iteration: 8\n",
            "cost: 7297499.881769617\n",
            "params: [19.76511562 66.27773157]\n",
            "--------------------------\n",
            "iteration: 9\n",
            "cost: 5634891.849953597\n",
            "params: [19.70452869 60.2796257 ]\n",
            "--------------------------\n",
            "iteration: 10\n",
            "cost: 5616623.116659911\n",
            "params: [19.69865867 60.20918547]\n",
            "--------------------------\n",
            "iteration: 11\n",
            "cost: 5610621.071850444\n",
            "params: [19.69576458 60.18603271]\n",
            "--------------------------\n",
            "iteration: 12\n",
            "cost: 5568310.301877656\n",
            "params: [19.68714624 60.02228434]\n",
            "--------------------------\n",
            "iteration: 13\n",
            "cost: 5390525.503871357\n",
            "params: [19.66783441 59.32705819]\n",
            "--------------------------\n",
            "iteration: 14\n",
            "cost: 4202954.058221621\n",
            "params: [19.61654687 54.3521674 ]\n",
            "--------------------------\n",
            "iteration: 15\n",
            "cost: 4203691.531632111\n",
            "params: [19.61763956 54.35544547]\n",
            "--------------------------\n",
            "iteration: 16\n",
            "cost: 4097983.5078461813\n",
            "params: [19.60324403 53.88039302]\n",
            "--------------------------\n",
            "iteration: 17\n",
            "cost: 4049749.0959068313\n",
            "params: [19.5928275  53.66164587]\n",
            "--------------------------\n",
            "iteration: 18\n",
            "cost: 3763215.8962453296\n",
            "params: [19.56777329 52.33377239]\n",
            "--------------------------\n",
            "iteration: 19\n",
            "cost: 3053802.514215748\n",
            "params: [19.52860799 48.80889565]\n",
            "--------------------------\n",
            "iteration: 20\n",
            "cost: 2990277.5770520433\n",
            "params: [19.51665458 48.47420021]\n",
            "--------------------------\n",
            "iteration: 21\n",
            "cost: 2964277.927826614\n",
            "params: [19.50898954 48.33622941]\n",
            "--------------------------\n",
            "iteration: 22\n",
            "cost: 2407429.7467176383\n",
            "params: [19.4731497  45.21816376]\n",
            "--------------------------\n",
            "iteration: 23\n",
            "cost: 2370420.136767455\n",
            "params: [19.46400849 44.99877472]\n",
            "--------------------------\n",
            "iteration: 24\n",
            "cost: 2351912.163737907\n",
            "params: [19.45849127 44.88843037]\n",
            "--------------------------\n",
            "iteration: 25\n",
            "cost: 2352606.3534730966\n",
            "params: [19.45952477 44.89256434]\n",
            "--------------------------\n",
            "iteration: 26\n",
            "cost: 2334851.444079674\n",
            "params: [19.45469492 44.78630767]\n",
            "--------------------------\n",
            "iteration: 27\n",
            "cost: 2304040.450020587\n",
            "params: [19.44663554 44.60094197]\n",
            "--------------------------\n",
            "iteration: 28\n",
            "cost: 2301756.2446970725\n",
            "params: [19.44434124 44.58717618]\n",
            "--------------------------\n",
            "iteration: 29\n",
            "cost: 1843740.1252792738\n",
            "params: [19.41258481 41.66558476]\n",
            "--------------------------\n",
            "iteration: 30\n",
            "cost: 1512011.581857329\n",
            "params: [19.38457959 39.31314591]\n",
            "--------------------------\n",
            "iteration: 31\n",
            "cost: 1199478.8759578294\n",
            "params: [19.35831907 36.84465685]\n",
            "--------------------------\n",
            "iteration: 32\n",
            "cost: 948278.9877222698\n",
            "params: [19.33432387 34.61310351]\n",
            "--------------------------\n",
            "iteration: 33\n",
            "cost: 932977.2688928483\n",
            "params: [19.32964521 34.46806499]\n",
            "--------------------------\n",
            "iteration: 34\n",
            "cost: 761585.1557130804\n",
            "params: [19.30969783 32.75259044]\n",
            "--------------------------\n",
            "iteration: 35\n",
            "cost: 715022.5820896358\n",
            "params: [19.29930134 32.25355901]\n",
            "--------------------------\n",
            "iteration: 36\n",
            "cost: 644803.1707634099\n",
            "params: [19.28664163 31.46865713]\n",
            "--------------------------\n",
            "iteration: 37\n",
            "cost: 542350.9422012013\n",
            "params: [19.27184884 30.24085546]\n",
            "--------------------------\n",
            "iteration: 38\n",
            "cost: 518714.2987159061\n",
            "params: [19.26471549 29.94125489]\n",
            "--------------------------\n",
            "iteration: 39\n",
            "cost: 489591.3220482181\n",
            "params: [19.25742885 29.56234921]\n",
            "--------------------------\n",
            "iteration: 40\n",
            "cost: 479590.2879573627\n",
            "params: [19.25363623 29.42960769]\n",
            "--------------------------\n",
            "iteration: 41\n",
            "cost: 433585.5970628746\n",
            "params: [19.24379596 28.79983019]\n",
            "--------------------------\n",
            "iteration: 42\n",
            "cost: 420180.51369624643\n",
            "params: [19.23880007 28.60998647]\n",
            "--------------------------\n",
            "iteration: 43\n",
            "cost: 364086.0759133698\n",
            "params: [19.22757813 27.77956312]\n",
            "--------------------------\n",
            "iteration: 44\n",
            "cost: 308909.6610084226\n",
            "params: [19.21652981 26.89569765]\n",
            "--------------------------\n",
            "iteration: 45\n",
            "cost: 304939.852590795\n",
            "params: [19.21423322 26.82909646]\n",
            "--------------------------\n",
            "iteration: 46\n",
            "cost: 291773.6624598622\n",
            "params: [19.20848485 26.60490995]\n",
            "--------------------------\n",
            "iteration: 47\n",
            "cost: 273958.93464894046\n",
            "params: [19.2022474 26.2930374]\n",
            "--------------------------\n",
            "iteration: 48\n",
            "cost: 269650.7961945889\n",
            "params: [19.19916884 26.21607351]\n",
            "--------------------------\n",
            "iteration: 49\n",
            "cost: 247370.58808580093\n",
            "params: [19.19315734 25.80729161]\n",
            "--------------------------\n",
            "iteration: 50\n",
            "cost: 221623.61280261067\n",
            "params: [19.18562599 25.31022243]\n",
            "--------------------------\n",
            "iteration: 51\n",
            "cost: 221760.9100540508\n",
            "params: [19.18831597 25.3129124 ]\n",
            "--------------------------\n",
            "iteration: 52\n",
            "cost: 206782.25866385738\n",
            "params: [19.18280584 25.00985564]\n",
            "--------------------------\n",
            "iteration: 53\n",
            "cost: 202891.14228300427\n",
            "params: [19.18062783 24.9292691 ]\n",
            "--------------------------\n",
            "iteration: 54\n",
            "cost: 181477.64576885116\n",
            "params: [19.17356815 24.4703903 ]\n",
            "--------------------------\n",
            "iteration: 55\n",
            "cost: 160481.5582438691\n",
            "params: [19.16701087 23.99170878]\n",
            "--------------------------\n",
            "iteration: 56\n",
            "cost: 121120.95359206018\n",
            "params: [19.15661761 22.99395546]\n",
            "--------------------------\n",
            "iteration: 57\n",
            "cost: 110604.32653075217\n",
            "params: [19.15233479 22.69844073]\n",
            "--------------------------\n",
            "iteration: 58\n",
            "cost: 110605.63393625563\n",
            "params: [19.15501871 22.69844073]\n",
            "--------------------------\n",
            "iteration: 59\n",
            "cost: 85993.64991451833\n",
            "params: [19.14639621 21.93966063]\n",
            "--------------------------\n",
            "iteration: 60\n",
            "cost: 86488.68939063218\n",
            "params: [19.14873228 21.95601309]\n",
            "--------------------------\n",
            "iteration: 61\n",
            "cost: 78336.60966025412\n",
            "params: [19.14459955 21.67912066]\n",
            "--------------------------\n",
            "iteration: 62\n",
            "cost: 78057.42726409514\n",
            "params: [19.14371258 21.669364  ]\n",
            "--------------------------\n",
            "iteration: 63\n",
            "cost: 77828.39774705637\n",
            "params: [19.14282184 21.66134734]\n",
            "--------------------------\n",
            "iteration: 64\n",
            "cost: 73539.75965678206\n",
            "params: [19.13970191 21.50847043]\n",
            "--------------------------\n",
            "iteration: 65\n",
            "cost: 74309.61957975307\n",
            "params: [19.14168722 21.53626482]\n",
            "--------------------------\n",
            "iteration: 66\n",
            "cost: 70187.43834404336\n",
            "params: [19.1391289  21.38532403]\n",
            "--------------------------\n",
            "iteration: 67\n",
            "cost: 66639.42985111401\n",
            "params: [19.1362759  21.25123309]\n",
            "--------------------------\n",
            "iteration: 68\n",
            "cost: 65657.94009063745\n",
            "params: [19.13543529 21.21340529]\n",
            "--------------------------\n",
            "iteration: 69\n",
            "cost: 61341.91840601645\n",
            "params: [19.13239166 21.04296211]\n",
            "--------------------------\n",
            "iteration: 70\n",
            "cost: 56844.24811373094\n",
            "params: [19.12895831 20.85756152]\n",
            "--------------------------\n",
            "iteration: 71\n",
            "cost: 51734.41774257424\n",
            "params: [19.12604025 20.63578892]\n",
            "--------------------------\n",
            "iteration: 72\n",
            "cost: 48734.222746116095\n",
            "params: [19.12307195 20.49924693]\n",
            "--------------------------\n",
            "iteration: 73\n",
            "cost: 44099.71432312212\n",
            "params: [19.11924887 20.27750805]\n",
            "--------------------------\n",
            "iteration: 74\n",
            "cost: 43008.29719351898\n",
            "params: [19.11743707 20.2231542 ]\n",
            "--------------------------\n",
            "iteration: 75\n",
            "cost: 42536.76963266339\n",
            "params: [19.11697113 20.19939106]\n",
            "--------------------------\n",
            "iteration: 76\n",
            "cost: 36532.75363840992\n",
            "params: [19.11271677 19.8803146 ]\n",
            "--------------------------\n",
            "iteration: 77\n",
            "cost: 36721.390692388944\n",
            "params: [19.11482011 19.89083127]\n",
            "--------------------------\n",
            "iteration: 78\n",
            "cost: 36948.28011603883\n",
            "params: [19.11566155 19.90345285]\n",
            "--------------------------\n",
            "iteration: 79\n",
            "cost: 36708.666635268644\n",
            "params: [19.11526928 19.89011564]\n"
          ]
        }
      ],
      "source": [
        "# Do not change the code in this cell\n",
        "alpha = 1e-3\n",
        "params_0 = np.array([20.0, 80.0])\n",
        "params_hat, cost, params_store =\\\n",
        "lin_reg_stoch_gradient_descent(x_train, y_train, params_0, alpha)"
      ]
    },
    {
      "cell_type": "markdown",
      "source": [
        "Assigning cost to a new variable sgd_cost for clarity."
      ],
      "metadata": {
        "id": "HTr2JeAPq8nM"
      }
    },
    {
      "cell_type": "code",
      "source": [
        "sgd_costs = cost"
      ],
      "metadata": {
        "id": "2xAt15hurQpv"
      },
      "execution_count": null,
      "outputs": []
    },
    {
      "cell_type": "markdown",
      "metadata": {
        "id": "1KM0q_avVG60"
      },
      "source": [
        "### Q2.3 Calculate Root Mean Square error in batch gradient descent algorithm and stochastic gradient descent algorithm (5 points)"
      ]
    },
    {
      "cell_type": "code",
      "execution_count": null,
      "metadata": {
        "id": "pNgU_6Q0VG60",
        "colab": {
          "base_uri": "https://localhost:8080/"
        },
        "outputId": "ec015fc4-41b6-4ba6-8ab8-eb88dd44ef10"
      },
      "outputs": [
        {
          "output_type": "stream",
          "name": "stdout",
          "text": [
            "BGD RMSE: 359.1913660839094\n",
            "SGD RMSE: 1457.0497466556374\n"
          ]
        }
      ],
      "source": [
        "# Calculate Root Mean Square error in batch gradient descent algorithm and stochastic gradient descent algorithm\n",
        "bgd_rmse = np.sqrt(bgd_costs.sum()/len(bgd_costs))\n",
        "sgd_rmse = np.sqrt(sgd_costs.sum()/len(sgd_costs))\n",
        "\n",
        "print(f\"BGD RMSE: {bgd_rmse}\")\n",
        "print(f\"SGD RMSE: {sgd_rmse}\")\n"
      ]
    },
    {
      "cell_type": "code",
      "execution_count": null,
      "metadata": {
        "id": "930loAL6kq_L",
        "colab": {
          "base_uri": "https://localhost:8080/",
          "height": 325
        },
        "outputId": "93455620-a6d7-435b-b297-2d9fb9dd7f22"
      },
      "outputs": [
        {
          "output_type": "display_data",
          "data": {
            "text/plain": [
              "<Figure size 432x288 with 1 Axes>"
            ],
            "image/png": "[encoded data removed]"
          },
          "metadata": {
            "needs_background": "light"
          }
        },
        {
          "output_type": "stream",
          "name": "stdout",
          "text": [
            "min cost with BGD: 9692.854034511136\n",
            "min cost with SGD: 36532.75363840992\n"
          ]
        }
      ],
      "source": [
        "# Do not change the code in this cell\n",
        "plt.figure()\n",
        "plt.plot(np.arange(max_iter), cost_batch, 'r', label='batch')\n",
        "plt.plot(np.arange(len(cost)), cost, 'g', label='stochastic')\n",
        "plt.xlabel('iteration')\n",
        "plt.ylabel('normalized cost')\n",
        "plt.legend()\n",
        "plt.show()\n",
        "print(f'min cost with BGD: {np.min(cost_batch)}')\n",
        "print(f'min cost with SGD: {np.min(cost)}')"
      ]
    },
    {
      "cell_type": "markdown",
      "metadata": {
        "id": "Lrpju6Kwkq_N"
      },
      "source": [
        "### Q2.4 Which linear regression model do you think works best for this data? Explain in brief. (5 points)"
      ]
    },
    {
      "cell_type": "markdown",
      "metadata": {
        "id": "wgbTux39kq_N"
      },
      "source": [
        "The data obtained in these exercises shows that BGD performs much better on this dataset, and that makes intuitive sense, given that we are calculating the gradient based on each example every iteration, instead of just the one random one in SGD.\n",
        "\n",
        "That said, I was a bit surprised at just how much worse SGD performed in this instance. I believe the results would be much less skewed if the dataset were quite a bit larger and we had more iterations. In that instance, SGD would become more attractive for performance reasons as well, though my reading tells me we should prefer a minibatch version of SGD."
      ]
    },
    {
      "cell_type": "markdown",
      "metadata": {
        "id": "_p02LYZrkq_N"
      },
      "source": [
        "### Q3. Linear Regression Analytical Problem (10 points)\n",
        "Consider the following training data.\n",
        "\n",
        "| X1 | X2 | Y |\n",
        "| -- | -- | -- |\n",
        "| 0 | 0 | 0 |\n",
        "| 0 | 1 | 1.5 |\n",
        "| 1 | 0 | 2 |\n",
        "| 1 | 1 | 2.5 |\n",
        "Suppose the data comes from a model y = $θ_{0}$ +$θ_{1}$x1 +$θ_{2}$x2 for unknown constants $θ_{0}$,$θ_{1}$,$θ_{2}$. Use least squares linear regression to find an estimate of $θ_{0}$,$θ_{1}$,$θ_{2}$."
      ]
    },
    {
      "cell_type": "markdown",
      "source": [
        "This is a straightforward problem for np.linalg.solve.  We just need to set up the appropriate design matrix (including 1s for bias) and y vector."
      ],
      "metadata": {
        "id": "9yfx56Irt93M"
      }
    },
    {
      "cell_type": "code",
      "source": [
        "X = np.array([[1, 0, 0],\n",
        "              [1, 0, 1],\n",
        "              [1, 1, 0],\n",
        "              [1, 1, 1]])\n",
        "\n",
        "y = np.array([0, 1.5, 2, 2.5])\n",
        "\n",
        "XTX = np.dot(X.T,X)\n",
        "XTy = np.dot(X.T, y)\n",
        "\n",
        "weights = np.linalg.solve(XTX, XTy)\n",
        "print(f\"Theta0 = {weights[0]}, Theta1 = {weights[1]}, Theta2 = {weights[2]} \")"
      ],
      "metadata": {
        "colab": {
          "base_uri": "https://localhost:8080/"
        },
        "id": "GiYGyt43J9zW",
        "outputId": "6a6c5e21-a02c-4f01-f4aa-c2c159b4796b"
      },
      "execution_count": null,
      "outputs": [
        {
          "output_type": "stream",
          "name": "stdout",
          "text": [
            "Theta0 = 0.25, Theta1 = 1.5, Theta2 = 1.0 \n"
          ]
        }
      ]
    }
  ],
  "metadata": {
    "colab": {
      "collapsed_sections": [],
      "machine_shape": "hm",
      "name": "ML_HW1_DecisionTreesAndRegression.ipynb",
      "provenance": [],
      "include_colab_link": true
    },
    "kernelspec": {
      "display_name": "Python 3",
      "language": "python",
      "name": "python3"
    },
    "language_info": {
      "codemirror_mode": {
        "name": "ipython",
        "version": 3
      },
      "file_extension": ".py",
      "mimetype": "text/x-python",
      "name": "python",
      "nbconvert_exporter": "python",
      "pygments_lexer": "ipython3",
      "version": "3.8.8"
    }
  },
  "nbformat": 4,
  "nbformat_minor": 0
}