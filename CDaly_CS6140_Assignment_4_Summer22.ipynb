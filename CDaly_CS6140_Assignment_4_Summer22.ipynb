{
  "cells": [
    {
      "cell_type": "markdown",
      "metadata": {
        "id": "view-in-github",
        "colab_type": "text"
      },
      "source": [
        "<a href=\"https://colab.research.google.com/github/c-daly/Notebooks/blob/main/CDaly_CS6140_Assignment_4_Summer22.ipynb\" target=\"_parent\"><img src=\"https://colab.research.google.com/assets/colab-badge.svg\" alt=\"Open In Colab\"/></a>"
      ]
    },
    {
      "cell_type": "markdown",
      "source": [
        "# CS6140 - Machine Learning: Assignment 4 \n",
        "(Total Points: 100)\n",
        "## Prof. Ahmad Uzair "
      ],
      "metadata": {
        "id": "MVfR7g6eXDO4"
      },
      "id": "MVfR7g6eXDO4"
    },
    {
      "cell_type": "markdown",
      "source": [
        "# Q1. Expectation Maximization (25 Points)\n",
        "\n",
        "Etimate the probability distribution in a 1-dimensional dataset\n",
        "There are two Normal distributions  𝑁(𝜇1,𝜎1^2) and 𝑁(𝜇2,𝜎2^2).\n",
        "\n",
        "There are 5 paramaters to estimate: $𝜃=(𝑤, 𝜇1, 𝜎_1^2, 𝜇2,𝜎_2^2)$ where 𝑤 is the probability that the data comes from the first normal probability distribution and (1-𝑤) comes from the second normal probability distribution.\n",
        "\n",
        "The probability density function (PDF) of the mixture model is: $𝑓(𝑥|𝜃)=𝑤 𝑓1(𝑥 | 𝜇1,𝜎_1^2)+(1−𝑤) 𝑓2(𝑥 | 𝜇2,𝜎_2^2)$\n",
        "Your goal is to best fit a given probability density by finding $𝜃=(𝑤,𝜇1,𝜎_1^2,𝜇2,𝜎_2^2)$ through EM iterations.\n",
        "\n",
        "Using the following way to produce data:"
      ],
      "metadata": {
        "id": "rXuqN_idWHda"
      },
      "id": "rXuqN_idWHda"
    },
    {
      "cell_type": "code",
      "source": [
        "import numpy as np\n",
        "import matplotlib.pyplot as plt\n",
        "import seaborn as sns\n",
        "\n",
        "random_seed=36788765\n",
        "np.random.seed(random_seed)\n",
        "\n",
        "Mean1 = 2.0  # Input parameter, mean of first normal probability distribution\n",
        "Standard_dev1 = 4.0 #@param {type:\"number\"}\n",
        "Mean2 = 9.0 # Input parameter, mean of second normal  probability distribution\n",
        "Standard_dev2 = 2.0 #@param {type:\"number\"}\n",
        "\n",
        "# generate data\n",
        "y1 = np.random.normal(Mean1, Standard_dev1, 1000)\n",
        "y2 = np.random.normal(Mean2, Standard_dev2, 500)\n",
        "\n",
        "# Combine the data for fitting a single gaussian\n",
        "data=np.append(y1,y2)\n",
        "combined_mean = np.mean(data)\n",
        "combined_std = np.std(data)"
      ],
      "metadata": {
        "id": "UOClNXWdW4k-"
      },
      "id": "UOClNXWdW4k-",
      "execution_count": 17,
      "outputs": []
    },
    {
      "cell_type": "code",
      "source": [
        "# import libraries\n",
        "\n",
        "# For plotting\n",
        "sns.set_style(\"white\")\n",
        "#for matrix math\n",
        "import numpy as np\n",
        "#for normalization + probability density function computation\n",
        "from scipy import stats\n",
        "#for data preprocessing\n",
        "import pandas as pd\n",
        "from math import sqrt, log, exp, pi\n",
        "from random import uniform\n",
        "random_seed=36788765\n",
        "np.random.seed(random_seed)\n",
        "\n",
        "Mean1 = 2.0  # Input parameter, mean of first normal probability distribution\n",
        "Standard_dev1 = 4.0 #@param {type:\"number\"}\n",
        "Mean2 = 9.0 # Input parameter, mean of second normal  probability distribution\n",
        "Standard_dev2 = 2.0 #@param {type:\"number\"}\n",
        "\n",
        "# generate data\n",
        "y1 = np.random.normal(Mean1, Standard_dev1, 1000)\n",
        "y2 = np.random.normal(Mean2, Standard_dev2, 500)\n",
        "data=np.append(y1,y2)\n",
        "\n",
        "# For data visiualisation calculate left and right of the graph\n",
        "Min_graph = min(data)\n",
        "Max_graph = max(data)\n",
        "x = np.linspace(Min_graph, Max_graph, 2000)\n",
        "\n",
        "sns.distplot(data, bins=20, kde=False)"
      ],
      "metadata": {
        "id": "xPIW29qnI0ub",
        "colab": {
          "base_uri": "https://localhost:8080/",
          "height": 339
        },
        "outputId": "3cf01c07-b626-44d3-d3cf-51d3b5d6967b"
      },
      "id": "xPIW29qnI0ub",
      "execution_count": 18,
      "outputs": [
        {
          "output_type": "stream",
          "name": "stderr",
          "text": [
            "/usr/local/lib/python3.7/dist-packages/seaborn/distributions.py:2619: FutureWarning: `distplot` is a deprecated function and will be removed in a future version. Please adapt your code to use either `displot` (a figure-level function with similar flexibility) or `histplot` (an axes-level function for histograms).\n",
            "  warnings.warn(msg, FutureWarning)\n"
          ]
        },
        {
          "output_type": "execute_result",
          "data": {
            "text/plain": [
              "<matplotlib.axes._subplots.AxesSubplot at 0x7f88b5640310>"
            ]
          },
          "metadata": {},
          "execution_count": 18
        },
        {
          "output_type": "display_data",
          "data": {
            "text/plain": [
              "<Figure size 432x288 with 1 Axes>"
            ],
            "image/png": "[encoded data removed]"
          },
          "metadata": {}
        }
      ]
    },
    {
      "cell_type": "markdown",
      "source": [
        "(1) Using a single Gaussion to estimate and create a plot to see the result: (10 points)\n"
      ],
      "metadata": {
        "id": "_gI3rLvaWsmw"
      },
      "id": "_gI3rLvaWsmw"
    },
    {
      "cell_type": "code",
      "source": [
        "class Gaussian:\n",
        "    \"Model univariate Gaussian\"\n",
        "    def __init__(self, mu, sigma):\n",
        "        #mean and standard deviation\n",
        "        self.mu = mu\n",
        "        self.sigma = sigma\n",
        "        self.rv = stats.norm(mu, sigma)\n",
        "\n",
        "    #probability density function\n",
        "    def pdf(self, x):\n",
        "        u = (x - self.mu) / abs(self.sigma)\n",
        "        y = (1 / (sqrt(2 * pi) * abs(self.sigma))) * exp(-u * u / 2)\n",
        "        #return self.rv.pdf(x)\n",
        "        return y\n",
        "\n"
      ],
      "metadata": {
        "id": "CeKLCo8QWyiL"
      },
      "id": "CeKLCo8QWyiL",
      "execution_count": 19,
      "outputs": []
    },
    {
      "cell_type": "code",
      "source": [
        "#gaussian of best fit\n",
        "single = Gaussian(np.mean(data), np.std(data))\n",
        "density = stats.norm(single.mu, single.sigma).pdf(x)\n",
        "sns.distplot(data, bins=20, kde=False, norm_hist=True);\n",
        "plt.plot(x, density, label='single gaussian');\n",
        "plt.legend()"
      ],
      "metadata": {
        "colab": {
          "base_uri": "https://localhost:8080/",
          "height": 337
        },
        "id": "HpVc64O3HPjT",
        "outputId": "dfe5c01a-ddce-4eb1-e0c8-ce76d313a2df"
      },
      "id": "HpVc64O3HPjT",
      "execution_count": 29,
      "outputs": [
        {
          "output_type": "stream",
          "name": "stderr",
          "text": [
            "/usr/local/lib/python3.7/dist-packages/seaborn/distributions.py:2619: FutureWarning: `distplot` is a deprecated function and will be removed in a future version. Please adapt your code to use either `displot` (a figure-level function with similar flexibility) or `histplot` (an axes-level function for histograms).\n",
            "  warnings.warn(msg, FutureWarning)\n"
          ]
        },
        {
          "output_type": "execute_result",
          "data": {
            "text/plain": [
              "<matplotlib.legend.Legend at 0x7f88b50a5e50>"
            ]
          },
          "metadata": {},
          "execution_count": 29
        },
        {
          "output_type": "display_data",
          "data": {
            "text/plain": [
              "<Figure size 432x288 with 1 Axes>"
            ],
            "image/png": "[encoded data removed]"
          },
          "metadata": {}
        }
      ]
    },
    {
      "cell_type": "markdown",
      "source": [
        "(2) Using a 2 Gaussian mixture model to estimate and create a plot to see the result(Do not use sklearn GaussianMixture): (15 points)\n"
      ],
      "metadata": {
        "id": "3KVP2AkpW_9n"
      },
      "id": "3KVP2AkpW_9n"
    },
    {
      "cell_type": "code",
      "execution_count": 30,
      "id": "dd16c859",
      "metadata": {
        "id": "dd16c859"
      },
      "outputs": [],
      "source": [
        "class GaussianMixture:\n",
        "  def __init__(self, data, mu_min=min(data), mu_max=max(data), sigma_min=1, sigma_max=1, mix=.5):\n",
        "    self.data = data\n",
        "    self.g1 = Gaussian(uniform(mu_min, mu_max), \n",
        "                        uniform(sigma_min, sigma_max))\n",
        "    self.g2 = Gaussian(uniform(mu_min, mu_max), \n",
        "                        uniform(sigma_min, sigma_max))\n",
        "    \n",
        "    self.pi = mix\n",
        "\n",
        "  def Estep(self):\n",
        "    # compute weights\n",
        "    self.loglike = 0. # = log(p = 1)\n",
        "    for datum in self.data:  \n",
        "      # unnormalized weights\n",
        "      w1 = self.g1.pdf(datum) * self.pi\n",
        "      w2 = self.g2.pdf(datum) * (1. - self.pi)\n",
        "      \n",
        "      # compute denominator\n",
        "      summed_weights = w1 + w2\n",
        "\n",
        "      # normalize\n",
        "      w1 /= summed_weights   \n",
        "      w2 /= summed_weights\n",
        "\n",
        "      # add into loglike\n",
        "      self.loglike += log(summed_weights) #freshening up self.loglike in the process\n",
        "\n",
        "      # yield weight tuple\n",
        "      yield (w1, w2)\n",
        "\n",
        "  def Mstep(self, weights):\n",
        "    (w1, w2) = zip(*weights) \n",
        "    sum_one = sum(w1)\n",
        "    sum_two = sum(w2)\n",
        "\n",
        "    # compute new means\n",
        "    self.g1.mu = np.dot(w1, data)/sum_one\n",
        "    self.g2.mu = np.dot(w2, data)/sum_two\n",
        "\n",
        "    x_minus_g1_mu = data - self.g1.mu \n",
        "    x_minus_g2_mu = data - self.g2.mu \n",
        "\n",
        "    # compute new sigmas\n",
        "    self.g1.sigma = np.sqrt(np.dot(w1, np.square(x_minus_g1_mu))/sum_one)\n",
        "    self.g2.sigma = np.sqrt(np.dot(w2, np.square(x_minus_g2_mu))/sum_two)\n",
        "\n",
        "    # compute new pi\n",
        "    self.pi = sum_one / len(data)\n",
        "\n",
        "      \n",
        "  def iterate(self, N=1):\n",
        "    for i in range(1, N+1):\n",
        "        self.Mstep(self.Estep())\n",
        "    self.Estep()\n",
        "\n",
        "  def pdf(self, x):\n",
        "    return (self.pi)*self.g1.pdf(x) + (1-self.pi)*self.g2.pdf(x)\n"
      ]
    },
    {
      "cell_type": "code",
      "source": [
        "# Find best Mixture Gaussian model\n",
        "n_iterations = 100\n",
        "n_random_restarts = 1\n",
        "best_mix = None\n",
        "best_loglike = float('-inf')\n",
        "print('Computing best model with random restarts...\\n')\n",
        "mix = GaussianMixture(data)\n",
        "for _ in range(n_iterations):\n",
        "    mix.iterate()\n",
        "    if mix.loglike > best_loglike:\n",
        "        best_loglike = mix.loglike\n",
        "        best_mix = mix\n",
        "\n",
        "# plot mix and original gaussians\n",
        "sns.distplot(data, bins=20, kde=False, norm_hist=True);\n",
        "g_both = [best_mix.pdf(e) for e in x]\n",
        "plt.plot(x, g_both, label='gaussian mixture');\n",
        "g_left = [best_mix.g1.pdf(e) * best_mix.pi for e in x]\n",
        "plt.plot(x, g_left, label='gaussian one');\n",
        "g_right = [best_mix.g2.pdf(e) * (1-best_mix.pi) for e in x]\n",
        "plt.plot(x, g_right, label='gaussian two');\n",
        "plt.legend()"
      ],
      "metadata": {
        "colab": {
          "base_uri": "https://localhost:8080/",
          "height": 372
        },
        "id": "jMVDxq-hHWZD",
        "outputId": "4c050a0e-7e3d-42b2-b137-95d4f3c6c6f5"
      },
      "id": "jMVDxq-hHWZD",
      "execution_count": 31,
      "outputs": [
        {
          "output_type": "stream",
          "name": "stdout",
          "text": [
            "Computing best model with random restarts...\n",
            "\n"
          ]
        },
        {
          "output_type": "stream",
          "name": "stderr",
          "text": [
            "/usr/local/lib/python3.7/dist-packages/seaborn/distributions.py:2619: FutureWarning: `distplot` is a deprecated function and will be removed in a future version. Please adapt your code to use either `displot` (a figure-level function with similar flexibility) or `histplot` (an axes-level function for histograms).\n",
            "  warnings.warn(msg, FutureWarning)\n"
          ]
        },
        {
          "output_type": "execute_result",
          "data": {
            "text/plain": [
              "<matplotlib.legend.Legend at 0x7f88b52887d0>"
            ]
          },
          "metadata": {},
          "execution_count": 31
        },
        {
          "output_type": "display_data",
          "data": {
            "text/plain": [
              "<Figure size 432x288 with 1 Axes>"
            ],
            "image/png": "[encoded data removed]"
          },
          "metadata": {}
        }
      ]
    },
    {
      "cell_type": "markdown",
      "source": [
        "# Q2. (65 Points)\n",
        "Comparison for Logistic Regression model: before and after PCA.\n",
        "Consider dataset.csv.\n",
        "Please follow the following steps:\n",
        "\n",
        "  1. Standardize the disease classification dataset (dataset.csv). You can use StandardScaler of sklearn. (5 points)\n",
        "  2. Split the data in 80-20 train-val sets. Apply Eigen-decomposition using PCA **only** on train set. You can use externel libaries such as numpy (Ref np.linalg.eig) (10 points)\n",
        "  3. Selection first 6 component loadings with the highest variance-explanation) (10 points)\n",
        "  4. Project train set in the new 6-dimensional feature space using eigen vectors selected in step 3. (10 points)\n",
        "  5. Train two logistic regression models. One for the standardized (all features) and second for the transformed data (6-features). Report train-sets (standardized and transformed) ROC curves for both models. (10 Points)\n",
        "  6. Validate the model using val set. Project val set in the new 6-dimensional feature space using eigen vectors selected in step 3. Predict target variable using the models trained in step 5. (10 Points)\n",
        "  7. Compare the logistic regression models before and after PCA using ROC curve. (5 points)"
      ],
      "metadata": {
        "id": "EPedGEHPVvCp"
      },
      "id": "EPedGEHPVvCp"
    },
    {
      "cell_type": "markdown",
      "source": [
        "Load and standardize the data"
      ],
      "metadata": {
        "id": "NxSzjKMUcLfn"
      },
      "id": "NxSzjKMUcLfn"
    },
    {
      "cell_type": "code",
      "source": [
        "import pandas as pd\n",
        "\n",
        "from sklearn.preprocessing import StandardScaler\n",
        "\n",
        "label_column = 'class'\n",
        "data = pd.read_csv('dataset.csv')\n",
        "print(data.head())\n",
        "#data = data.drop('id', axis=1)\n",
        "X = data.drop(label_column, axis=1)\n",
        "y = data[label_column]\n",
        "\n"
      ],
      "metadata": {
        "id": "elOEcuptcLCu",
        "colab": {
          "base_uri": "https://localhost:8080/"
        },
        "outputId": "b425ba07-cc06-404f-e07c-9fa64e38e8c6"
      },
      "id": "elOEcuptcLCu",
      "execution_count": 37,
      "outputs": [
        {
          "output_type": "stream",
          "name": "stdout",
          "text": [
            "   id  gender      PPE      DFA     RPDE  numPulses  numPeriodsPulses  \\\n",
            "0   0       1  0.85247  0.71826  0.57227        240               239   \n",
            "1   0       1  0.76686  0.69481  0.53966        234               233   \n",
            "2   0       1  0.85083  0.67604  0.58982        232               231   \n",
            "3   1       0  0.41121  0.79672  0.59257        178               177   \n",
            "4   1       0  0.32790  0.79782  0.53028        236               235   \n",
            "\n",
            "   meanPeriodPulses  stdDevPeriodPulses  locPctJitter  ...  \\\n",
            "0          0.008064            0.000087       0.00218  ...   \n",
            "1          0.008258            0.000073       0.00195  ...   \n",
            "2          0.008340            0.000060       0.00176  ...   \n",
            "3          0.010858            0.000183       0.00419  ...   \n",
            "4          0.008162            0.002669       0.00535  ...   \n",
            "\n",
            "   tqwt_kurtosisValue_dec_28  tqwt_kurtosisValue_dec_29  \\\n",
            "0                     1.5620                     2.6445   \n",
            "1                     1.5589                     3.6107   \n",
            "2                     1.5643                     2.3308   \n",
            "3                     3.7805                     3.5664   \n",
            "4                     6.1727                     5.8416   \n",
            "\n",
            "   tqwt_kurtosisValue_dec_30  tqwt_kurtosisValue_dec_31  \\\n",
            "0                     3.8686                     4.2105   \n",
            "1                    23.5155                    14.1962   \n",
            "2                     9.4959                    10.7458   \n",
            "3                     5.2558                    14.0403   \n",
            "4                     6.0805                     5.7621   \n",
            "\n",
            "   tqwt_kurtosisValue_dec_32  tqwt_kurtosisValue_dec_33  \\\n",
            "0                     5.1221                     4.4625   \n",
            "1                    11.0261                     9.5082   \n",
            "2                    11.0177                     4.8066   \n",
            "3                     4.2235                     4.6857   \n",
            "4                     7.7817                    11.6891   \n",
            "\n",
            "   tqwt_kurtosisValue_dec_34  tqwt_kurtosisValue_dec_35  \\\n",
            "0                     2.6202                     3.0004   \n",
            "1                     6.5245                     6.3431   \n",
            "2                     2.9199                     3.1495   \n",
            "3                     4.8460                     6.2650   \n",
            "4                     8.2103                     5.0559   \n",
            "\n",
            "   tqwt_kurtosisValue_dec_36  class  \n",
            "0                    18.9405      1  \n",
            "1                    45.1780      1  \n",
            "2                     4.7666      1  \n",
            "3                     4.0603      1  \n",
            "4                     6.1164      1  \n",
            "\n",
            "[5 rows x 755 columns]\n"
          ]
        }
      ]
    },
    {
      "cell_type": "markdown",
      "source": [
        "Split"
      ],
      "metadata": {
        "id": "nSBEAnxqcO__"
      },
      "id": "nSBEAnxqcO__"
    },
    {
      "cell_type": "code",
      "source": [
        "from sklearn.model_selection import train_test_split\n",
        "\n",
        "label_column = 'class'\n",
        "\n",
        "scaler = StandardScaler()\n",
        "print(X.head())\n",
        "X_scaled = scaler.fit_transform(X)\n",
        "\n",
        "print(X_scaled)\n",
        "X_train, X_test, y_train, y_test = train_test_split(X_scaled, y, train_size = .8)"
      ],
      "metadata": {
        "id": "RCwhpWH_cTtt",
        "colab": {
          "base_uri": "https://localhost:8080/"
        },
        "outputId": "ee11c261-37ef-4565-a07e-8baff7ac5ac8"
      },
      "id": "RCwhpWH_cTtt",
      "execution_count": 38,
      "outputs": [
        {
          "output_type": "stream",
          "name": "stdout",
          "text": [
            "   id  gender      PPE      DFA     RPDE  numPulses  numPeriodsPulses  \\\n",
            "0   0       1  0.85247  0.71826  0.57227        240               239   \n",
            "1   0       1  0.76686  0.69481  0.53966        234               233   \n",
            "2   0       1  0.85083  0.67604  0.58982        232               231   \n",
            "3   1       0  0.41121  0.79672  0.59257        178               177   \n",
            "4   1       0  0.32790  0.79782  0.53028        236               235   \n",
            "\n",
            "   meanPeriodPulses  stdDevPeriodPulses  locPctJitter  ...  \\\n",
            "0          0.008064            0.000087       0.00218  ...   \n",
            "1          0.008258            0.000073       0.00195  ...   \n",
            "2          0.008340            0.000060       0.00176  ...   \n",
            "3          0.010858            0.000183       0.00419  ...   \n",
            "4          0.008162            0.002669       0.00535  ...   \n",
            "\n",
            "   tqwt_kurtosisValue_dec_27  tqwt_kurtosisValue_dec_28  \\\n",
            "0                     1.5466                     1.5620   \n",
            "1                     1.5530                     1.5589   \n",
            "2                     1.5399                     1.5643   \n",
            "3                     6.9761                     3.7805   \n",
            "4                     7.8832                     6.1727   \n",
            "\n",
            "   tqwt_kurtosisValue_dec_29  tqwt_kurtosisValue_dec_30  \\\n",
            "0                     2.6445                     3.8686   \n",
            "1                     3.6107                    23.5155   \n",
            "2                     2.3308                     9.4959   \n",
            "3                     3.5664                     5.2558   \n",
            "4                     5.8416                     6.0805   \n",
            "\n",
            "   tqwt_kurtosisValue_dec_31  tqwt_kurtosisValue_dec_32  \\\n",
            "0                     4.2105                     5.1221   \n",
            "1                    14.1962                    11.0261   \n",
            "2                    10.7458                    11.0177   \n",
            "3                    14.0403                     4.2235   \n",
            "4                     5.7621                     7.7817   \n",
            "\n",
            "   tqwt_kurtosisValue_dec_33  tqwt_kurtosisValue_dec_34  \\\n",
            "0                     4.4625                     2.6202   \n",
            "1                     9.5082                     6.5245   \n",
            "2                     4.8066                     2.9199   \n",
            "3                     4.6857                     4.8460   \n",
            "4                    11.6891                     8.2103   \n",
            "\n",
            "   tqwt_kurtosisValue_dec_35  tqwt_kurtosisValue_dec_36  \n",
            "0                     3.0004                    18.9405  \n",
            "1                     6.3431                    45.1780  \n",
            "2                     3.1495                     4.7666  \n",
            "3                     6.2650                     4.0603  \n",
            "4                     5.0559                     6.1164  \n",
            "\n",
            "[5 rows x 754 columns]\n",
            "[[-1.72519117  0.96874225  0.62764391 ... -0.775137   -0.81472704\n",
            "  -0.36659507]\n",
            " [-1.72519117  0.96874225  0.12161952 ... -0.52664699 -0.58297219\n",
            "   0.40039616]\n",
            " [-1.72519117  0.96874225  0.61795018 ... -0.75606253 -0.8043897\n",
            "  -0.7809355 ]\n",
            " ...\n",
            " [ 1.72519117 -1.03226633  0.81336154 ... -0.71674252 -0.79017671\n",
            "  -0.77287314]\n",
            " [ 1.72519117 -1.03226633  0.54105055 ... -0.77132466 -0.82631929\n",
            "  -0.81173208]\n",
            " [ 1.72519117 -1.03226633  0.3945807  ... -0.68658105 -0.84098293\n",
            "  -0.82811405]]\n"
          ]
        }
      ]
    },
    {
      "cell_type": "markdown",
      "source": [
        "Perform eigenvalue decomposition"
      ],
      "metadata": {
        "id": "o645mdA6fckO"
      },
      "id": "o645mdA6fckO"
    },
    {
      "cell_type": "markdown",
      "source": [
        "Select"
      ],
      "metadata": {
        "id": "picfaEZCcUiR"
      },
      "id": "picfaEZCcUiR"
    },
    {
      "cell_type": "code",
      "source": [
        "import numpy as np\n",
        "\n",
        "num_pcas = 6\n",
        "\n",
        "def pca_eigen(X, num_components):\n",
        "  cov_matrix = np.cov(X.T)\n",
        "  eigenvalues, eigenvectors = np.linalg.eigh(cov_matrix)\n",
        "  explained_variances = []\n",
        "  for i in range(len(eigenvalues)):\n",
        "    ev = eigenvalues[i] / np.sum(eigenvalues)\n",
        "    explained_variances.append(eigenvalues[i] / np.sum(eigenvalues))\n",
        "  return (eigenvalues, eigenvectors, explained_variances)\n",
        "\n",
        "X_centered = X_train - np.mean(X_train, axis = 0)\n",
        "vals, vectors, variances = pca_eigen(X_centered, num_pcas)\n",
        "sorted_indices = np.argsort(vals)[::-1]\n",
        "sorted_eigenvalues = vals[sorted_indices]\n",
        "sorted_eigenvectors = vectors[:, sorted_indices]\n",
        "truncated_eigenvectors = sorted_eigenvectors[:,0:num_pcas]\n",
        "\n",
        "# project data into new space\n",
        "X_reduced = np.dot(truncated_eigenvectors.T, X_centered.T).T\n"
      ],
      "metadata": {
        "id": "P7KSps7ocWYp"
      },
      "id": "P7KSps7ocWYp",
      "execution_count": 39,
      "outputs": []
    },
    {
      "cell_type": "markdown",
      "source": [
        "Train, evaluate, display results"
      ],
      "metadata": {
        "id": "WydRNPBncd09"
      },
      "id": "WydRNPBncd09"
    },
    {
      "cell_type": "code",
      "source": [
        "from sklearn.linear_model import LogisticRegression\n",
        "from sklearn.metrics import RocCurveDisplay, accuracy_score, classification_report, confusion_matrix\n",
        "import matplotlib.pyplot as plt\n",
        "\n",
        "# added max_iter because of warning I was receiving\n",
        "# that I suspect was related to the shape of the data.\n",
        "# Didn't have to add the parameter fitting the pca data.\n",
        "# Normal data for classifier\n",
        "clf = LogisticRegression(max_iter=10000000)\n",
        "clf.fit(X_train, y_train)\n",
        "\n",
        "print(f\"Regular training data\")\n",
        "RocCurveDisplay.from_estimator(clf, X_train, y_train)\n",
        "plt.show()\n",
        "# test\n",
        "y_pred = clf.predict(X_test)\n",
        "\n",
        "# test evaluation for normal data\n",
        "print(classification_report(y_test, y_pred))\n",
        "print(confusion_matrix(y_test, y_pred))\n",
        "\n",
        "# training on reduced dataset\n",
        "clf1 = LogisticRegression()\n",
        "clf1.fit(X_reduced, y_train)\n",
        "\n",
        "print(f\"Reduced training data\")\n",
        "RocCurveDisplay.from_estimator(clf1, X_reduced, y_train)\n",
        "plt.show()\n",
        "\n",
        "# test evaluation for reduced data\n",
        "test_reduced = np.dot(truncated_eigenvectors.T, X_test.T).T\n",
        "y_pred_pca = clf1.predict(test_reduced)\n",
        "print(classification_report(y_test, y_pred_pca))\n",
        "print(confusion_matrix(y_test, y_pred_pca))\n",
        "\n",
        "print(f\"PCA test data\\n\")\n",
        "RocCurveDisplay.from_predictions(y_test, y_pred_pca)\n",
        "plt.show()\n",
        "print(f\"Regular test data\\n\")\n",
        "RocCurveDisplay.from_predictions(y_test, y_pred)\n",
        "plt.show()"
      ],
      "metadata": {
        "id": "BDkZ5oQ_cbtf",
        "colab": {
          "base_uri": "https://localhost:8080/",
          "height": 1000
        },
        "outputId": "d6003365-348a-4b61-f698-f809be7feb02"
      },
      "id": "BDkZ5oQ_cbtf",
      "execution_count": 45,
      "outputs": [
        {
          "output_type": "stream",
          "name": "stdout",
          "text": [
            "Regular training data\n"
          ]
        },
        {
          "output_type": "display_data",
          "data": {
            "text/plain": [
              "<Figure size 432x288 with 1 Axes>"
            ],
            "image/png": "[encoded data removed]"
          },
          "metadata": {}
        },
        {
          "output_type": "stream",
          "name": "stdout",
          "text": [
            "              precision    recall  f1-score   support\n",
            "\n",
            "           0       0.65      0.69      0.67        35\n",
            "           1       0.90      0.89      0.90       117\n",
            "\n",
            "    accuracy                           0.84       152\n",
            "   macro avg       0.78      0.79      0.78       152\n",
            "weighted avg       0.85      0.84      0.84       152\n",
            "\n",
            "[[ 24  11]\n",
            " [ 13 104]]\n",
            "Reduced training data\n"
          ]
        },
        {
          "output_type": "display_data",
          "data": {
            "text/plain": [
              "<Figure size 432x288 with 1 Axes>"
            ],
            "image/png": "[encoded data removed]"
          },
          "metadata": {}
        },
        {
          "output_type": "stream",
          "name": "stdout",
          "text": [
            "              precision    recall  f1-score   support\n",
            "\n",
            "           0       0.76      0.54      0.63        35\n",
            "           1       0.87      0.95      0.91       117\n",
            "\n",
            "    accuracy                           0.86       152\n",
            "   macro avg       0.82      0.75      0.77       152\n",
            "weighted avg       0.85      0.86      0.85       152\n",
            "\n",
            "[[ 19  16]\n",
            " [  6 111]]\n",
            "PCA test data\n",
            "\n"
          ]
        },
        {
          "output_type": "display_data",
          "data": {
            "text/plain": [
              "<Figure size 432x288 with 1 Axes>"
            ],
            "image/png": "[encoded data removed]"
          },
          "metadata": {}
        },
        {
          "output_type": "stream",
          "name": "stdout",
          "text": [
            "Regular test data\n",
            "\n"
          ]
        },
        {
          "output_type": "display_data",
          "data": {
            "text/plain": [
              "<Figure size 432x288 with 1 Axes>"
            ],
            "image/png": "[encoded data removed]"
          },
          "metadata": {}
        }
      ]
    },
    {
      "cell_type": "markdown",
      "source": [
        "# Q3. (10 Points)\n",
        "Outlier Detection using Z-score. (10 points)\n",
        "You are given a Heights and Weights Dataset and a threshold 1. Calculate the number of outliar and show the first 5 of them.\n"
      ],
      "metadata": {
        "id": "yUAmf5ByV_Zo"
      },
      "id": "yUAmf5ByV_Zo"
    },
    {
      "cell_type": "code",
      "execution_count": 44,
      "id": "5087f2c5",
      "metadata": {
        "id": "5087f2c5",
        "colab": {
          "base_uri": "https://localhost:8080/"
        },
        "outputId": "977f2eef-7128-45e9-f262-a44d8c8d5052"
      },
      "outputs": [
        {
          "output_type": "stream",
          "name": "stdout",
          "text": [
            "outliers:        Index  Height(Inches)  Weight(Pounds)  zscore_height\n",
            "6917    6918        62.29058        100.3800      -3.036965\n",
            "8864    8865        62.35553        102.9535      -3.002359\n",
            "23041  23042        62.37478        129.2900      -2.992103\n",
            "15828  15829        62.37781        124.7478      -2.990489\n",
            "15279  15280        62.38539        105.2355      -2.986450\n",
            "total: 7989\n"
          ]
        },
        {
          "output_type": "stream",
          "name": "stderr",
          "text": [
            "/usr/local/lib/python3.7/dist-packages/ipykernel_launcher.py:21: SettingWithCopyWarning: \n",
            "A value is trying to be set on a copy of a slice from a DataFrame.\n",
            "Try using .loc[row_indexer,col_indexer] = value instead\n",
            "\n",
            "See the caveats in the documentation: https://pandas.pydata.org/pandas-docs/stable/user_guide/indexing.html#returning-a-view-versus-a-copy\n"
          ]
        }
      ],
      "source": [
        "# data heights and weights\n",
        "threshold = 1\n",
        "df = pd.read_csv('HeightWeight.csv')\n",
        "df.head()\n",
        "\n",
        "# get height mean and variance\n",
        "mean_height = df['Height(Inches)'].mean()\n",
        "std_height = df['Height(Inches)'].std() \n",
        "\n",
        "# get weight mean and variance\n",
        "mean_weight = df['Weight(Pounds)'].mean()\n",
        "std_weight = df['Weight(Pounds)'].std() \n",
        "\n",
        "# calculate 3 standard deviations\n",
        "left_height = mean_height - std_height * 3\n",
        "right_height = mean_height + std_height * 3\n",
        "\n",
        "left_weight = mean_weight - std_weight * 3\n",
        "right_weight = mean_weight + std_weight * 3\n",
        "\n",
        "# Find values greater than 3 standard deviations\n",
        "df_cleaned_height = df[(df['Height(Inches)'] >= left_height) &  (df['Height(Inches)'] <= right_height)]\n",
        "df_cleaned_height_weight = df_cleaned_height[ (df_cleaned_height['Weight(Pounds)'] >= left_weight) & (df_cleaned_height['Weight(Pounds)'] <= right_weight)]\n",
        "\n",
        "# calculate the cleaned mean and variance\n",
        "mean = df_cleaned_height_weight['Height(Inches)'].mean()\n",
        "std = df_cleaned_height_weight['Height(Inches)'].std()\n",
        "\n",
        "# apply thresholds and display outliers\n",
        "df_cleaned_height_weight['zscore_height'] = (df_cleaned_height_weight['Height(Inches)'] - mean)/std\n",
        "outliers = df_cleaned_height_weight[np.abs(df_cleaned_height_weight['zscore_height']) > threshold]\n",
        "outliers = outliers.sort_values(by=['zscore_height'])\n",
        "print(f\"outliers: {outliers[:5]}\")\n",
        "print(f\"total: {len(outliers)}\")"
      ]
    }
  ],
  "metadata": {
    "kernelspec": {
      "display_name": "Python 3 (ipykernel)",
      "language": "python",
      "name": "python3"
    },
    "language_info": {
      "codemirror_mode": {
        "name": "ipython",
        "version": 3
      },
      "file_extension": ".py",
      "mimetype": "text/x-python",
      "name": "python",
      "nbconvert_exporter": "python",
      "pygments_lexer": "ipython3",
      "version": "3.9.7"
    },
    "colab": {
      "name": "CS6140_Assignment_4_Summer22-1.ipynb",
      "provenance": [],
      "collapsed_sections": [],
      "include_colab_link": true
    }
  },
  "nbformat": 4,
  "nbformat_minor": 5
}