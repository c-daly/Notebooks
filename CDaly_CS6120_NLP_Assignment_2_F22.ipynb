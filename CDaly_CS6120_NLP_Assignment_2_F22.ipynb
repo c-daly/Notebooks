{
  "cells": [
    {
      "cell_type": "markdown",
      "metadata": {
        "id": "view-in-github",
        "colab_type": "text"
      },
      "source": [
        "<a href=\"https://colab.research.google.com/github/c-daly/Notebooks/blob/main/CDaly_CS6120_NLP_Assignment_2_F22.ipynb\" target=\"_parent\"><img src=\"https://colab.research.google.com/assets/colab-badge.svg\" alt=\"Open In Colab\"/></a>"
      ]
    },
    {
      "cell_type": "markdown",
      "metadata": {
        "id": "ni4T_dwEHFVa"
      },
      "source": [
        "## CS 6120: Natural Language Processing - Prof. Ahmad Uzair\n",
        "\n",
        "### Assignment 2: Text Classification and Neural Network\n",
        "### Total Points: 100 points"
      ]
    },
    {
      "cell_type": "markdown",
      "metadata": {
        "id": "loQ22M-bCubq"
      },
      "source": [
        "In Assignment 2, you will be dealing with text classification using Multinomial Naive Bayes and Neural Networks. You will also be dealing with vector visualization. In the previous assingment you implemented Bag of Words as the feature selection method. However, in this assignment you will be using TF-IDF Vectorization instead of Bag of Words. We recommend starting with this assignment a little early as the datasets are quite large and several parts of the assignment might take long duration to execute. "
      ]
    },
    {
      "cell_type": "markdown",
      "metadata": {
        "id": "Q3brglC1C0mZ"
      },
      "source": [
        "## Question 1 Text Classification"
      ]
    },
    {
      "cell_type": "markdown",
      "metadata": {
        "id": "IZ1y75IoC3rE"
      },
      "source": [
        "In the first question you will be dealing with Consumer Complaint Dataset. You are required to implement TF-IDF vectorization from scratch and perform Multinomial Naive Bayes Classification on dataset.\n",
        "You may use appropriate packages or modules for fitting the Multinomial Naive Bayes Model, however, the implementation of the TF-IDF Vectorization should be from the scratch."
      ]
    },
    {
      "cell_type": "code",
      "execution_count": 2,
      "metadata": {
        "id": "CmFf2INNDJRb"
      },
      "outputs": [],
      "source": [
        "#importing the libraries\n",
        "\n",
        "import numpy as np\n",
        "import sklearn\n",
        "from sklearn.feature_extraction.text import TfidfVectorizer\n",
        "from sklearn.datasets import fetch_20newsgroups\n",
        "from pprint import pprint\n",
        "from sklearn.feature_extraction.text import CountVectorizer\n",
        "from sklearn import preprocessing\n",
        "import pandas as pd\n",
        "import re\n",
        "import numpy as np\n",
        "from nltk.tokenize import  word_tokenize \n",
        "import nltk\n",
        "from sklearn.naive_bayes import MultinomialNB\n",
        "from sklearn import metrics\n"
      ]
    },
    {
      "cell_type": "markdown",
      "metadata": {
        "id": "55uKXLxgV8hm"
      },
      "source": [
        "The consumer complaint dataset comprises around 5000 complaints on six products."
      ]
    },
    {
      "cell_type": "code",
      "execution_count": 3,
      "metadata": {
        "id": "AEp1SHe5DKCB"
      },
      "outputs": [],
      "source": [
        "# Read the csv file consumer_complaints.csv\n",
        "mydata_train = pd.read_csv('consumer_complaints.csv')"
      ]
    },
    {
      "cell_type": "code",
      "execution_count": 4,
      "metadata": {
        "id": "OscOmcE0DMHa",
        "colab": {
          "base_uri": "https://localhost:8080/"
        },
        "outputId": "5bc94793-55b5-484c-9e93-ff3213cb0941"
      },
      "outputs": [
        {
          "output_type": "stream",
          "name": "stdout",
          "text": [
            "{'Credit card or prepaid card', 'Checking or savings account', 'Debt collection', 'Mortgage', 'Vehicle loan or lease', 'Student loan'}\n"
          ]
        }
      ],
      "source": [
        "# Print the product groups in the dataset\n",
        "print(set(mydata_train.Product))"
      ]
    },
    {
      "cell_type": "code",
      "execution_count": 5,
      "metadata": {
        "id": "JvQb2r0aDR_J",
        "colab": {
          "base_uri": "https://localhost:8080/"
        },
        "outputId": "0d47dcc3-0e56-43ab-fd9c-62ee2a4b4b30"
      },
      "outputs": [
        {
          "output_type": "stream",
          "name": "stdout",
          "text": [
            "<class 'pandas.core.frame.DataFrame'>\n"
          ]
        }
      ],
      "source": [
        "# What is the type of 'mydata_train'\n",
        "print(type(mydata_train))"
      ]
    },
    {
      "cell_type": "code",
      "execution_count": 6,
      "metadata": {
        "id": "ozzwyREhDaMK",
        "colab": {
          "base_uri": "https://localhost:8080/"
        },
        "outputId": "01ec525c-b846-461d-8818-39d42c13434c"
      },
      "outputs": [
        {
          "output_type": "stream",
          "name": "stdout",
          "text": [
            "5000\n",
            "5000\n"
          ]
        }
      ],
      "source": [
        "# Check the length of the data\n",
        "print(len(mydata_train.Product))\n",
        "print(len(mydata_train.Consumer_complaint_narrative))\n"
      ]
    },
    {
      "cell_type": "markdown",
      "metadata": {
        "id": "BlipMuEpDz-K"
      },
      "source": [
        "### Expected Output: \n",
        "5000\n",
        "\n",
        "5000\n"
      ]
    },
    {
      "cell_type": "markdown",
      "metadata": {
        "id": "55FKOBBuEDI2"
      },
      "source": [
        "## Extracting Features from the Dataset                        (20 Points)"
      ]
    },
    {
      "cell_type": "markdown",
      "metadata": {
        "id": "u4GDENzmEEkG"
      },
      "source": [
        "In order to perform machine learning on text documents, we first need to turn the text content into numerical feature vectors."
      ]
    },
    {
      "cell_type": "markdown",
      "metadata": {
        "id": "OgxfDXmxEHid"
      },
      "source": [
        "### TF-IDF Vectorization"
      ]
    },
    {
      "cell_type": "markdown",
      "metadata": {
        "id": "Q8qNFFYyEKsa"
      },
      "source": [
        "Our model cannot simply read the text data so we convert it into numerical format. In order to convert the data into numerical format we create vectors from text.\n",
        "\n",
        "For this particular purpose we could either employ Bag of Words or TF-IDF Vectorization\n",
        "\n",
        "Bag of Words just creates a set of vectors containing the count of word occurrences in the document (reviews), while the TF-IDF model contains information on the more important words and the less important ones as well.\n",
        "\n",
        "TF-IDF stands for Term Frequency-Inverse Document Frequency, which instead of giving more weight to words that occur more frequently, it gives a higher weight to words that occur less frequently.\n",
        "\n",
        "Ref: 6.5 TF-IDF: Weighing terms in the vector section of Dan Jurafsky book\n",
        "https://web.stanford.edu/~jurafsky/slp3/6.pdf"
      ]
    },
    {
      "cell_type": "markdown",
      "metadata": {
        "id": "dLzgRJRZEP3k"
      },
      "source": [
        "TF-IDF = Term Frequency (TF) * Inverse Document Frequency (IDF)"
      ]
    },
    {
      "cell_type": "markdown",
      "metadata": {
        "id": "xe5lHi3NE1QJ"
      },
      "source": [
        "Term Frequency is the measure of the frequency of words in a document. It is the ratio of the number of times the word appears in a document compared to the total number of words in that document.\n",
        "\n",
        "The words that occur rarely in the corpus have a high IDF score. It is the log of the ratio of the number of documents to the number of documents containing the word."
      ]
    },
    {
      "cell_type": "markdown",
      "metadata": {
        "id": "HXotAER_EQ8T"
      },
      "source": [
        "idf(t) = log(N/(df + 1))"
      ]
    },
    {
      "cell_type": "code",
      "execution_count": 7,
      "metadata": {
        "id": "2vzVI8ylFAEl"
      },
      "outputs": [],
      "source": [
        "text = mydata_train.Consumer_complaint_narrative\n"
      ]
    },
    {
      "cell_type": "markdown",
      "metadata": {
        "id": "HZ2AatmvFtE-"
      },
      "source": [
        "## Preprocessing the Corpus"
      ]
    },
    {
      "cell_type": "code",
      "execution_count": 8,
      "metadata": {
        "id": "XyJbe42AFuHp",
        "colab": {
          "base_uri": "https://localhost:8080/"
        },
        "outputId": "52e46a66-dab1-42f2-c149-e74d6d59b470"
      },
      "outputs": [
        {
          "output_type": "stream",
          "name": "stderr",
          "text": [
            "[nltk_data] Downloading package punkt to /root/nltk_data...\n",
            "[nltk_data]   Unzipping tokenizers/punkt.zip.\n",
            "[nltk_data] Downloading package omw-1.4 to /root/nltk_data...\n",
            "[nltk_data] Downloading package stopwords to /root/nltk_data...\n",
            "[nltk_data]   Unzipping corpora/stopwords.zip.\n",
            "[nltk_data] Downloading package punkt to /root/nltk_data...\n",
            "[nltk_data]   Package punkt is already up-to-date!\n",
            "[nltk_data] Downloading package wordnet to /root/nltk_data...\n"
          ]
        }
      ],
      "source": [
        "from nltk import word_tokenize\n",
        "nltk.download('punkt')\n",
        "import string\n",
        "import re\n",
        "from nltk.corpus import stopwords\n",
        "from nltk.stem import PorterStemmer\n",
        "from nltk.stem import WordNetLemmatizer\n",
        "from nltk.tokenize import word_tokenize\n",
        "# Preprocessing the data\n",
        "nltk.download('omw-1.4')\n",
        "nltk.download('stopwords')\n",
        "nltk.download('punkt')\n",
        "nltk.download('wordnet')\n",
        "\n",
        "stopword = nltk.corpus.stopwords.words('english')\n",
        "def remove_URLs(text):\n",
        "    text = re.sub(r\"http\\S+\", \"\", text) # replaces URLs starting with http \n",
        "    text = re.sub(r\"www.\\S+\", \"\", text) # replaces URLs starting with www\n",
        "    return text\n",
        "  \n",
        "def remove_punctuation(text):\n",
        "    return \"\".join([char for char in text if char not in string.punctuation]) \n",
        "\n",
        "def remove_digits(text):\n",
        "    return \"\".join([char for char in text if char not in string.digits]) \n",
        "\n",
        "def remove_stopwords(text):\n",
        "    return \" \".join([word for word in re.split('\\W+', text) if word not in stopword])\n",
        "\n",
        "def performStemming(text, ps):\n",
        "    return \" \".join([ps.stem(word) for word in re.split('\\W+', text)])\n",
        "\n",
        "def performLemmatization(text, lem):\n",
        "    return \" \".join([lem.lemmatize(word) for word in re.split('\\W+', text)])\n",
        "\n",
        "def clean_line(line):\n",
        "    line_cleaned = line.lower()\n",
        "    line_cleaned = remove_URLs(line_cleaned)\n",
        "    line_cleaned = remove_punctuation(line_cleaned)\n",
        "    line_cleaned = remove_digits(line_cleaned)\n",
        "    line_cleaned = remove_stopwords(line_cleaned)\n",
        "    return word_tokenize(line_cleaned)\n",
        "    \n",
        "lines = [] \n",
        "word_list = [] \n",
        " \n",
        "for line in text:\n",
        "    words = clean_line(line)\n",
        "    lines.append(words)\n",
        "    word_list = word_list + words\n",
        " \n",
        "\n",
        "# Make sure the word_list contains unique tokens\n",
        "word_list = set(word_list)\n",
        "\n",
        "# Calculate the total documents present in the corpus\n",
        "total_docs = len(lines) \n",
        " \n",
        "#Create a dictionary to keep track of index of each word\n",
        "dict_idx = {} \n",
        "for i, word in enumerate(word_list):\n",
        "  dict_idx[word] = i"
      ]
    },
    {
      "cell_type": "code",
      "execution_count": 9,
      "metadata": {
        "id": "E6M_CoI9FxYb"
      },
      "outputs": [],
      "source": [
        "def frequency_dict(lines):\n",
        "    '''\n",
        "    lines: list containing all the tokens\n",
        "    ---\n",
        "    freq_word: returns a dictionary which keeps the count of the number of documents containing the given word\n",
        "    '''\n",
        "    freq_word = {}\n",
        "    for line in lines:\n",
        "      for word in line:\n",
        "        freq_word[word] = freq_word.get(word, 0) + 1\n",
        "\n",
        "    return freq_word"
      ]
    },
    {
      "cell_type": "code",
      "execution_count": 10,
      "metadata": {
        "id": "qFkt9KBgFz43",
        "colab": {
          "base_uri": "https://localhost:8080/"
        },
        "outputId": "9f99365e-4bbc-40af-ea74-d46bb86900b6"
      },
      "outputs": [
        {
          "output_type": "execute_result",
          "data": {
            "text/plain": [
              "{'lost': 238,\n",
              " 'credit': 6613,\n",
              " 'card': 3422,\n",
              " 'chase': 891,\n",
              " 'sapphire': 9,\n",
              " 'reserve': 44,\n",
              " 'late': 1241,\n",
              " 'night': 81,\n",
              " 'xxxx': 40554,\n",
              " 'early': 162,\n",
              " 'morning': 142,\n",
              " 'made': 1806,\n",
              " 'one': 2240,\n",
              " 'purchase': 490,\n",
              " 'time': 2569,\n",
              " 'amount': 1998,\n",
              " 'called': 2857,\n",
              " 'soon': 201,\n",
              " 'found': 532,\n",
              " 'also': 1960,\n",
              " 'realized': 101,\n",
              " 'fraud': 1069,\n",
              " 'charge': 941,\n",
              " 'posted': 191,\n",
              " 'account': 7750,\n",
              " 'informed': 686,\n",
              " 'unauthorized': 163,\n",
              " 'helped': 34,\n",
              " 'take': 806,\n",
              " 'statement': 923,\n",
              " 'however': 765,\n",
              " 'received': 3109,\n",
              " 'letter': 2036,\n",
              " 'responsible': 225,\n",
              " 'transaction': 570,\n",
              " 'according': 235,\n",
              " 'single': 121,\n",
              " 'sheet': 18,\n",
              " 'sent': 2084,\n",
              " 'benefit': 53,\n",
              " 'proofs': 7,\n",
              " 'using': 358,\n",
              " 'even': 1316,\n",
              " 'bother': 16,\n",
              " 'ask': 406,\n",
              " 'store': 222,\n",
              " 'signed': 452,\n",
              " 'copy': 532,\n",
              " 'receipt': 282,\n",
              " 'things': 151,\n",
              " 'like': 839,\n",
              " 'security': 371,\n",
              " 'surveillance': 7,\n",
              " 'prove': 189,\n",
              " 'disputed': 416,\n",
              " 'transactions': 344,\n",
              " 'agents': 81,\n",
              " 'took': 543,\n",
              " 'seriously': 70,\n",
              " 'stuffs': 3,\n",
              " 'receipts': 49,\n",
              " 'back': 2344,\n",
              " 'claim': 773,\n",
              " 'nice': 34,\n",
              " 'lady': 85,\n",
              " 'picked': 40,\n",
              " 'phone': 1779,\n",
              " 'said': 2204,\n",
              " 'pass': 27,\n",
              " 'concern': 152,\n",
              " 'department': 690,\n",
              " 'let': 352,\n",
              " 'reinvestigate': 1,\n",
              " 'two': 928,\n",
              " 'weeks': 398,\n",
              " 'passed': 104,\n",
              " 'responses': 57,\n",
              " 'heard': 228,\n",
              " 'disappointed': 25,\n",
              " 'treating': 15,\n",
              " 'loyal': 40,\n",
              " 'customers': 263,\n",
              " 'taking': 246,\n",
              " 'money': 1841,\n",
              " 'good': 366,\n",
              " 'guys': 33,\n",
              " 'instead': 321,\n",
              " 'frauds': 8,\n",
              " 'problems': 133,\n",
              " 'finding': 37,\n",
              " 'ltv': 18,\n",
              " 'mortgage': 2335,\n",
              " 'servicer': 239,\n",
              " 'trying': 689,\n",
              " 'find': 435,\n",
              " 'pmi': 125,\n",
              " 'removed': 553,\n",
              " 'victim': 205,\n",
              " 'identity': 556,\n",
              " 'theft': 489,\n",
              " 'debt': 3790,\n",
              " 'belong': 133,\n",
              " 'please': 1127,\n",
              " 'see': 1029,\n",
              " 'report': 1922,\n",
              " 'legal': 506,\n",
              " 'affidavit': 152,\n",
              " 'attached': 516,\n",
              " 'yesterday': 99,\n",
              " 'evening': 38,\n",
              " 'spoke': 825,\n",
              " 'rep': 334,\n",
              " 'regards': 132,\n",
              " 'acct': 117,\n",
              " 'requested': 736,\n",
              " 'stated': 984,\n",
              " 'would': 4152,\n",
              " 'payment': 3930,\n",
              " 'produce': 48,\n",
              " 'individual': 114,\n",
              " 'letters': 349,\n",
              " 'asked': 1568,\n",
              " 'send': 838,\n",
              " 'offer': 461,\n",
              " 'agree': 97,\n",
              " 'tried': 715,\n",
              " 'negotiate': 28,\n",
              " 'put': 616,\n",
              " 'hold': 579,\n",
              " 'speak': 429,\n",
              " 'manager': 480,\n",
              " 'must': 347,\n",
              " 'pay': 2208,\n",
              " 'full': 686,\n",
              " 'debit': 345,\n",
              " 'want': 771,\n",
              " 'usps': 83,\n",
              " 'order': 445,\n",
              " 'original': 731,\n",
              " 'creditor': 428,\n",
              " 'well': 713,\n",
              " 'asking': 418,\n",
              " 'price': 86,\n",
              " 'opened': 596,\n",
              " 'prepaid': 50,\n",
              " 'bank': 3566,\n",
              " 'revolut': 6,\n",
              " 'way': 577,\n",
              " 'communicate': 67,\n",
              " 'app': 180,\n",
              " 'installed': 24,\n",
              " 'login': 43,\n",
              " 'number': 1612,\n",
              " 'used': 553,\n",
              " 'validate': 128,\n",
              " 'provided': 791,\n",
              " 'website': 402,\n",
              " 'funds': 886,\n",
              " 'held': 174,\n",
              " 'loaded': 12,\n",
              " 'cards': 456,\n",
              " 'loads': 4,\n",
              " 'worked': 134,\n",
              " 'restricted': 47,\n",
              " 'permanently': 36,\n",
              " 'seems': 145,\n",
              " 'spending': 56,\n",
              " 'patterns': 4,\n",
              " 'completely': 225,\n",
              " 'unrelated': 11,\n",
              " 'balance': 1593,\n",
              " 'close': 452,\n",
              " 'refund': 471,\n",
              " 'getting': 418,\n",
              " 'response': 615,\n",
              " 'provide': 990,\n",
              " 'american': 276,\n",
              " 'honda': 30,\n",
              " 'finance': 214,\n",
              " 'scheduled': 118,\n",
              " 'never': 2380,\n",
              " 'went': 812,\n",
              " 'notified': 364,\n",
              " 'company': 2998,\n",
              " 'unable': 346,\n",
              " 'qualify': 99,\n",
              " 'reporting': 977,\n",
              " 'three': 497,\n",
              " 'bureaus': 444,\n",
              " 'husband': 229,\n",
              " 'owed': 529,\n",
              " 'mailed': 248,\n",
              " 'check': 1429,\n",
              " 'paying': 594,\n",
              " 'paid': 1834,\n",
              " 'collection': 1425,\n",
              " 'agency': 673,\n",
              " 'telling': 214,\n",
              " 'us': 1195,\n",
              " 'need': 888,\n",
              " 'cancelled': 197,\n",
              " 'remove': 444,\n",
              " 'reports': 312,\n",
              " 'caine': 6,\n",
              " 'weiner': 4,\n",
              " 'tx': 67,\n",
              " 'call': 2378,\n",
              " 'unknown': 80,\n",
              " 'answered': 129,\n",
              " 'line': 395,\n",
              " 'get': 1990,\n",
              " 'ahold': 13,\n",
              " 'going': 795,\n",
              " 'garnish': 34,\n",
              " 'paycheck': 37,\n",
              " 'within': 638,\n",
              " 'couple': 117,\n",
              " 'hours': 420,\n",
              " 'serve': 48,\n",
              " 'papers': 61,\n",
              " 'sue': 83,\n",
              " 'gave': 447,\n",
              " 'man': 68,\n",
              " 'law': 532,\n",
              " 'firm': 112,\n",
              " 'told': 3201,\n",
              " 'could': 1738,\n",
              " 'served': 65,\n",
              " 'replied': 76,\n",
              " 'know': 1057,\n",
              " 'talking': 101,\n",
              " 'started': 347,\n",
              " 'yelling': 18,\n",
              " 'didnt': 808,\n",
              " 'debts': 148,\n",
              " 'sued': 57,\n",
              " 'proof': 640,\n",
              " 'laughed': 8,\n",
              " 'yell': 6,\n",
              " 'hung': 138,\n",
              " 'employer': 135,\n",
              " 'minutes': 209,\n",
              " 'tell': 376,\n",
              " 'anymore': 61,\n",
              " 'woman': 87,\n",
              " 'name': 1046,\n",
              " 'address': 917,\n",
              " 'later': 624,\n",
              " 'day': 1021,\n",
              " 'state': 511,\n",
              " 'located': 89,\n",
              " 'refused': 498,\n",
              " 'answer': 315,\n",
              " 'contact': 965,\n",
              " 'needed': 485,\n",
              " 'say': 402,\n",
              " 'bills': 309,\n",
              " 'happened': 334,\n",
              " 'fault': 119,\n",
              " 'wasnt': 298,\n",
              " 'away': 223,\n",
              " 'threatened': 79,\n",
              " 'garnished': 30,\n",
              " 'wages': 60,\n",
              " 'days': 1632,\n",
              " 'unless': 124,\n",
              " 'immediately': 594,\n",
              " 'interrupted': 7,\n",
              " 'begin': 70,\n",
              " 'times': 1071,\n",
              " 'hour': 134,\n",
              " 'case': 720,\n",
              " 'information': 2610,\n",
              " 'protect': 83,\n",
              " 'employee': 149,\n",
              " 'receptionist': 8,\n",
              " 'first': 999,\n",
              " 'seller': 43,\n",
              " 'property': 556,\n",
              " 'buyers': 45,\n",
              " 'quicken': 52,\n",
              " 'loans': 647,\n",
              " 'loan': 3435,\n",
              " 'officer': 123,\n",
              " 'nmls': 20,\n",
              " 'based': 279,\n",
              " 'communication': 266,\n",
              " 'agent': 423,\n",
              " 'canceled': 92,\n",
              " 'appraisers': 6,\n",
              " 'finally': 358,\n",
              " 'allowing': 54,\n",
              " 'third': 210,\n",
              " 'appraiser': 27,\n",
              " 'complete': 289,\n",
              " 'project': 11,\n",
              " 'appraisal': 167,\n",
              " 'comps': 5,\n",
              " 'year': 685,\n",
              " 'age': 40,\n",
              " 'estate': 81,\n",
              " 'sale': 306,\n",
              " 'came': 331,\n",
              " 'lower': 155,\n",
              " 'contract': 607,\n",
              " 'reviewed': 116,\n",
              " 'recent': 114,\n",
              " 'accurate': 153,\n",
              " 'source': 42,\n",
              " 'initial': 162,\n",
              " 'closing': 472,\n",
              " 'delay': 51,\n",
              " 'completed': 191,\n",
              " 'additional': 421,\n",
              " 'buyer': 99,\n",
              " 'without': 863,\n",
              " 'point': 429,\n",
              " 'customer': 1084,\n",
              " 'keep': 429,\n",
              " 'progress': 39,\n",
              " 'usda': 4,\n",
              " 'funding': 142,\n",
              " 'lie': 60,\n",
              " 'issues': 286,\n",
              " 'approval': 98,\n",
              " 'attorney': 399,\n",
              " 'waiting': 184,\n",
              " 'underwrite': 1,\n",
              " 'insists': 10,\n",
              " 'inaccurate': 167,\n",
              " 'missed': 215,\n",
              " 'dates': 175,\n",
              " 'expires': 15,\n",
              " 'negligence': 49,\n",
              " 'caused': 233,\n",
              " 'may': 452,\n",
              " 'cause': 112,\n",
              " 'loose': 13,\n",
              " 'earnest': 13,\n",
              " 'extending': 7,\n",
              " 'past': 536,\n",
              " 'federal': 418,\n",
              " 'government': 121,\n",
              " 'letting': 40,\n",
              " 'shark': 4,\n",
              " 'subprime': 7,\n",
              " 'lenders': 57,\n",
              " 'giving': 194,\n",
              " 'poor': 69,\n",
              " 'people': 518,\n",
              " 'fair': 434,\n",
              " 'interest': 1159,\n",
              " 'rate': 423,\n",
              " 'car': 500,\n",
              " 'making': 430,\n",
              " 'dollars': 316,\n",
              " 'bad': 125,\n",
              " 'got': 836,\n",
              " 'usury': 5,\n",
              " 'stop': 424,\n",
              " 'madness': 1,\n",
              " 'help': 1075,\n",
              " 'suffering': 26,\n",
              " 'documents': 752,\n",
              " 'directly': 231,\n",
              " 'details': 191,\n",
              " 'additionally': 83,\n",
              " 'refer': 50,\n",
              " 'previous': 277,\n",
              " 'unsolved': 1,\n",
              " 'complaints': 171,\n",
              " 'submitted': 466,\n",
              " 'receive': 750,\n",
              " 'notice': 749,\n",
              " 'citi': 553,\n",
              " 'master': 29,\n",
              " 'closed': 953,\n",
              " 'apparently': 105,\n",
              " 'noone': 2,\n",
              " 'ahead': 73,\n",
              " 'fact': 434,\n",
              " 'believe': 449,\n",
              " 'activity': 207,\n",
              " 'last': 783,\n",
              " 'years': 1085,\n",
              " 'action': 356,\n",
              " 'necessary': 110,\n",
              " 'ten': 46,\n",
              " 'nothing': 612,\n",
              " 'happen': 111,\n",
              " 'step': 81,\n",
              " 'sudden': 34,\n",
              " 'retire': 7,\n",
              " 'use': 537,\n",
              " 'future': 126,\n",
              " 'think': 206,\n",
              " 'earn': 33,\n",
              " 'right': 508,\n",
              " 'maintain': 50,\n",
              " 'subjective': 1,\n",
              " 'touch': 68,\n",
              " 'representative': 715,\n",
              " 'indicate': 37,\n",
              " 'hadnt': 65,\n",
              " 'therefore': 212,\n",
              " 'automatically': 72,\n",
              " 'seem': 87,\n",
              " 'strange': 30,\n",
              " 'reason': 432,\n",
              " 'apologize': 22,\n",
              " 'extremely': 140,\n",
              " 'generous': 4,\n",
              " 'feel': 372,\n",
              " 'unnecessary': 22,\n",
              " 'hope': 97,\n",
              " 'doesnt': 171,\n",
              " 'treat': 33,\n",
              " 'sometime': 25,\n",
              " 'might': 116,\n",
              " 'happening': 76,\n",
              " 'old': 285,\n",
              " 'many': 499,\n",
              " 'cases': 35,\n",
              " 'felt': 104,\n",
              " 'experience': 87,\n",
              " 'discriminate': 6,\n",
              " 'financial': 760,\n",
              " 'industry': 32,\n",
              " 'deposit': 406,\n",
              " 'checking': 593,\n",
              " 'online': 738,\n",
              " 'citizens': 60,\n",
              " 'xxxxxxxx': 6711,\n",
              " 'sign': 181,\n",
              " 'bonus': 221,\n",
              " 'deposited': 221,\n",
              " 'direct': 228,\n",
              " 'deposits': 92,\n",
              " 'withdrawals': 44,\n",
              " 'transfers': 44,\n",
              " 'end': 466,\n",
              " 'withdrew': 40,\n",
              " 'another': 1008,\n",
              " 'due': 2002,\n",
              " 'hit': 91,\n",
              " 'less': 167,\n",
              " 'short': 206,\n",
              " 'inexplicably': 3,\n",
              " 'notification': 260,\n",
              " 'correspondence': 159,\n",
              " 'warning': 43,\n",
              " 'corporate': 80,\n",
              " 'service': 1391,\n",
              " 'confused': 58,\n",
              " 'indicated': 150,\n",
              " 'closure': 68,\n",
              " 'able': 721,\n",
              " 'deduce': 1,\n",
              " 'collections': 405,\n",
              " 'already': 541,\n",
              " 'knew': 174,\n",
              " 'negative': 337,\n",
              " 'suggested': 69,\n",
              " 'branch': 364,\n",
              " 'investigate': 133,\n",
              " 'pa': 30,\n",
              " 'calling': 456,\n",
              " 'supervisors': 30,\n",
              " 'assistance': 246,\n",
              " 'inactivity': 31,\n",
              " 'argued': 9,\n",
              " 'met': 98,\n",
              " 'requirements': 119,\n",
              " 'unwilling': 48,\n",
              " 'anything': 612,\n",
              " 'remedy': 31,\n",
              " 'issue': 875,\n",
              " 'bbva': 55,\n",
              " 'overpayment': 32,\n",
              " 'neglected': 13,\n",
              " 'client': 110,\n",
              " 'solutions': 106,\n",
              " 'associate': 42,\n",
              " 'refunded': 157,\n",
              " 'trace': 14,\n",
              " 'useless': 14,\n",
              " 'collect': 497,\n",
              " 'party': 227,\n",
              " 'bill': 873,\n",
              " 'system': 419,\n",
              " 'institution': 120,\n",
              " 'avail': 56,\n",
              " 'representatives': 175,\n",
              " 'recognize': 41,\n",
              " 'reference': 132,\n",
              " 'several': 731,\n",
              " 'yet': 517,\n",
              " 'almost': 231,\n",
              " 'months': 1229,\n",
              " 'since': 1461,\n",
              " 'im': 786,\n",
              " 'filing': 223,\n",
              " 'complaint': 1009,\n",
              " 'mariner': 1,\n",
              " 'make': 1227,\n",
              " 'payments': 2192,\n",
              " 'personal': 436,\n",
              " 'reasons': 86,\n",
              " 'offered': 235,\n",
              " 'ban': 3,\n",
              " 'comfortable': 37,\n",
              " 'continued': 261,\n",
              " 'continuously': 37,\n",
              " 'ran': 44,\n",
              " 'fraudulent': 715,\n",
              " 'inquiries': 67,\n",
              " 'authorize': 84,\n",
              " 'threatening': 76,\n",
              " 'kept': 198,\n",
              " 'running': 39,\n",
              " 'inquires': 7,\n",
              " 'run': 119,\n",
              " 'score': 435,\n",
              " 'drop': 58,\n",
              " 'points': 260,\n",
              " 'nd': 101,\n",
              " 'sold': 292,\n",
              " 'shell': 22,\n",
              " 'ive': 578,\n",
              " 'somehow': 61,\n",
              " 'willing': 121,\n",
              " 'work': 665,\n",
              " 'sure': 412,\n",
              " 'foreclose': 35,\n",
              " 'home': 1172,\n",
              " 'applied': 561,\n",
              " 'promotional': 151,\n",
              " 'period': 320,\n",
              " 'upon': 307,\n",
              " 'logging': 17,\n",
              " 'today': 609,\n",
              " 'reflected': 49,\n",
              " 'increase': 141,\n",
              " 'charges': 994,\n",
              " 'new': 1191,\n",
              " 'monthly': 582,\n",
              " 'least': 227,\n",
              " 'small': 102,\n",
              " 'left': 382,\n",
              " 'issuer': 37,\n",
              " 'finances': 30,\n",
              " 'accrued': 42,\n",
              " 'beginning': 131,\n",
              " 'plan': 376,\n",
              " 'start': 172,\n",
              " 'date': 1168,\n",
              " 'misleading': 92,\n",
              " 'signing': 53,\n",
              " 'known': 95,\n",
              " 'previously': 178,\n",
              " 'dollar': 60,\n",
              " 'noted': 72,\n",
              " 'assure': 25,\n",
              " 'placed': 374,\n",
              " 'gainfully': 2,\n",
              " 'employed': 45,\n",
              " 'risk': 85,\n",
              " 'unemployment': 67,\n",
              " 'fraudulently': 109,\n",
              " 'investigated': 112,\n",
              " 'settled': 80,\n",
              " 'lawsuit': 102,\n",
              " 'underwriting': 40,\n",
              " 'around': 408,\n",
              " 'builder': 22,\n",
              " 'cost': 164,\n",
              " 'owned': 66,\n",
              " 'land': 29,\n",
              " 'house': 426,\n",
              " 'built': 12,\n",
              " 'allowed': 201,\n",
              " 'furthermore': 70,\n",
              " 'lean': 10,\n",
              " 'inquired': 55,\n",
              " 'allow': 205,\n",
              " 'talk': 198,\n",
              " 'anybody': 26,\n",
              " 'higher': 130,\n",
              " 'body': 18,\n",
              " 'given': 536,\n",
              " 'explanation': 156,\n",
              " 'insurance': 819,\n",
              " 'buy': 175,\n",
              " 'surveys': 1,\n",
              " 'survey': 10,\n",
              " 'driveway': 7,\n",
              " 'different': 520,\n",
              " 'still': 1414,\n",
              " 'north': 21,\n",
              " 'carolina': 31,\n",
              " 'employees': 66,\n",
              " 'union': 109,\n",
              " 'chain': 22,\n",
              " 'command': 4,\n",
              " 'disgusted': 7,\n",
              " 'funded': 24,\n",
              " 'organization': 43,\n",
              " 'member': 75,\n",
              " 'email': 1258,\n",
              " 'construction': 41,\n",
              " 'underwriter': 26,\n",
              " 'whats': 45,\n",
              " 'basically': 78,\n",
              " 'requesting': 327,\n",
              " 'surveyor': 1,\n",
              " 'revise': 3,\n",
              " 'foundation': 8,\n",
              " 'reflect': 54,\n",
              " 'along': 170,\n",
              " 'stamped': 10,\n",
              " 'dated': 310,\n",
              " 'twice': 214,\n",
              " 'annual': 145,\n",
              " 'disclosure': 78,\n",
              " 'reading': 32,\n",
              " 'math': 14,\n",
              " 'contacted': 1179,\n",
              " 'lender': 306,\n",
              " 'confront': 1,\n",
              " 'percent': 35,\n",
              " 'value': 165,\n",
              " 'someone': 579,\n",
              " 'else': 216,\n",
              " 'promise': 32,\n",
              " 'fixing': 15,\n",
              " 'problem': 488,\n",
              " 'agreeing': 25,\n",
              " 'billed': 63,\n",
              " 'policy': 280,\n",
              " 'overbilled': 1,\n",
              " 'penny': 9,\n",
              " 'mac': 3,\n",
              " 'claiming': 130,\n",
              " 'document': 340,\n",
              " 'dont': 833,\n",
              " 'understand': 295,\n",
              " 'binding': 42,\n",
              " 'auto': 219,\n",
              " 'termination': 31,\n",
              " 'required': 409,\n",
              " 'determine': 55,\n",
              " 'rights': 243,\n",
              " 'homeowners': 63,\n",
              " 'protection': 203,\n",
              " 'act': 598,\n",
              " 'thank': 305,\n",
              " 'income': 393,\n",
              " 'repayment': 178,\n",
              " 'forgiveness': 119,\n",
              " 'remained': 32,\n",
              " 'ms': 101,\n",
              " 'prior': 353,\n",
              " 'appeared': 81,\n",
              " 'contingent': 6,\n",
              " 'though': 389,\n",
              " 'commented': 1,\n",
              " 'navient': 200,\n",
              " 'puts': 15,\n",
              " 'best': 185,\n",
              " 'needless': 19,\n",
              " 'isnt': 104,\n",
              " 'wont': 146,\n",
              " 'wrong': 330,\n",
              " 'wiped': 5,\n",
              " 'worth': 63,\n",
              " 'derailed': 2,\n",
              " 'plans': 27,\n",
              " 'applying': 75,\n",
              " 'pslf': 54,\n",
              " 'lon': 1,\n",
              " 'gone': 133,\n",
              " 'mtg': 14,\n",
              " 'pmt': 9,\n",
              " 'plus': 163,\n",
              " 'escrow': 598,\n",
              " 'shortage': 93,\n",
              " 'incorrectly': 77,\n",
              " 'whole': 101,\n",
              " 'companies': 291,\n",
              " 'wait': 208,\n",
              " 'review': 288,\n",
              " 'waited': 118,\n",
              " 'supervisor': 471,\n",
              " 'named': 161,\n",
              " 'female': 20,\n",
              " 'id': 370,\n",
              " 'explained': 487,\n",
              " 'scenario': 8,\n",
              " 'assured': 136,\n",
              " 'fixed': 141,\n",
              " 'worry': 39,\n",
              " 'concerned': 70,\n",
              " 'wanted': 327,\n",
              " 'normal': 53,\n",
              " 'advance': 97,\n",
              " 'pmts': 2,\n",
              " 'looks': 35,\n",
              " 'owe': 609,\n",
              " 'asap': 52,\n",
              " 'anyone': 222,\n",
              " 'says': 234,\n",
              " 'expedite': 25,\n",
              " 'process': 674,\n",
              " 'corrected': 115,\n",
              " 'mins': 19,\n",
              " 'j': 8,\n",
              " 'tells': 54,\n",
              " 'needs': 168,\n",
              " 'figure': 98,\n",
              " 'states': 333,\n",
              " 'upset': 64,\n",
              " 'supposed': 242,\n",
              " 'reverse': 92,\n",
              " 'reapply': 32,\n",
              " 'reanalyze': 2,\n",
              " 'properly': 133,\n",
              " 'research': 117,\n",
              " 'answers': 100,\n",
              " 'surpressed': 1,\n",
              " 'story': 59,\n",
              " 'break': 32,\n",
              " 'issued': 232,\n",
              " 'apply': 277,\n",
              " 'refuse': 197,\n",
              " 'history': 293,\n",
              " 'refinance': 246,\n",
              " 'phh': 183,\n",
              " 'relationship': 78,\n",
              " 'inform': 137,\n",
              " 'scam': 129,\n",
              " 'currently': 212,\n",
              " 'conducted': 39,\n",
              " 'ocwen': 76,\n",
              " 'subsidary': 1,\n",
              " 'trial': 79,\n",
              " 'modification': 420,\n",
              " 'reduce': 48,\n",
              " 'via': 558,\n",
              " 'next': 461,\n",
              " 'updated': 140,\n",
              " 'scammed': 44,\n",
              " 'option': 208,\n",
              " 'proceeding': 26,\n",
              " 'indeed': 62,\n",
              " 'reached': 239,\n",
              " 'etc': 153,\n",
              " 'really': 217,\n",
              " 'thought': 230,\n",
              " 'scammer': 6,\n",
              " 'faded': 1,\n",
              " 'dime': 10,\n",
              " 'questions': 222,\n",
              " 'ongoing': 41,\n",
              " 'obviously': 77,\n",
              " 'access': 422,\n",
              " 'place': 326,\n",
              " 'repeatedly': 171,\n",
              " 'checked': 198,\n",
              " 'approximately': 132,\n",
              " 'middle': 65,\n",
              " 'believed': 32,\n",
              " 'window': 31,\n",
              " 'current': 495,\n",
              " 'transfer': 491,\n",
              " 'perfect': 37,\n",
              " 'opportunity': 82,\n",
              " 'appointed': 6,\n",
              " 'mistake': 177,\n",
              " 'copies': 166,\n",
              " 'faxing': 4,\n",
              " 'missing': 99,\n",
              " 'departments': 35,\n",
              " 'involves': 9,\n",
              " 'default': 177,\n",
              " 'afford': 136,\n",
              " 'lose': 74,\n",
              " 'overlooking': 3,\n",
              " 'matter': 539,\n",
              " 'anxiously': 2,\n",
              " 'part': 279,\n",
              " 'va': 121,\n",
              " 'discontinued': 16,\n",
              " 'collector': 299,\n",
              " 'solution': 43,\n",
              " 'beforeclose': 1,\n",
              " 'type': 149,\n",
              " 'responsibility': 95,\n",
              " 'status': 275,\n",
              " 'highest': 24,\n",
              " 'terms': 288,\n",
              " 'record': 242,\n",
              " 'northstar': 1,\n",
              " 'location': 98,\n",
              " 'services': 573,\n",
              " 'harassed': 41,\n",
              " 'family': 263,\n",
              " 'daily': 69,\n",
              " 'mother': 115,\n",
              " 'looking': 181,\n",
              " 'collectors': 37,\n",
              " 'disclosed': 40,\n",
              " 'much': 308,\n",
              " 'embarrassing': 7,\n",
              " 'lives': 26,\n",
              " 'miles': 104,\n",
              " 'calls': 726,\n",
              " 'spoken': 93,\n",
              " 'brother': 25,\n",
              " 'aggressively': 7,\n",
              " 'speaking': 105,\n",
              " 'sister': 29,\n",
              " 'voicemails': 27,\n",
              " 'disclosing': 13,\n",
              " 'seeking': 69,\n",
              " 'violation': 370,\n",
              " 'providing': 168,\n",
              " 'charged': 733,\n",
              " 'every': 586,\n",
              " 'month': 1099,\n",
              " 'agreed': 352,\n",
              " 'fees': 954,\n",
              " 'writing': 335,\n",
              " 'discover': 194,\n",
              " 'practices': 309,\n",
              " 'unethical': 60,\n",
              " 'hurting': 21,\n",
              " 'consumers': 171,\n",
              " 'verify': 356,\n",
              " 'open': 430,\n",
              " 'ok': 66,\n",
              " 'star': 15,\n",
              " 'release': 157,\n",
              " 'tax': 312,\n",
              " 'thing': 238,\n",
              " 'cc': 49,\n",
              " 'yes': 90,\n",
              " 'emails': 238,\n",
              " 'legit': 11,\n",
              " 'nee': 1,\n",
              " 'initially': 101,\n",
              " 'scanned': 14,\n",
              " 'ss': 44,\n",
              " 'dl': 8,\n",
              " 'limit': 237,\n",
              " 'al': 20,\n",
              " 'hassel': 1,\n",
              " 'struggle': 9,\n",
              " 'ill': 55,\n",
              " 'escalate': 42,\n",
              " 'consumer': 665,\n",
              " 'followed': 113,\n",
              " 'added': 237,\n",
              " 'remarks': 22,\n",
              " 'grantor': 1,\n",
              " 'total': 428,\n",
              " 'hits': 7,\n",
              " 'son': 129,\n",
              " 'hard': 192,\n",
              " 'build': 16,\n",
              " 'economy': 9,\n",
              " 'adding': 58,\n",
              " 'extra': 156,\n",
              " 'obstacles': 3,\n",
              " 'big': 61,\n",
              " 'accountable': 35,\n",
              " 'rather': 101,\n",
              " 'denied': 408,\n",
              " 'banco': 3,\n",
              " 'popular': 3,\n",
              " 'unlawful': 47,\n",
              " 'loantovalue': 3,\n",
              " 'ratio': 33,\n",
              " 'cancel': 210,\n",
              " 'private': 100,\n",
              " 'requirement': 76,\n",
              " 'receiving': 325,\n",
              " 'rejection': 16,\n",
              " 'cancellation': 107,\n",
              " 'request': 1105,\n",
              " 'error': 386,\n",
              " 'fix': 185,\n",
              " 'sofi': 9,\n",
              " 'lending': 100,\n",
              " 'foreclosure': 313,\n",
              " 'buying': 44,\n",
              " 'nj': 24,\n",
              " 'preapproved': 10,\n",
              " 'uploaded': 59,\n",
              " 'wed': 8,\n",
              " 'side': 65,\n",
              " 'including': 275,\n",
              " 'executed': 19,\n",
              " 'ago': 381,\n",
              " 'commitment': 12,\n",
              " 'inspection': 38,\n",
              " 'obtained': 95,\n",
              " 'sellers': 13,\n",
              " 'certified': 245,\n",
              " 'wouldnt': 155,\n",
              " 'taxes': 302,\n",
              " 'high': 179,\n",
              " 'long': 241,\n",
              " 'forth': 69,\n",
              " 'withdraw': 77,\n",
              " 'reversed': 117,\n",
              " 'reasonable': 95,\n",
              " 'explain': 257,\n",
              " 'come': 226,\n",
              " 'hook': 5,\n",
              " 'internet': 97,\n",
              " 'couldnt': 253,\n",
              " 'equipment': 38,\n",
              " 'written': 369,\n",
              " 'personally': 54,\n",
              " 'staff': 61,\n",
              " 'grace': 37,\n",
              " 'withing': 3,\n",
              " 'ended': 113,\n",
              " 'support': 151,\n",
              " 'team': 137,\n",
              " 'conversation': 158,\n",
              " 'backed': 19,\n",
              " 'recieved': 78,\n",
              " 'mail': 689,\n",
              " 'infuriated': 3,\n",
              " 'apologized': 34,\n",
              " 'outstanding': 105,\n",
              " 'file': 731,\n",
              " 'week': 354,\n",
              " 'consider': 57,\n",
              " 'settlement': 174,\n",
              " 'receivable': 12,\n",
              " 'performance': 27,\n",
              " 'management': 194,\n",
              " 'llc': 253,\n",
              " 'identify': 68,\n",
              " 'settle': 126,\n",
              " 'returned': 437,\n",
              " 'reflecting': 31,\n",
              " 'barclay': 29,\n",
              " 'financing': 57,\n",
              " 'visa': 131,\n",
              " 'finished': 28,\n",
              " 'processing': 116,\n",
              " 'application': 417,\n",
              " 'code': 143,\n",
              " 'approved': 268,\n",
              " 'try': 273,\n",
              " 'activate': 20,\n",
              " 'verification': 290,\n",
              " 'keybank': 15,\n",
              " 'mi': 22,\n",
              " 'convince': 8,\n",
              " 'district': 66,\n",
              " 'court': 379,\n",
              " 'judge': 33,\n",
              " 'garnishment': 93,\n",
              " 'xxxxthe': 6,\n",
              " 'key': 41,\n",
              " 'illegal': 174,\n",
              " 'rightful': 5,\n",
              " 'owner': 134,\n",
              " 'proficio': 2,\n",
              " 'listed': 306,\n",
              " 'recently': 272,\n",
              " 'saw': 194,\n",
              " 'reported': 673,\n",
              " 'accounts': 902,\n",
              " 'formal': 61,\n",
              " 'notifying': 56,\n",
              " 'dispute': 918,\n",
              " 'valid': 190,\n",
              " 'remaining': 127,\n",
              " 'cellphones': 6,\n",
              " 'responded': 254,\n",
              " 'failed': 306,\n",
              " 'person': 672,\n",
              " 'framily': 2,\n",
              " 'set': 315,\n",
              " 'earlier': 75,\n",
              " 'phones': 44,\n",
              " 'become': 62,\n",
              " 'job': 253,\n",
              " 'requires': 63,\n",
              " 'hrs': 19,\n",
              " 'cell': 117,\n",
              " 'battery': 7,\n",
              " 'died': 30,\n",
              " 'local': 151,\n",
              " 'ia': 5,\n",
              " ...}"
            ]
          },
          "metadata": {},
          "execution_count": 10
        }
      ],
      "source": [
        "# Create a dictionary containing the frequency of words utilizing the 'frequency_dict' function\n",
        "\n",
        "# Expect this chunk to take a comparatively longer time to execute since our dataset is large\n",
        "\n",
        "freq_word = frequency_dict(lines)\n",
        "\n",
        "freq_word"
      ]
    },
    {
      "cell_type": "code",
      "execution_count": 11,
      "metadata": {
        "id": "vLvPijR_GKHn"
      },
      "outputs": [],
      "source": [
        "# Create a function to calculate the Term Frequency\n",
        "\n",
        "def term_frequency(document, word):\n",
        "    '''\n",
        "    document: list containing the entire corpus\n",
        "    word: word whose term frequency is to be calculated\n",
        "    ---\n",
        "    tf: returns term frequency value\n",
        "    '''\n",
        "    return sum([1 for token in document if token == word])/len(word)"
      ]
    },
    {
      "cell_type": "code",
      "execution_count": 12,
      "metadata": {
        "id": "HA99G_yAGLCC"
      },
      "outputs": [],
      "source": [
        "# Create a function to calculate the Inverse Document Frequency\n",
        " \n",
        "def inverse_df(word):\n",
        "    '''\n",
        "    word: word whose inverse document frequency is to be calculated\n",
        "    ---\n",
        "    idf: return inverse document frequency value\n",
        "    '''\n",
        "    return np.log10(total_docs/(freq_word.get(word, 0) + 1)) "
      ]
    },
    {
      "cell_type": "code",
      "execution_count": 13,
      "metadata": {
        "id": "F0irgwv2GRfE"
      },
      "outputs": [],
      "source": [
        "#Create a function to combine the term frequencies (TF) and inverse document (IDF) frequencies calculated above to get TF-IDF\n",
        "\n",
        "def tfidf(sentence,dict_idx):\n",
        "    '''\n",
        "    sentence: list containing the entire corpus\n",
        "    dict: dictionary keeping track of index of each word\n",
        "    ---\n",
        "    tf_idf_vec: returns computed tf-idf\n",
        "    '''\n",
        "    tf_idf_vec = [0] * len(freq_word)\n",
        "    for word in sentence:\n",
        "      tf = term_frequency(sentence, word)\n",
        "      idf = inverse_df(word)\n",
        "      tf_idf_vec[dict_idx[word]] = tf * idf\n",
        "\n",
        "    return tf_idf_vec"
      ]
    },
    {
      "cell_type": "code",
      "execution_count": 14,
      "metadata": {
        "id": "_VKJhqatGWpV"
      },
      "outputs": [],
      "source": [
        "#Compute the vectors utilizing the 'tfidf' function created above to obtain a TF-IDF Encoded text corpus\n",
        "tf_idf_vecs = []\n",
        "for sentence in lines:\n",
        "  tf_idf_vecs.append(tfidf(sentence, dict_idx))"
      ]
    },
    {
      "cell_type": "markdown",
      "metadata": {
        "id": "LE0UGUaSGb8I"
      },
      "source": [
        "## Multinomial Naive Bayes (10 Points)"
      ]
    },
    {
      "cell_type": "code",
      "execution_count": 15,
      "metadata": {
        "id": "yWYcxrdJGfDC"
      },
      "outputs": [],
      "source": [
        "from sklearn.naive_bayes import MultinomialNB\n",
        "#Fit a Multinomial Naive Bayes Model on our dataset\n",
        "\n",
        "# very low alphas give very good training accuracy\n",
        "model = MultinomialNB(alpha=0.0000000001) \n"
      ]
    },
    {
      "cell_type": "code",
      "execution_count": 16,
      "metadata": {
        "id": "G6CiQB4qGfqH"
      },
      "outputs": [],
      "source": [
        "from sklearn.preprocessing import MinMaxScaler\n",
        "#Perform testing on the train dataset\n",
        "scaler = MinMaxScaler()\n",
        "fit_data = scaler.fit_transform(tf_idf_vecs)\n",
        "pred = model.fit(fit_data, mydata_train.Product)"
      ]
    },
    {
      "cell_type": "code",
      "execution_count": 17,
      "metadata": {
        "id": "yCLagGu6Gh6T",
        "colab": {
          "base_uri": "https://localhost:8080/"
        },
        "outputId": "f3a654c4-b7e7-464b-8f74-d314d3bf0427"
      },
      "outputs": [
        {
          "output_type": "stream",
          "name": "stdout",
          "text": [
            "[[ 557   20   32    0    0    0]\n",
            " [   7 1041   87    0    0   13]\n",
            " [   0    8 1880    3    0    4]\n",
            " [   1    6   37  804    1    4]\n",
            " [   0    3   17    0  232    5]\n",
            " [   0    3   20    0    0  215]]\n",
            "F1 Score:  0.9458255805602787\n",
            "Accuracy:  0.9458\n"
          ]
        }
      ],
      "source": [
        "from sklearn.metrics import confusion_matrix, accuracy_score, f1_score\n",
        "\n",
        "#Calculate the F1 Score and the Accuracy\n",
        "y_pred = model.predict(fit_data)\n",
        "F1_score = f1_score(mydata_train.Product, y_pred, average='weighted') \n",
        "Accuracy = accuracy_score(mydata_train.Product, y_pred)\n",
        "print(confusion_matrix(mydata_train.Product, y_pred))\n",
        "print(\"F1 Score: \", F1_score)\n",
        "print(\"Accuracy: \", Accuracy)"
      ]
    },
    {
      "cell_type": "markdown",
      "metadata": {
        "id": "bbMRqJv5Gl2F"
      },
      "source": [
        "### Expected Output:\n",
        "F1 Score: 0.8081311697005633\n",
        "\n",
        "Accuracy: 0.826"
      ]
    },
    {
      "cell_type": "markdown",
      "metadata": {
        "id": "AWRDuUqU-taV"
      },
      "source": [
        "Your accuracy does not have to be exactly the same. This is just to give you an estimate of what could you expect your accuracy to be around."
      ]
    },
    {
      "cell_type": "markdown",
      "metadata": {
        "id": "UfMc8cz93Cc0"
      },
      "source": [
        "## Question 2 Vector Visualization"
      ]
    },
    {
      "cell_type": "markdown",
      "metadata": {
        "id": "70iwEeL23F7K"
      },
      "source": [
        "In this unsupervised learning task we are going to cluster wikipedia articles into groups using T-SNE visualization after vectorization."
      ]
    },
    {
      "cell_type": "markdown",
      "metadata": {
        "id": "UHx4YuxW36oM"
      },
      "source": [
        "### Collect articles from Wikipedia (10 points)\n",
        "\n",
        "In this section we will download articles from wikipedia and then vectorize them in the next step. You can select somewhat related topics or fetch the articles randomly. \n",
        "(Use dir() and help() functions or refer wikipedia documentation)\n",
        "You may also pick any other data source of your choice instead of wikipedia."
      ]
    },
    {
      "cell_type": "code",
      "execution_count": 18,
      "metadata": {
        "id": "jA419x6__mjg",
        "colab": {
          "base_uri": "https://localhost:8080/"
        },
        "outputId": "37a93c24-d3b4-446f-f172-500ffcb65e95"
      },
      "outputs": [
        {
          "output_type": "stream",
          "name": "stdout",
          "text": [
            "Looking in indexes: https://pypi.org/simple, https://us-python.pkg.dev/colab-wheels/public/simple/\n",
            "Collecting wikipedia\n",
            "  Downloading wikipedia-1.4.0.tar.gz (27 kB)\n",
            "Requirement already satisfied: beautifulsoup4 in /usr/local/lib/python3.7/dist-packages (from wikipedia) (4.6.3)\n",
            "Requirement already satisfied: requests<3.0.0,>=2.0.0 in /usr/local/lib/python3.7/dist-packages (from wikipedia) (2.23.0)\n",
            "Requirement already satisfied: idna<3,>=2.5 in /usr/local/lib/python3.7/dist-packages (from requests<3.0.0,>=2.0.0->wikipedia) (2.10)\n",
            "Requirement already satisfied: urllib3!=1.25.0,!=1.25.1,<1.26,>=1.21.1 in /usr/local/lib/python3.7/dist-packages (from requests<3.0.0,>=2.0.0->wikipedia) (1.24.3)\n",
            "Requirement already satisfied: chardet<4,>=3.0.2 in /usr/local/lib/python3.7/dist-packages (from requests<3.0.0,>=2.0.0->wikipedia) (3.0.4)\n",
            "Requirement already satisfied: certifi>=2017.4.17 in /usr/local/lib/python3.7/dist-packages (from requests<3.0.0,>=2.0.0->wikipedia) (2022.9.24)\n",
            "Building wheels for collected packages: wikipedia\n",
            "  Building wheel for wikipedia (setup.py) ... \u001b[?25l\u001b[?25hdone\n",
            "  Created wheel for wikipedia: filename=wikipedia-1.4.0-py3-none-any.whl size=11695 sha256=9bdfbbadadfa481263ae4eb40e1e114f8879ef29ca562c37abf66f2061885be6\n",
            "  Stored in directory: /root/.cache/pip/wheels/15/93/6d/5b2c68b8a64c7a7a04947b4ed6d89fb557dcc6bc27d1d7f3ba\n",
            "Successfully built wikipedia\n",
            "Installing collected packages: wikipedia\n",
            "Successfully installed wikipedia-1.4.0\n"
          ]
        }
      ],
      "source": [
        "# install libraries\n",
        "%pip install wikipedia"
      ]
    },
    {
      "cell_type": "code",
      "execution_count": 19,
      "metadata": {
        "id": "vLMLk4K84Zbn",
        "colab": {
          "base_uri": "https://localhost:8080/"
        },
        "outputId": "c0fba8ae-63bd-45bd-8c20-f16993115640"
      },
      "outputs": [
        {
          "output_type": "stream",
          "name": "stderr",
          "text": [
            "/usr/local/lib/python3.7/dist-packages/wikipedia/wikipedia.py:389: UserWarning: No parser was explicitly specified, so I'm using the best available HTML parser for this system (\"lxml\"). This usually isn't a problem, but if you run this code on another system, or in a different virtual environment, it may use a different parser and behave differently.\n",
            "\n",
            "The code that caused this warning is on line 389 of the file /usr/local/lib/python3.7/dist-packages/wikipedia/wikipedia.py. To get rid of this warning, pass the additional argument 'features=\"lxml\"' to the BeautifulSoup constructor.\n",
            "\n",
            "  lis = BeautifulSoup(html).find_all('li')\n"
          ]
        }
      ],
      "source": [
        "import wikipedia\n",
        "from wikipedia.exceptions import WikipediaException\n",
        "\n",
        "'''\n",
        " Generate a list of wikipedia article to cluster \n",
        " You can maintain a static list of titles or generate them randomly using wikipedia library\n",
        " Some topics include:\n",
        " [\"Northeastern Unversity\", \"Natural language processing\", \"Machine learning\", \"Quantum machine learning\", \"Artificial intelligence\", \"Data science\", \"Master in Data Science\", \n",
        " \"Bank of America\", \"Visa Inc.\", \"European Central Bank\", \"Bank\", \"Financial technology\",\"International Monetary Fund\", \n",
        " \"Basketball\", \"Swimming\", \"Tennis\", \"Football\", \"College Football\", \"Association Football\"]\n",
        "\n",
        " You can add more topics from different categories so that we have a diverse dataset to work with. \n",
        " Ex- About 3+ categories(groups), 3+ topics in each category, 3+ articles in each topic\n",
        "'''\n",
        "# selected topics\n",
        "topics = [\"Dogs\", \"Computer Science\", \"Airplanes\", \"Physics\", \"Sewing\"]\n",
        "target_topics = []\n",
        "\n",
        "# list of articles to be downloaded\n",
        "articles = []\n",
        "for topic in topics:\n",
        "  results = wikipedia.search(topic)\n",
        "  articles = articles + results\n",
        "\n",
        "# download and store articles (summaries) in this variable\n",
        "data = []\n",
        "results = wikipedia.search(\"The Silmarillion\")\n",
        "results += wikipedia.search(\"Ainulindale\")\n",
        "results += wikipedia.search(\"Thingol Greycloak\")\n",
        "results += wikipedia.search(\"Manwe\")\n",
        "for article in set(results):\n",
        "  try:\n",
        "    page = wikipedia.page(article)\n",
        "  except:\n",
        "    continue\n",
        "  data.append(page.summary)\n",
        "  target_topics.append(\"Tolkien\");\n",
        "\n",
        "results = wikipedia.search(\"C++\")\n",
        "results += wikipedia.search(\"Machine Learning\")\n",
        "results += wikipedia.search(\"Compilers\")\n",
        "results += wikipedia.search(\"Finite Automata\")\n",
        "\n",
        "for article in set(results):\n",
        "  try:\n",
        "    page = wikipedia.page(article)\n",
        "  except:\n",
        "    continue\n",
        "  data.append(page.summary)\n",
        "  target_topics.append(\"Computer Science\");\n",
        "\n",
        "results = wikipedia.search(\"Airplanes\")\n",
        "results += wikipedia.search(\"How do Airplanes work\")\n",
        "results += wikipedia.search(\"Airplane navigation\")\n",
        "results += wikipedia.search(\"Airshows\")\n",
        "for article in set(results):\n",
        "  try:\n",
        "    page = wikipedia.page(article)\n",
        "  except:\n",
        "    continue\n",
        "  data.append(page.summary)\n",
        "  target_topics.append(\"Airplanes\");\n",
        "\n",
        "results = wikipedia.search(\"Sewing Clothes\")\n",
        "results += wikipedia.search(\"Sewing Machines\")\n",
        "results += wikipedia.search(\"Sewing industry\")\n",
        "results += wikipedia.search(\"Sewing history\")\n",
        "for article in set(results):\n",
        "  try:\n",
        "    page = wikipedia.page(article)\n",
        "  except:\n",
        "    continue\n",
        "  data.append(page.summary)\n",
        "  target_topics.append(\"Sewing\");"
      ]
    },
    {
      "cell_type": "markdown",
      "metadata": {
        "id": "IgpRv7wQ4Dpm"
      },
      "source": [
        "### Cleaning the Data (5 points)\n",
        "In this step you will decide whether to clean the data or not. If you choose to clean, you may utilize the clean function from assignment 1.\n",
        "\n",
        "**Question:** Why are you (not) choosing to clean the data? Think in terms of whether cleaning data will help in the clustering or not."
      ]
    },
    {
      "cell_type": "markdown",
      "metadata": {
        "id": "PnZpDKcaHTGq"
      },
      "source": [
        "**Answer(1-3 sentences):** "
      ]
    },
    {
      "cell_type": "code",
      "execution_count": 20,
      "metadata": {
        "id": "lNj53Pxr963N",
        "colab": {
          "base_uri": "https://localhost:8080/"
        },
        "outputId": "35d7c188-1a66-4ba5-e842-a21f6749f361"
      },
      "outputs": [
        {
          "output_type": "stream",
          "name": "stderr",
          "text": [
            "[nltk_data] Downloading package stopwords to /root/nltk_data...\n",
            "[nltk_data]   Package stopwords is already up-to-date!\n",
            "[nltk_data] Downloading package punkt to /root/nltk_data...\n",
            "[nltk_data]   Package punkt is already up-to-date!\n"
          ]
        }
      ],
      "source": [
        "# You can use Assignment 1's clean message function\n",
        "import re\n",
        "import nltk\n",
        "import string\n",
        "#nltk.download('punkt')\n",
        "#nltk.download('stopwords')\n",
        "import string\n",
        "import nltk\n",
        "nltk.download('stopwords')\n",
        "nltk.download('punkt')\n",
        "from nltk.corpus import stopwords\n",
        "from nltk.stem import PorterStemmer\n",
        "from nltk.tokenize import word_tokenize\n",
        "\n",
        "stopword = nltk.corpus.stopwords.words('english')\n",
        "# TASK CELL\n",
        "def remove_URLs(text):\n",
        "    text = re.sub(r\"http\\S+\", \"\", text) # replaces URLs starting with http \n",
        "    text = re.sub(r\"www.\\S+\", \"\", text) # replaces URLs starting with www\n",
        "    return text\n",
        "  \n",
        "def remove_punctuation(text):\n",
        "    return \"\".join([char for char in text if char not in string.punctuation]) \n",
        "\n",
        "def remove_stopwords(text):\n",
        "    return \" \".join([word for word in re.split('\\W+', text)\n",
        "        if word not in stopword])\n",
        "\n",
        "def performStemming(text, ps):\n",
        "     return \" \".join([ps.stem(word) for word in re.split('\\W+', text)])\n",
        "\n",
        "def clean_message(review):\n",
        "    '''\n",
        "    Input:\n",
        "        review: a string containing a review.\n",
        "    Output:\n",
        "        review_cleaned: a processed review. \n",
        "\n",
        "    '''\n",
        "    review_cleaned = review.lower()\n",
        "    review_cleaned = remove_URLs(review_cleaned)\n",
        "    review_cleaned = remove_punctuation(review_cleaned)\n",
        "    review_cleaned = remove_stopwords(review_cleaned)\n",
        "\n",
        "    stemmer = PorterStemmer()\n",
        "    review_cleaned = performStemming(review_cleaned, stemmer)\n",
        "    return review_cleaned\n",
        "\n",
        "cleaned_data = []\n",
        "for article in data:\n",
        "  cleaned_data.append(clean_message(article))"
      ]
    },
    {
      "cell_type": "markdown",
      "metadata": {
        "id": "bvRZUpmq-DmT"
      },
      "source": [
        "### Vectorize the articles (5 points)\n",
        "\n",
        "In this step, we will vectorize the text data. You can use TfidfVectorizer() or countVectorizer() from sklearn library."
      ]
    },
    {
      "cell_type": "code",
      "execution_count": 21,
      "metadata": {
        "id": "gJk8YY89-OU4"
      },
      "outputs": [],
      "source": [
        "from sklearn.feature_extraction.text import TfidfVectorizer\n",
        "\n",
        "vectorizer = TfidfVectorizer()\n",
        "X = vectorizer.fit_transform(cleaned_data)\n"
      ]
    },
    {
      "cell_type": "code",
      "execution_count": 22,
      "metadata": {
        "id": "DAIGlqEuINWA",
        "colab": {
          "base_uri": "https://localhost:8080/"
        },
        "outputId": "f49a0238-4a7e-4b6c-b3c4-5c2b4ec5f1b1"
      },
      "outputs": [
        {
          "output_type": "stream",
          "name": "stdout",
          "text": [
            "(106, 3520)\n"
          ]
        }
      ],
      "source": [
        "print(X.shape)"
      ]
    },
    {
      "cell_type": "markdown",
      "metadata": {
        "id": "PKLvrKHRQaQq"
      },
      "source": [
        "### Sample Output:\n",
        "(36, 1552)"
      ]
    },
    {
      "cell_type": "markdown",
      "metadata": {
        "id": "M5ZrGrzD_G8d"
      },
      "source": [
        "### Plot Articles (10 points)\n",
        "Now we will try to verify the groups of articles using T-SNE from sklearn library."
      ]
    },
    {
      "cell_type": "code",
      "execution_count": 23,
      "metadata": {
        "id": "SjcuZBOe-oZq",
        "colab": {
          "base_uri": "https://localhost:8080/"
        },
        "outputId": "d849db26-0ec3-433e-c76c-a41df8242b28"
      },
      "outputs": [
        {
          "output_type": "stream",
          "name": "stderr",
          "text": [
            "/usr/local/lib/python3.7/dist-packages/sklearn/manifold/_t_sne.py:783: FutureWarning: The default initialization in TSNE will change from 'random' to 'pca' in 1.2.\n",
            "  FutureWarning,\n",
            "/usr/local/lib/python3.7/dist-packages/sklearn/manifold/_t_sne.py:793: FutureWarning: The default learning rate in TSNE will change from 200.0 to 'auto' in 1.2.\n",
            "  FutureWarning,\n"
          ]
        },
        {
          "output_type": "stream",
          "name": "stdout",
          "text": [
            "[t-SNE] Computing 91 nearest neighbors...\n",
            "[t-SNE] Indexed 106 samples in 0.001s...\n",
            "[t-SNE] Computed neighbors for 106 samples in 0.006s...\n",
            "[t-SNE] Computed conditional probabilities for sample 106 / 106\n",
            "[t-SNE] Mean sigma: 0.305643\n",
            "[t-SNE] KL divergence after 250 iterations with early exaggeration: 61.287663\n",
            "[t-SNE] KL divergence after 1000 iterations: 0.505691\n"
          ]
        }
      ],
      "source": [
        " from sklearn.manifold import TSNE\n",
        "\n",
        "# call TSNE() to fit the data\n",
        " from sklearn.manifold import TSNE\n",
        " import pandas as pd\n",
        "\n",
        "# call TSNE() to fit the data\n",
        "tsne = TSNE(n_components=2, verbose=1)\n",
        "z = tsne.fit_transform(X)\n"
      ]
    },
    {
      "cell_type": "markdown",
      "metadata": {
        "id": "iCY_blxjO1bs"
      },
      "source": [
        "Plot and annotate the points with different markers for different expected groups."
      ]
    },
    {
      "cell_type": "code",
      "execution_count": 24,
      "metadata": {
        "colab": {
          "base_uri": "https://localhost:8080/",
          "height": 532
        },
        "id": "3ODUA1Vf-rRd",
        "outputId": "289df032-b1be-41ef-c55c-8c22096a6215"
      },
      "outputs": [
        {
          "output_type": "stream",
          "name": "stdout",
          "text": [
            "106\n"
          ]
        },
        {
          "output_type": "execute_result",
          "data": {
            "text/plain": [
              "<matplotlib.axes._subplots.AxesSubplot at 0x7f541309f810>"
            ]
          },
          "metadata": {},
          "execution_count": 24
        },
        {
          "output_type": "display_data",
          "data": {
            "text/plain": [
              "<Figure size 720x576 with 1 Axes>"
            ],
            "image/png": "[encoded data removed]"
          },
          "metadata": {
            "needs_background": "light"
          }
        }
      ],
      "source": [
        "import seaborn as sns\n",
        "import matplotlib.pyplot as plt\n",
        "\n",
        "# get a figure handle\n",
        "fig,ax = plt.subplots(figsize=(10,8))\n",
        "\n",
        "df = pd.DataFrame()\n",
        "df[\"comp-1\"] = z[:,0]\n",
        "df[\"comp-2\"] = z[:,1]\n",
        "\n",
        "print(len(target_topics))\n",
        "sns.scatterplot(x=\"comp-1\", y=\"comp-2\", hue=target_topics, markers=target_topics,\n",
        "                data=df)\n",
        "\n"
      ]
    },
    {
      "cell_type": "markdown",
      "metadata": {
        "id": "dYcEi1EC_UGO"
      },
      "source": [
        "**Question:** Comment about the categorizion done by T-SNE. Do the articles of related topics cluster together? (5 points)"
      ]
    },
    {
      "cell_type": "markdown",
      "metadata": {
        "id": "tde1Wu5HI6AA"
      },
      "source": [
        "**Answer(1-3 sentences):**  \n",
        "  \n"
      ]
    },
    {
      "cell_type": "markdown",
      "metadata": {
        "id": "6HCZqTkoKVNp"
      },
      "source": [
        "The data does generally appear to be well-clustered.  Even where it appears to not be so well-clustered, it sort of makes sense.  For instance, we see the sewing group invading the Tolkien group in its upper-right extremity.  Tolkien's works contain a lot of references to sewing and embroidering of sigils on flags, so intuitively that does not seem out of place.  I tried to choose topics and subtopics that would be rather different, and I think that's reflected here.  Other than the Tolkien/sewing  intermixing, everything is rather contained in its own group."
      ]
    },
    {
      "cell_type": "markdown",
      "metadata": {
        "id": "U2xrJddIpSsd"
      },
      "source": [
        "# Question 3. Building Multinomial Naive Bayes and Neural Networks on Countvectors\n",
        "\n",
        "### We are gonna use Disaster Tweets Datasset for this task. We need to Predict which Tweets are about real disasters and which ones are not.\n",
        "\n",
        "### We are providing data.csv file along with this notebook. "
      ]
    },
    {
      "cell_type": "markdown",
      "metadata": {
        "id": "NJYmVbkvphgX"
      },
      "source": [
        "### Library Imports and Utility functions"
      ]
    },
    {
      "cell_type": "code",
      "execution_count": 25,
      "metadata": {
        "id": "BO-HU-7uorVX",
        "colab": {
          "base_uri": "https://localhost:8080/"
        },
        "outputId": "ccc94c77-64c8-4ed6-c3ae-515d18d87f31"
      },
      "outputs": [
        {
          "output_type": "stream",
          "name": "stderr",
          "text": [
            "[nltk_data] Downloading package stopwords to /root/nltk_data...\n",
            "[nltk_data]   Package stopwords is already up-to-date!\n",
            "[nltk_data] Downloading package wordnet to /root/nltk_data...\n",
            "[nltk_data]   Package wordnet is already up-to-date!\n",
            "[nltk_data] Downloading package words to /root/nltk_data...\n",
            "[nltk_data]   Unzipping corpora/words.zip.\n"
          ]
        }
      ],
      "source": [
        "from sklearn.feature_extraction.text import CountVectorizer\n",
        "from sklearn.feature_extraction.text import TfidfVectorizer\n",
        "import nltk\n",
        "from nltk.corpus import stopwords\n",
        "from nltk.stem import PorterStemmer\n",
        "from nltk.tokenize import word_tokenize\n",
        "import string\n",
        "import pandas as pd\n",
        "import re\n",
        "#string.punctuation\n",
        "import nltk\n",
        "nltk.download('stopwords')\n",
        "nltk.download('wordnet')\n",
        "nltk.download('words')\n",
        "\n",
        "stopword = nltk.corpus.stopwords.words('english')\n",
        "wn = nltk.WordNetLemmatizer()\n",
        "ps = nltk.PorterStemmer()\n",
        "words = set(nltk.corpus.words.words())\n",
        "\n",
        "\n",
        "def clean_text(text):\n",
        "  # From the last assignment\n",
        "  text = text.lower()\n",
        "  text = re.sub(r\"http\\S+\", \"\", text)\n",
        "  text = re.sub(r\"www.\\S+\", \"\", text)\n",
        "  text_links_removed = \"\".join([char for char in text if char not in string.punctuation])\n",
        "  text_cleaned = \" \".join([word for word in re.split('\\W+', text_links_removed)\n",
        "      if word not in stopword])\n",
        "  text = \" \".join([wn.lemmatize(word) for word in re.split('\\W+', text_cleaned)])\n",
        "  return text"
      ]
    },
    {
      "cell_type": "markdown",
      "metadata": {
        "id": "B0D5wVjZw7s0"
      },
      "source": [
        "### Q) Importing the datasets and do the necessary cleaning and convert the text into the vectors which are mentioned in the below code blocks. (10 points)"
      ]
    },
    {
      "cell_type": "code",
      "execution_count": 26,
      "metadata": {
        "id": "MOMhmIlGprK9",
        "colab": {
          "base_uri": "https://localhost:8080/"
        },
        "outputId": "6a46771a-99de-416d-ab84-e6c413e0e2f7"
      },
      "outputs": [
        {
          "output_type": "stream",
          "name": "stdout",
          "text": [
            "(7613, 2)\n"
          ]
        }
      ],
      "source": [
        "# Import the data.csv only use 'text' and 'target' columns\n",
        "data = pd.read_csv('data.csv')[['text', 'target']]\n",
        "\n",
        "# data\n",
        "X = data['text']\n",
        "\n",
        "# and printout the train.shape and validation.shape - DON'T KNOW WHY THIS IS HERE - WE ARE USING KFOLD VALIDATION \n",
        "\n",
        "# expected shape of dataset is (7613, 2)\n",
        "print(data.shape)"
      ]
    },
    {
      "cell_type": "code",
      "execution_count": 27,
      "metadata": {
        "id": "PS7K3p7AqAI8"
      },
      "outputs": [],
      "source": [
        "# clean the text in the dataframe using the clean_text function provided above\n",
        "X_cleaned = []\n",
        "\n",
        "for line in X:\n",
        "    X_cleaned.append(clean_text(line))"
      ]
    },
    {
      "cell_type": "code",
      "execution_count": 28,
      "metadata": {
        "id": "GxZC6RIjq3bu"
      },
      "outputs": [],
      "source": [
        "# initialise count vectorizer from sklearn module with default parameter\n",
        "from sklearn.feature_extraction.text import CountVectorizer\n",
        "\n",
        "vectorizer = CountVectorizer()\n",
        "\n",
        "# fit and transform on dataset\n",
        "X_cleaned_transformed = vectorizer.fit_transform(np.array(X_cleaned))"
      ]
    },
    {
      "cell_type": "code",
      "execution_count": 29,
      "metadata": {
        "id": "OPLJgROsP0Mj"
      },
      "outputs": [],
      "source": [
        "# get the values of target column\n",
        "\n",
        "y = data['target']"
      ]
    },
    {
      "cell_type": "markdown",
      "metadata": {
        "id": "xjsiH8YOw-Da"
      },
      "source": [
        "### Q) Build the neural networks using tensorflow keras by following the below instructions. Evaluate the model on different metrics and comment your observations. (15 points)"
      ]
    },
    {
      "cell_type": "code",
      "execution_count": 34,
      "metadata": {
        "id": "AQg14bkTq3KB"
      },
      "outputs": [],
      "source": [
        "#%pip install tensorflow\n",
        "import tensorflow as tf\n",
        "\n",
        "tf.random.set_seed(42)\n",
        "\n",
        "\n",
        "# complete this linear model in tensorflow\n",
        "def build_model(X):\n",
        "\n",
        "  # layer 1 : input layer\n",
        "  inp = tf.keras.Input((X.shape[1],))\n",
        "\n",
        "  # layer 2 : add the dense layer with 64 units and relu activation\n",
        "  x = tf.keras.layers.Dense(64, activation='relu')(inp)\n",
        "\n",
        "  # layer 3 : add the dropout layer with dropout rate of 0.5\n",
        "  x = tf.keras.layers.Dropout(0.5)(x)\n",
        "  \n",
        "  # layer 4 : add the dense layer with 32 units with tanh activation and with l2 regularization\n",
        "  x = tf.keras.layers.Dense(32, activation='tanh', activity_regularizer=tf.keras.regularizers.l2(0.01))(x)\n",
        "  \n",
        "  # layer 5 : add the dropout layer with dropout rate of 0.5\n",
        "  x = tf.keras.layers.Dropout(0.5)(x)\n",
        "\n",
        "  # layer 6 : add the dense layer with 16 units with tanh activation and with l2 regularization\n",
        "  x = tf.keras.layers.Dense(16, activation='tanh', activity_regularizer=tf.keras.regularizers.l2(0.01))(x)\n",
        "\n",
        "  # layer 7 : add the dropout layer with dropout rate of 0.5\n",
        "  x = tf.keras.layers.Dropout(0.5)(x)\n",
        "\n",
        "  # layer 8 : output layer with units equal to 1 and activation as sigmoid\n",
        "  x = tf.keras.layers.Dense(1, activation='sigmoid')(x)\n",
        "\n",
        "  # use loss as binary crossentropy, optimizer as rmsprop and evaluate model on auc \n",
        "  model = tf.keras.models.Model(inputs=inp, outputs=x)\n",
        "  model.compile(optimizer='rmsprop', loss=tf.keras.losses.BinaryCrossentropy(), metrics=[tf.keras.metrics.AUC()])\n",
        "  return model\n"
      ]
    },
    {
      "cell_type": "code",
      "execution_count": 36,
      "metadata": {
        "id": "Q71CC1pIsx0O",
        "colab": {
          "base_uri": "https://localhost:8080/",
          "height": 1000
        },
        "outputId": "e2726f46-7ce9-4175-b088-c84ba5ad7494"
      },
      "outputs": [
        {
          "output_type": "stream",
          "name": "stdout",
          "text": [
            "Epoch 1/5\n",
            "191/191 [==============================] - 5s 20ms/step - loss: 0.6070 - auc_1: 0.7474\n",
            "Epoch 2/5\n",
            "191/191 [==============================] - 4s 21ms/step - loss: 0.4499 - auc_1: 0.8831\n",
            "Epoch 3/5\n",
            "191/191 [==============================] - 4s 21ms/step - loss: 0.3797 - auc_1: 0.9210\n",
            "Epoch 4/5\n",
            "191/191 [==============================] - 4s 20ms/step - loss: 0.3287 - auc_1: 0.9423\n",
            "Epoch 5/5\n",
            "191/191 [==============================] - 4s 20ms/step - loss: 0.2911 - auc_1: 0.9558\n",
            "48/48 [==============================] - 0s 7ms/step\n",
            "[[731 137]\n",
            " [308 347]]\n",
            "              precision    recall  f1-score   support\n",
            "\n",
            "           0       0.70      0.84      0.77       868\n",
            "           1       0.72      0.53      0.61       655\n",
            "\n",
            "    accuracy                           0.71      1523\n",
            "   macro avg       0.71      0.69      0.69      1523\n",
            "weighted avg       0.71      0.71      0.70      1523\n",
            "\n",
            "48/48 [==============================] - 1s 8ms/step - loss: 0.6899 - auc_1: 0.7056\n",
            "[0.6898760199546814, 0.705566942691803]\n",
            "Epoch 1/5\n",
            "191/191 [==============================] - 5s 21ms/step - loss: 0.5973 - auc_2: 0.7532\n",
            "Epoch 2/5\n",
            "191/191 [==============================] - 4s 20ms/step - loss: 0.4328 - auc_2: 0.8899\n",
            "Epoch 3/5\n",
            "191/191 [==============================] - 4s 20ms/step - loss: 0.3678 - auc_2: 0.9246\n",
            "Epoch 4/5\n",
            "191/191 [==============================] - 4s 21ms/step - loss: 0.3158 - auc_2: 0.9468\n",
            "Epoch 5/5\n",
            "191/191 [==============================] - 4s 21ms/step - loss: 0.2749 - auc_2: 0.9594\n",
            "48/48 [==============================] - 0s 7ms/step\n",
            "[[571 298]\n",
            " [276 378]]\n",
            "              precision    recall  f1-score   support\n",
            "\n",
            "           0       0.67      0.66      0.67       869\n",
            "           1       0.56      0.58      0.57       654\n",
            "\n",
            "    accuracy                           0.62      1523\n",
            "   macro avg       0.62      0.62      0.62      1523\n",
            "weighted avg       0.62      0.62      0.62      1523\n",
            "\n",
            "48/48 [==============================] - 1s 8ms/step - loss: 0.8790 - auc_2: 0.6427\n",
            "[0.8789981007575989, 0.6427340507507324]\n",
            "Epoch 1/5\n",
            "191/191 [==============================] - 6s 27ms/step - loss: 0.6089 - auc_3: 0.7343\n",
            "Epoch 2/5\n",
            "191/191 [==============================] - 5s 25ms/step - loss: 0.4434 - auc_3: 0.8842\n",
            "Epoch 3/5\n",
            "191/191 [==============================] - 4s 22ms/step - loss: 0.3727 - auc_3: 0.9214\n",
            "Epoch 4/5\n",
            "191/191 [==============================] - 4s 21ms/step - loss: 0.3168 - auc_3: 0.9449\n",
            "Epoch 5/5\n",
            "191/191 [==============================] - 4s 21ms/step - loss: 0.2715 - auc_3: 0.9600\n",
            "48/48 [==============================] - 0s 8ms/step\n",
            "[[617 252]\n",
            " [239 415]]\n",
            "              precision    recall  f1-score   support\n",
            "\n",
            "           0       0.72      0.71      0.72       869\n",
            "           1       0.62      0.63      0.63       654\n",
            "\n",
            "    accuracy                           0.68      1523\n",
            "   macro avg       0.67      0.67      0.67      1523\n",
            "weighted avg       0.68      0.68      0.68      1523\n",
            "\n",
            "48/48 [==============================] - 1s 9ms/step - loss: 0.7535 - auc_3: 0.7230\n",
            "[0.753503143787384, 0.7230286598205566]\n",
            "Epoch 1/5\n",
            "191/191 [==============================] - 5s 21ms/step - loss: 0.6086 - auc_4: 0.7376\n",
            "Epoch 2/5\n",
            "191/191 [==============================] - 4s 21ms/step - loss: 0.4447 - auc_4: 0.8854\n",
            "Epoch 3/5\n",
            "191/191 [==============================] - 4s 21ms/step - loss: 0.3836 - auc_4: 0.9193\n",
            "Epoch 4/5\n",
            "191/191 [==============================] - 4s 21ms/step - loss: 0.3325 - auc_4: 0.9406\n",
            "Epoch 5/5\n",
            "191/191 [==============================] - 4s 21ms/step - loss: 0.2909 - auc_4: 0.9552\n",
            "48/48 [==============================] - 0s 7ms/step\n",
            "[[701 167]\n",
            " [314 340]]\n",
            "              precision    recall  f1-score   support\n",
            "\n",
            "           0       0.69      0.81      0.74       868\n",
            "           1       0.67      0.52      0.59       654\n",
            "\n",
            "    accuracy                           0.68      1522\n",
            "   macro avg       0.68      0.66      0.67      1522\n",
            "weighted avg       0.68      0.68      0.68      1522\n",
            "\n",
            "48/48 [==============================] - 1s 8ms/step - loss: 0.7301 - auc_4: 0.6994\n",
            "[0.730115532875061, 0.6993624567985535]\n",
            "Epoch 1/5\n",
            "191/191 [==============================] - 5s 21ms/step - loss: 0.6093 - auc_5: 0.7342\n",
            "Epoch 2/5\n",
            "191/191 [==============================] - 4s 21ms/step - loss: 0.4502 - auc_5: 0.8803\n",
            "Epoch 3/5\n",
            "191/191 [==============================] - 4s 21ms/step - loss: 0.3878 - auc_5: 0.9166\n",
            "Epoch 4/5\n",
            "191/191 [==============================] - 4s 21ms/step - loss: 0.3397 - auc_5: 0.9372\n",
            "Epoch 5/5\n",
            "191/191 [==============================] - 4s 21ms/step - loss: 0.2999 - auc_5: 0.9518\n",
            "48/48 [==============================] - 0s 8ms/step\n",
            "[[583 285]\n",
            " [139 515]]\n",
            "              precision    recall  f1-score   support\n",
            "\n",
            "           0       0.81      0.67      0.73       868\n",
            "           1       0.64      0.79      0.71       654\n",
            "\n",
            "    accuracy                           0.72      1522\n",
            "   macro avg       0.73      0.73      0.72      1522\n",
            "weighted avg       0.74      0.72      0.72      1522\n",
            "\n",
            "48/48 [==============================] - 1s 9ms/step - loss: 0.6043 - auc_5: 0.8216\n",
            "[0.6043165922164917, 0.821617066860199]\n"
          ]
        },
        {
          "output_type": "display_data",
          "data": {
            "text/plain": [
              "<Figure size 432x288 with 1 Axes>"
            ],
            "image/png": "[encoded data removed]"
          },
          "metadata": {
            "needs_background": "light"
          }
        }
      ],
      "source": [
        "from sklearn.model_selection import StratifiedKFold\n",
        "from sklearn.metrics import confusion_matrix, classification_report, roc_curve, auc\n",
        "# Now we will initialise the stratified K-Fold from sklearn with nsplits as 5\n",
        "\n",
        "skf = StratifiedKFold(n_splits=5)\n",
        "\n",
        "# iterate through the train and valid index in splits for 5 folds\n",
        "for train_index, test_index in skf.split(X_cleaned_transformed, y):\n",
        "  # Get X_train, X_valid, y_train, y_valid using indexes\n",
        "  X_train, X_test = X_cleaned_transformed[train_index], X_cleaned_transformed[test_index]\n",
        "  y_train, y_test = y[train_index], y[test_index]\n",
        "  \n",
        "  #call the build_model function and initialize the model\n",
        "  model = build_model(X_train)\n",
        "\n",
        "  # train and validate the model on the count vectors of text which we have created initially for 5 epochs, \n",
        "  # adjust batch size according to your computation power (suggestion use : 16)\n",
        "  model.fit(X_train.toarray(), y_train, batch_size=32, epochs=5)\n",
        "  \n",
        "\n",
        "  # plot the graph between training auc and validation auc\n",
        "  y_pred = model.predict(X_test.toarray())\n",
        "  y_pred_transformed = np.zeros(y_pred.shape)\n",
        "  y_pred_transformed[y_pred >= 0.5] = 1\n",
        "  print(confusion_matrix(y_test, y_pred_transformed))\n",
        "  print(classification_report(y_test, y_pred_transformed))\n",
        "  print(model.evaluate(X_test.toarray(), y_test, verbose=1))\n",
        "\n",
        "  # Compute fpr, tpr, thresholds and roc auc\n",
        "  fpr, tpr, thresholds = roc_curve(y_test, y_pred)\n",
        "  roc_auc = auc(fpr, tpr)\n",
        "  \n",
        "  # Plot ROC curve\n",
        "  plt.plot(fpr, tpr, label='ROC curve (area = %0.3f)' % roc_auc)\n",
        "  plt.plot([0, 1], [0, 1], 'k--')  # random predictions curve\n",
        "  plt.xlim([0.0, 1.0])\n",
        "  plt.ylim([0.0, 1.0])\n",
        "  plt.xlabel('False Positive Rate or (1 - Specifity)')\n",
        "  plt.ylabel('True Positive Rate or (Sensitivity)')\n",
        "  plt.title('Receiver Operating Characteristic')\n",
        "  plt.legend(loc=\"lower right\")\n",
        " "
      ]
    },
    {
      "cell_type": "markdown",
      "metadata": {
        "id": "7ZZKV7OTVKNG"
      },
      "source": [
        "### Q) Comment on the plots. How did it varied across different folds for neural networks?"
      ]
    },
    {
      "cell_type": "markdown",
      "source": [
        "Little surprised at the variation, from a low of 64 to a high of 82. Selection of train/test sets definitely makes a huge difference here."
      ],
      "metadata": {
        "id": "LtP8iOsJN4m-"
      }
    },
    {
      "cell_type": "markdown",
      "metadata": {
        "id": "Z9NCC6iWVH3z"
      },
      "source": [
        "# Building Multinomial Navie Bayes on Countvectors"
      ]
    },
    {
      "cell_type": "code",
      "execution_count": 37,
      "metadata": {
        "id": "KyAZNgsBsxwo",
        "colab": {
          "base_uri": "https://localhost:8080/",
          "height": 989
        },
        "outputId": "32398c27-1895-43c1-e330-5be47699e182"
      },
      "outputs": [
        {
          "output_type": "stream",
          "name": "stdout",
          "text": [
            "[[3323  151]\n",
            " [ 366 2250]]\n",
            "F1 Score:  0.914561762618334\n",
            "Accuracy:  0.9151067323481117\n",
            "[[706 162]\n",
            " [270 385]]\n",
            "F1 Score:  0.7119127415029146\n",
            "Accuracy:  0.716349310571241\n",
            "[[3315  158]\n",
            " [ 329 2288]]\n",
            "F1 Score:  0.9196431022045304\n",
            "Accuracy:  0.9200328407224959\n",
            "[[559 310]\n",
            " [229 425]]\n",
            "F1 Score:  0.6477622277638394\n",
            "Accuracy:  0.6460932370321734\n",
            "[[3339  134]\n",
            " [ 360 2257]]\n",
            "F1 Score:  0.9183311590382132\n",
            "Accuracy:  0.9188834154351396\n",
            "[[590 279]\n",
            " [172 482]]\n",
            "F1 Score:  0.7053567029592783\n",
            "Accuracy:  0.7038739330269206\n",
            "[[3314  160]\n",
            " [ 328 2289]]\n",
            "F1 Score:  0.9194990885946789\n",
            "Accuracy:  0.9198817928090626\n",
            "[[667 201]\n",
            " [241 413]]\n",
            "F1 Score:  0.7082824366916359\n",
            "Accuracy:  0.709592641261498\n",
            "[[3299  175]\n",
            " [ 342 2275]]\n",
            "F1 Score:  0.9147180524196898\n",
            "Accuracy:  0.9151206698407487\n",
            "[[588 280]\n",
            " [112 542]]\n",
            "F1 Score:  0.7433041676014658\n",
            "Accuracy:  0.7424441524310118\n"
          ]
        },
        {
          "output_type": "display_data",
          "data": {
            "text/plain": [
              "<Figure size 432x288 with 1 Axes>"
            ],
            "image/png": "[encoded data removed]"
          },
          "metadata": {
            "needs_background": "light"
          }
        }
      ],
      "source": [
        " # fit the data\n",
        "  \n",
        "  # plot AUC-ROC curve for validation data\n",
        "\n",
        "# iterate through the train and valid index in splits for 5 folds. Use the splits created above.\n",
        "for train_index, test_index in skf.split(X_cleaned_transformed,y):\n",
        "  # Get X_train, X_valid, y_train, y_valid using indexes\n",
        "  X_train, X_test = X_cleaned_transformed[train_index], X_cleaned_transformed[test_index] \n",
        "  y_train, y_test = y[train_index], y[test_index]\n",
        "\n",
        "  # intialise multinomial navie bayes with default parameters\n",
        "  model = MultinomialNB()\n",
        "  # fit the data\n",
        "  model.fit(X_train, y_train)\n",
        "  # plot AUC-ROC curve for validation data\n",
        "  y_pred = model.predict(X_train)\n",
        "  F1_score = f1_score(y_train, y_pred, average='weighted') \n",
        "  Accuracy = accuracy_score(y_train, y_pred)\n",
        "  print(confusion_matrix(y_train, y_pred))\n",
        "  print(\"F1 Score: \", F1_score)\n",
        "  print(\"Accuracy: \", Accuracy)\n",
        "\n",
        "  y_pred = model.predict(X_test)\n",
        "  F1_score = f1_score(y_test, y_pred, average='weighted') \n",
        "  Accuracy = accuracy_score(y_test, y_pred)\n",
        "  print(confusion_matrix(y_test, y_pred))\n",
        "  print(\"F1 Score: \", F1_score)\n",
        "  print(\"Accuracy: \", Accuracy)\n",
        "\n",
        "  # Compute fpr, tpr, thresholds and roc auc\n",
        "  fpr, tpr, thresholds = roc_curve(y_test, y_pred)\n",
        "  roc_auc = auc(fpr, tpr)\n",
        "  \n",
        "  # Plot ROC curve\n",
        "  plt.plot(fpr, tpr, label='ROC curve (area = %0.3f)' % roc_auc)\n",
        "  plt.plot([0, 1], [0, 1], 'k--')  # random predictions curve\n",
        "  plt.xlim([0.0, 1.0])\n",
        "  plt.ylim([0.0, 1.0])\n",
        "  plt.xlabel('False Positive Rate or (1 - Specifity)')\n",
        "  plt.ylabel('True Positive Rate or (Sensitivity)')\n",
        "  plt.title('Receiver Operating Characteristic')\n",
        "  plt.legend(loc=\"lower right\")  "
      ]
    },
    {
      "cell_type": "markdown",
      "metadata": {
        "id": "2eOdlcXOWRj6"
      },
      "source": [
        "### Q) Comment on the plots. How did it varied across different folds for Multinomial Naive Bayes?"
      ]
    },
    {
      "cell_type": "markdown",
      "source": [
        "These results were much more consistent across folds than the neural net results."
      ],
      "metadata": {
        "id": "6mPJOYzkPV6H"
      }
    },
    {
      "cell_type": "markdown",
      "metadata": {
        "id": "4adDDQWeQyGb"
      },
      "source": [
        "## Question 4 Theory Question  \n",
        "\n",
        "What is the difference between Count Vectorizer, TFIDF, Word2Vec and Glove? (5 points)"
      ]
    },
    {
      "cell_type": "markdown",
      "metadata": {
        "id": "cXTRkF6KRB_D"
      },
      "source": [
        "**Answer:**\n",
        "\n",
        "Count vectorizer literally stores just a frequency count of words in documents.\n",
        "\n",
        "TFIDF uses term frequency and inverse term frequency to moderate the importance of a word based on its frequency, but also multiply it by the inverse document frequency (log of the proportion of the total documents over the documents containing that word). This will tend to discount words that appear everywhere and aren't very discriminative.  Words that appear rarely tend to have a high IDF score.\n",
        "\n",
        "Word2Vec and Glove are both neural embeddings.  Word2vec measures the likelihood of two words appearing in a given context, wheras glove measures the probability that two words are likely to appear together."
      ]
    },
    {
      "cell_type": "markdown",
      "metadata": {
        "id": "yQQsqcto79zE"
      },
      "source": [
        "What is the significant difference between the Niave Bayes Implementation using Bag of Words and TF-IDF? (5 points)"
      ]
    },
    {
      "cell_type": "markdown",
      "metadata": {
        "id": "JtiPCTZM8Aua"
      },
      "source": [
        "**Answer:**\n",
        "\n",
        "The most significant difference is that bag of words doesn't care anything about the structure of the document, or even frequencies of words.  It just marks which words occur.\n",
        "\n",
        "TF-IDF is definitely sensitive to how many times a word is used, as well as how many of the documents it appears in."
      ]
    }
  ],
  "metadata": {
    "colab": {
      "collapsed_sections": [],
      "provenance": [],
      "include_colab_link": true
    },
    "kernelspec": {
      "display_name": "Python 3.7.13 ('Vanilla')",
      "language": "python",
      "name": "python3"
    },
    "language_info": {
      "codemirror_mode": {
        "name": "ipython",
        "version": 3
      },
      "file_extension": ".py",
      "mimetype": "text/x-python",
      "name": "python",
      "nbconvert_exporter": "python",
      "pygments_lexer": "ipython3",
      "version": "3.7.13"
    },
    "vscode": {
      "interpreter": {
        "hash": "a3f878581894f74a555fc8875d35c9472ad89d568f695d9daf5c4db1d69898da"
      }
    }
  },
  "nbformat": 4,
  "nbformat_minor": 0
}